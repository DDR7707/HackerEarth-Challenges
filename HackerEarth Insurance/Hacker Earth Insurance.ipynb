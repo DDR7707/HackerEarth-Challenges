{
 "cells": [
  {
   "cell_type": "code",
   "execution_count": null,
   "metadata": {
    "id": "O4G0-A2vJpmr"
   },
   "outputs": [],
   "source": [
    "import numpy as np\n",
    "import pandas as pd\n",
    "import matplotlib.pyplot as plt\n",
    "import tensorflow as tf\n",
    "import keras\n",
    "from keras.models import Sequential\n",
    "from keras.optimizers import Adam\n",
    "from keras.layers import Dense\n",
    "from keras.layers import Flatten, Dropout\n",
    "from keras.utils.np_utils import to_categorical\n",
    "from keras.layers.convolutional import Conv2D, MaxPooling2D\n",
    "import cv2"
   ]
  },
  {
   "cell_type": "code",
   "execution_count": null,
   "metadata": {
    "colab": {
     "base_uri": "https://localhost:8080/",
     "height": 194
    },
    "id": "gyoz6TnjNqoF",
    "outputId": "29f44b40-d07c-41cc-a6bf-7b4635665a2c"
   },
   "outputs": [
    {
     "data": {
      "text/html": [
       "<div>\n",
       "<style scoped>\n",
       "    .dataframe tbody tr th:only-of-type {\n",
       "        vertical-align: middle;\n",
       "    }\n",
       "\n",
       "    .dataframe tbody tr th {\n",
       "        vertical-align: top;\n",
       "    }\n",
       "\n",
       "    .dataframe thead th {\n",
       "        text-align: right;\n",
       "    }\n",
       "</style>\n",
       "<table border=\"1\" class=\"dataframe\">\n",
       "  <thead>\n",
       "    <tr style=\"text-align: right;\">\n",
       "      <th></th>\n",
       "      <th>Image_path</th>\n",
       "      <th>Insurance_company</th>\n",
       "      <th>Cost_of_vehicle</th>\n",
       "      <th>Min_coverage</th>\n",
       "      <th>Expiry_date</th>\n",
       "      <th>Max_coverage</th>\n",
       "      <th>Condition</th>\n",
       "      <th>Amount</th>\n",
       "    </tr>\n",
       "  </thead>\n",
       "  <tbody>\n",
       "    <tr>\n",
       "      <th>0</th>\n",
       "      <td>img_4513976.jpg</td>\n",
       "      <td>BQ</td>\n",
       "      <td>41500.0</td>\n",
       "      <td>1037.5</td>\n",
       "      <td>2026-12-03</td>\n",
       "      <td>36142.68</td>\n",
       "      <td>0</td>\n",
       "      <td>0.0</td>\n",
       "    </tr>\n",
       "    <tr>\n",
       "      <th>1</th>\n",
       "      <td>img_7764995.jpg</td>\n",
       "      <td>BQ</td>\n",
       "      <td>50700.0</td>\n",
       "      <td>1267.5</td>\n",
       "      <td>2025-07-10</td>\n",
       "      <td>12753.00</td>\n",
       "      <td>1</td>\n",
       "      <td>6194.0</td>\n",
       "    </tr>\n",
       "    <tr>\n",
       "      <th>2</th>\n",
       "      <td>img_451308.jpg</td>\n",
       "      <td>A</td>\n",
       "      <td>49500.0</td>\n",
       "      <td>1237.5</td>\n",
       "      <td>2022-08-11</td>\n",
       "      <td>43102.68</td>\n",
       "      <td>0</td>\n",
       "      <td>0.0</td>\n",
       "    </tr>\n",
       "    <tr>\n",
       "      <th>3</th>\n",
       "      <td>img_7768372.jpg</td>\n",
       "      <td>A</td>\n",
       "      <td>33500.0</td>\n",
       "      <td>837.5</td>\n",
       "      <td>2022-08-02</td>\n",
       "      <td>8453.00</td>\n",
       "      <td>1</td>\n",
       "      <td>7699.0</td>\n",
       "    </tr>\n",
       "    <tr>\n",
       "      <th>4</th>\n",
       "      <td>img_7765274.jpg</td>\n",
       "      <td>AC</td>\n",
       "      <td>27600.0</td>\n",
       "      <td>690.0</td>\n",
       "      <td>2026-05-01</td>\n",
       "      <td>6978.00</td>\n",
       "      <td>1</td>\n",
       "      <td>8849.0</td>\n",
       "    </tr>\n",
       "  </tbody>\n",
       "</table>\n",
       "</div>"
      ],
      "text/plain": [
       "        Image_path Insurance_company  ...  Condition  Amount\n",
       "0  img_4513976.jpg                BQ  ...          0     0.0\n",
       "1  img_7764995.jpg                BQ  ...          1  6194.0\n",
       "2   img_451308.jpg                 A  ...          0     0.0\n",
       "3  img_7768372.jpg                 A  ...          1  7699.0\n",
       "4  img_7765274.jpg                AC  ...          1  8849.0\n",
       "\n",
       "[5 rows x 8 columns]"
      ]
     },
     "execution_count": 137,
     "metadata": {
      "tags": []
     },
     "output_type": "execute_result"
    }
   ],
   "source": [
    "df = pd.read_csv(\"/content/drive/MyDrive/Data Files/HackerEarth Insurance/train.csv\" , parse_dates = [\"Expiry_date\"])\n",
    "df.head()"
   ]
  },
  {
   "cell_type": "code",
   "execution_count": null,
   "metadata": {
    "colab": {
     "base_uri": "https://localhost:8080/",
     "height": 194
    },
    "id": "M9LGxAXCRFU7",
    "outputId": "6c4fec43-ebf0-47c7-cb75-5d14674a419b"
   },
   "outputs": [
    {
     "data": {
      "text/html": [
       "<div>\n",
       "<style scoped>\n",
       "    .dataframe tbody tr th:only-of-type {\n",
       "        vertical-align: middle;\n",
       "    }\n",
       "\n",
       "    .dataframe tbody tr th {\n",
       "        vertical-align: top;\n",
       "    }\n",
       "\n",
       "    .dataframe thead th {\n",
       "        text-align: right;\n",
       "    }\n",
       "</style>\n",
       "<table border=\"1\" class=\"dataframe\">\n",
       "  <thead>\n",
       "    <tr style=\"text-align: right;\">\n",
       "      <th></th>\n",
       "      <th>Image_path</th>\n",
       "      <th>Insurance_company</th>\n",
       "      <th>Cost_of_vehicle</th>\n",
       "      <th>Min_coverage</th>\n",
       "      <th>Expiry_date</th>\n",
       "      <th>Max_coverage</th>\n",
       "    </tr>\n",
       "  </thead>\n",
       "  <tbody>\n",
       "    <tr>\n",
       "      <th>0</th>\n",
       "      <td>img_4538519.jpg</td>\n",
       "      <td>B</td>\n",
       "      <td>23600</td>\n",
       "      <td>590.0</td>\n",
       "      <td>2025-04-12</td>\n",
       "      <td>5978.0</td>\n",
       "    </tr>\n",
       "    <tr>\n",
       "      <th>1</th>\n",
       "      <td>img_7766002.jpg</td>\n",
       "      <td>C</td>\n",
       "      <td>28300</td>\n",
       "      <td>707.5</td>\n",
       "      <td>2028-08-24</td>\n",
       "      <td>7153.0</td>\n",
       "    </tr>\n",
       "    <tr>\n",
       "      <th>2</th>\n",
       "      <td>img_4637390.jpg</td>\n",
       "      <td>AC</td>\n",
       "      <td>43700</td>\n",
       "      <td>1092.5</td>\n",
       "      <td>2023-11-28</td>\n",
       "      <td>11003.0</td>\n",
       "    </tr>\n",
       "    <tr>\n",
       "      <th>3</th>\n",
       "      <td>img_4516108.jpg</td>\n",
       "      <td>BB</td>\n",
       "      <td>46100</td>\n",
       "      <td>1152.5</td>\n",
       "      <td>2028-02-04</td>\n",
       "      <td>11603.0</td>\n",
       "    </tr>\n",
       "    <tr>\n",
       "      <th>4</th>\n",
       "      <td>img_4517008.jpg</td>\n",
       "      <td>BB</td>\n",
       "      <td>40700</td>\n",
       "      <td>1017.5</td>\n",
       "      <td>2022-01-03</td>\n",
       "      <td>10253.0</td>\n",
       "    </tr>\n",
       "  </tbody>\n",
       "</table>\n",
       "</div>"
      ],
      "text/plain": [
       "        Image_path Insurance_company  ...  Expiry_date  Max_coverage\n",
       "0  img_4538519.jpg                 B  ...   2025-04-12        5978.0\n",
       "1  img_7766002.jpg                 C  ...   2028-08-24        7153.0\n",
       "2  img_4637390.jpg                AC  ...   2023-11-28       11003.0\n",
       "3  img_4516108.jpg                BB  ...   2028-02-04       11603.0\n",
       "4  img_4517008.jpg                BB  ...   2022-01-03       10253.0\n",
       "\n",
       "[5 rows x 6 columns]"
      ]
     },
     "execution_count": 175,
     "metadata": {
      "tags": []
     },
     "output_type": "execute_result"
    }
   ],
   "source": [
    "tt = pd.read_csv(\"/content/drive/MyDrive/Data Files/HackerEarth Insurance/test.csv\" , parse_dates = [\"Expiry_date\"])\n",
    "tt.head()"
   ]
  },
  {
   "cell_type": "code",
   "execution_count": null,
   "metadata": {
    "colab": {
     "base_uri": "https://localhost:8080/",
     "height": 194
    },
    "id": "u1v3lOqW82gs",
    "outputId": "4a83994c-2cae-4e23-cf78-dd2038fc9d0b"
   },
   "outputs": [
    {
     "data": {
      "text/html": [
       "<div>\n",
       "<style scoped>\n",
       "    .dataframe tbody tr th:only-of-type {\n",
       "        vertical-align: middle;\n",
       "    }\n",
       "\n",
       "    .dataframe tbody tr th {\n",
       "        vertical-align: top;\n",
       "    }\n",
       "\n",
       "    .dataframe thead th {\n",
       "        text-align: right;\n",
       "    }\n",
       "</style>\n",
       "<table border=\"1\" class=\"dataframe\">\n",
       "  <thead>\n",
       "    <tr style=\"text-align: right;\">\n",
       "      <th></th>\n",
       "      <th>Image_path</th>\n",
       "      <th>Condition</th>\n",
       "    </tr>\n",
       "  </thead>\n",
       "  <tbody>\n",
       "    <tr>\n",
       "      <th>0</th>\n",
       "      <td>img_4513976.jpg</td>\n",
       "      <td>0</td>\n",
       "    </tr>\n",
       "    <tr>\n",
       "      <th>1</th>\n",
       "      <td>img_7764995.jpg</td>\n",
       "      <td>1</td>\n",
       "    </tr>\n",
       "    <tr>\n",
       "      <th>2</th>\n",
       "      <td>img_451308.jpg</td>\n",
       "      <td>0</td>\n",
       "    </tr>\n",
       "    <tr>\n",
       "      <th>3</th>\n",
       "      <td>img_7768372.jpg</td>\n",
       "      <td>1</td>\n",
       "    </tr>\n",
       "    <tr>\n",
       "      <th>4</th>\n",
       "      <td>img_7765274.jpg</td>\n",
       "      <td>1</td>\n",
       "    </tr>\n",
       "  </tbody>\n",
       "</table>\n",
       "</div>"
      ],
      "text/plain": [
       "        Image_path  Condition\n",
       "0  img_4513976.jpg          0\n",
       "1  img_7764995.jpg          1\n",
       "2   img_451308.jpg          0\n",
       "3  img_7768372.jpg          1\n",
       "4  img_7765274.jpg          1"
      ]
     },
     "execution_count": 138,
     "metadata": {
      "tags": []
     },
     "output_type": "execute_result"
    }
   ],
   "source": [
    "cn = df[[\"Image_path\" , \"Condition\"]]\n",
    "cn.head()"
   ]
  },
  {
   "cell_type": "code",
   "execution_count": null,
   "metadata": {
    "colab": {
     "base_uri": "https://localhost:8080/",
     "height": 194
    },
    "id": "Dw_tUg_WRP50",
    "outputId": "daf5c675-a906-4ff6-be27-f994ad7e1c6c"
   },
   "outputs": [
    {
     "data": {
      "text/html": [
       "<div>\n",
       "<style scoped>\n",
       "    .dataframe tbody tr th:only-of-type {\n",
       "        vertical-align: middle;\n",
       "    }\n",
       "\n",
       "    .dataframe tbody tr th {\n",
       "        vertical-align: top;\n",
       "    }\n",
       "\n",
       "    .dataframe thead th {\n",
       "        text-align: right;\n",
       "    }\n",
       "</style>\n",
       "<table border=\"1\" class=\"dataframe\">\n",
       "  <thead>\n",
       "    <tr style=\"text-align: right;\">\n",
       "      <th></th>\n",
       "      <th>Image_path</th>\n",
       "    </tr>\n",
       "  </thead>\n",
       "  <tbody>\n",
       "    <tr>\n",
       "      <th>0</th>\n",
       "      <td>img_4538519.jpg</td>\n",
       "    </tr>\n",
       "    <tr>\n",
       "      <th>1</th>\n",
       "      <td>img_7766002.jpg</td>\n",
       "    </tr>\n",
       "    <tr>\n",
       "      <th>2</th>\n",
       "      <td>img_4637390.jpg</td>\n",
       "    </tr>\n",
       "    <tr>\n",
       "      <th>3</th>\n",
       "      <td>img_4516108.jpg</td>\n",
       "    </tr>\n",
       "    <tr>\n",
       "      <th>4</th>\n",
       "      <td>img_4517008.jpg</td>\n",
       "    </tr>\n",
       "  </tbody>\n",
       "</table>\n",
       "</div>"
      ],
      "text/plain": [
       "        Image_path\n",
       "0  img_4538519.jpg\n",
       "1  img_7766002.jpg\n",
       "2  img_4637390.jpg\n",
       "3  img_4516108.jpg\n",
       "4  img_4517008.jpg"
      ]
     },
     "execution_count": 176,
     "metadata": {
      "tags": []
     },
     "output_type": "execute_result"
    }
   ],
   "source": [
    "ttcn = tt[[\"Image_path\"]]\n",
    "ttcn.head()"
   ]
  },
  {
   "cell_type": "code",
   "execution_count": null,
   "metadata": {
    "colab": {
     "base_uri": "https://localhost:8080/",
     "height": 194
    },
    "id": "JkBv_ITF9KyV",
    "outputId": "f047237b-66a4-44d6-88a8-cc86b6b9b5dd"
   },
   "outputs": [
    {
     "data": {
      "text/html": [
       "<div>\n",
       "<style scoped>\n",
       "    .dataframe tbody tr th:only-of-type {\n",
       "        vertical-align: middle;\n",
       "    }\n",
       "\n",
       "    .dataframe tbody tr th {\n",
       "        vertical-align: top;\n",
       "    }\n",
       "\n",
       "    .dataframe thead th {\n",
       "        text-align: right;\n",
       "    }\n",
       "</style>\n",
       "<table border=\"1\" class=\"dataframe\">\n",
       "  <thead>\n",
       "    <tr style=\"text-align: right;\">\n",
       "      <th></th>\n",
       "      <th>Image_path</th>\n",
       "      <th>Condition</th>\n",
       "    </tr>\n",
       "  </thead>\n",
       "  <tbody>\n",
       "    <tr>\n",
       "      <th>0</th>\n",
       "      <td>img_4513976.jpg</td>\n",
       "      <td>0</td>\n",
       "    </tr>\n",
       "    <tr>\n",
       "      <th>1</th>\n",
       "      <td>img_7764995.jpg</td>\n",
       "      <td>1</td>\n",
       "    </tr>\n",
       "    <tr>\n",
       "      <th>2</th>\n",
       "      <td>img_451308.jpg</td>\n",
       "      <td>0</td>\n",
       "    </tr>\n",
       "    <tr>\n",
       "      <th>3</th>\n",
       "      <td>img_7768372.jpg</td>\n",
       "      <td>1</td>\n",
       "    </tr>\n",
       "    <tr>\n",
       "      <th>4</th>\n",
       "      <td>img_7765274.jpg</td>\n",
       "      <td>1</td>\n",
       "    </tr>\n",
       "  </tbody>\n",
       "</table>\n",
       "</div>"
      ],
      "text/plain": [
       "        Image_path  Condition\n",
       "0  img_4513976.jpg          0\n",
       "1  img_7764995.jpg          1\n",
       "2   img_451308.jpg          0\n",
       "3  img_7768372.jpg          1\n",
       "4  img_7765274.jpg          1"
      ]
     },
     "execution_count": 40,
     "metadata": {
      "tags": []
     },
     "output_type": "execute_result"
    }
   ],
   "source": [
    "cn.head()"
   ]
  },
  {
   "cell_type": "code",
   "execution_count": null,
   "metadata": {
    "colab": {
     "base_uri": "https://localhost:8080/",
     "height": 699
    },
    "id": "CQvyVo509Ku7",
    "outputId": "fb1aac5b-7c0c-4b54-f4fb-a101be99675f"
   },
   "outputs": [
    {
     "data": {
      "image/jpeg": "[encoded data removed]",
      "text/plain": [
       "<IPython.core.display.Image object>"
      ]
     },
     "execution_count": 41,
     "metadata": {
      "tags": []
     },
     "output_type": "execute_result"
    }
   ],
   "source": [
    "from IPython.display import display, Image\n",
    "Image(\"/content/drive/MyDrive/Data Files/HackerEarth Insurance/trainImages/img_7768372.jpg\")"
   ]
  },
  {
   "cell_type": "code",
   "execution_count": null,
   "metadata": {
    "colab": {
     "base_uri": "https://localhost:8080/"
    },
    "id": "FXh9ooqV-WWa",
    "outputId": "85306973-7375-4cbf-f587-1138adf57f8e"
   },
   "outputs": [
    {
     "data": {
      "text/plain": [
       "['/content/drive/MyDrive/Data Files/HackerEarth Insurance/trainImages/img_4513976.jpg',\n",
       " '/content/drive/MyDrive/Data Files/HackerEarth Insurance/trainImages/img_7764995.jpg',\n",
       " '/content/drive/MyDrive/Data Files/HackerEarth Insurance/trainImages/img_451308.jpg',\n",
       " '/content/drive/MyDrive/Data Files/HackerEarth Insurance/trainImages/img_7768372.jpg',\n",
       " '/content/drive/MyDrive/Data Files/HackerEarth Insurance/trainImages/img_7765274.jpg']"
      ]
     },
     "execution_count": 42,
     "metadata": {
      "tags": []
     },
     "output_type": "execute_result"
    }
   ],
   "source": [
    "filenames = [\"/content/drive/MyDrive/Data Files/HackerEarth Insurance/trainImages/\" + fname for fname in cn[\"Image_path\"]]\n",
    "filenames[:5]"
   ]
  },
  {
   "cell_type": "code",
   "execution_count": null,
   "metadata": {
    "colab": {
     "base_uri": "https://localhost:8080/"
    },
    "id": "XBvIellKTALn",
    "outputId": "20ee0d6e-8469-46fa-856d-8b581929649b"
   },
   "outputs": [
    {
     "data": {
      "text/plain": [
       "['/content/drive/MyDrive/Data Files/HackerEarth Insurance/testImages/img_4538519.jpg',\n",
       " '/content/drive/MyDrive/Data Files/HackerEarth Insurance/testImages/img_7766002.jpg',\n",
       " '/content/drive/MyDrive/Data Files/HackerEarth Insurance/testImages/img_4637390.jpg',\n",
       " '/content/drive/MyDrive/Data Files/HackerEarth Insurance/testImages/img_4516108.jpg',\n",
       " '/content/drive/MyDrive/Data Files/HackerEarth Insurance/testImages/img_4517008.jpg']"
      ]
     },
     "execution_count": 186,
     "metadata": {
      "tags": []
     },
     "output_type": "execute_result"
    }
   ],
   "source": [
    "testfiles = [\"/content/drive/MyDrive/Data Files/HackerEarth Insurance/testImages/\" + fname for fname in ttcn[\"Image_path\"]]\n",
    "testfiles[:5]"
   ]
  },
  {
   "cell_type": "code",
   "execution_count": null,
   "metadata": {
    "colab": {
     "base_uri": "https://localhost:8080/",
     "height": 200
    },
    "id": "C7o473I3-35Q",
    "outputId": "2298ccb7-6a72-4b90-c75c-fd085df02f71"
   },
   "outputs": [
    {
     "data": {
      "image/jpeg": "[encoded data removed]",
      "text/plain": [
       "<IPython.core.display.Image object>"
      ]
     },
     "execution_count": 43,
     "metadata": {
      "tags": []
     },
     "output_type": "execute_result"
    }
   ],
   "source": [
    "Image(filenames[1398])"
   ]
  },
  {
   "cell_type": "code",
   "execution_count": null,
   "metadata": {
    "colab": {
     "base_uri": "https://localhost:8080/"
    },
    "id": "7PqZwXnjJjgF",
    "outputId": "f415a95e-ded7-4599-d321-5c2169a37cb3"
   },
   "outputs": [
    {
     "data": {
      "text/plain": [
       "1    1300\n",
       "0      99\n",
       "Name: Condition, dtype: int64"
      ]
     },
     "execution_count": 74,
     "metadata": {
      "tags": []
     },
     "output_type": "execute_result"
    }
   ],
   "source": [
    "cn[\"Condition\"].value_counts()"
   ]
  },
  {
   "cell_type": "code",
   "execution_count": null,
   "metadata": {
    "colab": {
     "base_uri": "https://localhost:8080/"
    },
    "id": "USW0QupP-9eu",
    "outputId": "5d901ac9-54da-4e10-b5f2-e33d8034add0"
   },
   "outputs": [
    {
     "data": {
      "text/plain": [
       "array([0, 1, 0, 1, 1])"
      ]
     },
     "execution_count": 44,
     "metadata": {
      "tags": []
     },
     "output_type": "execute_result"
    }
   ],
   "source": [
    "labels = cn[\"Condition\"].to_numpy()\n",
    "labels[:5]"
   ]
  },
  {
   "cell_type": "code",
   "execution_count": null,
   "metadata": {
    "id": "aKyR9Y4S_X3q"
   },
   "outputs": [],
   "source": [
    "X = filenames\n",
    "y = labels"
   ]
  },
  {
   "cell_type": "code",
   "execution_count": null,
   "metadata": {
    "colab": {
     "base_uri": "https://localhost:8080/"
    },
    "id": "9pCUYRRU_0b3",
    "outputId": "b17be3a7-ef39-454b-8233-7dc6bab74a92"
   },
   "outputs": [
    {
     "data": {
      "text/plain": [
       "(683, 1024, 3)"
      ]
     },
     "execution_count": 46,
     "metadata": {
      "tags": []
     },
     "output_type": "execute_result"
    }
   ],
   "source": [
    "from matplotlib.pyplot import imread\n",
    "image = imread(filenames[42])\n",
    "image.shape"
   ]
  },
  {
   "cell_type": "code",
   "execution_count": null,
   "metadata": {
    "colab": {
     "base_uri": "https://localhost:8080/"
    },
    "id": "yAwgj7IqA0ub",
    "outputId": "295882be-06d6-46d9-e47d-e156261c890a"
   },
   "outputs": [
    {
     "data": {
      "text/plain": [
       "array([[[ 17,  18,  10],\n",
       "        [ 38,  39,  31],\n",
       "        [ 53,  54,  48],\n",
       "        ...,\n",
       "        [141, 132, 133],\n",
       "        [144, 135, 136],\n",
       "        [140, 131, 132]],\n",
       "\n",
       "       [[  0,   1,   0],\n",
       "        [ 19,  20,  12],\n",
       "        [ 19,  20,  14],\n",
       "        ...,\n",
       "        [137, 129, 127],\n",
       "        [138, 130, 128],\n",
       "        [135, 127, 125]],\n",
       "\n",
       "       [[  1,   2,   0],\n",
       "        [ 23,  24,  16],\n",
       "        [ 22,  23,  17],\n",
       "        ...,\n",
       "        [137, 129, 127],\n",
       "        [131, 123, 121],\n",
       "        [124, 116, 114]],\n",
       "\n",
       "       ...,\n",
       "\n",
       "       [[183, 180, 187],\n",
       "        [173, 170, 177],\n",
       "        [174, 171, 178],\n",
       "        ...,\n",
       "        [177, 179, 178],\n",
       "        [179, 181, 180],\n",
       "        [177, 179, 178]],\n",
       "\n",
       "       [[179, 171, 169],\n",
       "        [179, 174, 171],\n",
       "        [167, 162, 159],\n",
       "        ...,\n",
       "        [169, 171, 166],\n",
       "        [171, 173, 168],\n",
       "        [170, 172, 167]],\n",
       "\n",
       "       [[170, 162, 160],\n",
       "        [172, 167, 164],\n",
       "        [164, 159, 156],\n",
       "        ...,\n",
       "        [169, 171, 166],\n",
       "        [171, 173, 168],\n",
       "        [170, 172, 167]]], dtype=uint8)"
      ]
     },
     "execution_count": 47,
     "metadata": {
      "tags": []
     },
     "output_type": "execute_result"
    }
   ],
   "source": [
    "image1 = imread(filenames[0])\n",
    "image1"
   ]
  },
  {
   "cell_type": "code",
   "execution_count": null,
   "metadata": {
    "colab": {
     "base_uri": "https://localhost:8080/",
     "height": 266
    },
    "id": "XXQyyGMvBmfn",
    "outputId": "0deb1775-0075-43e6-e46e-99fc3accb1f9"
   },
   "outputs": [
    {
     "data": {
      "text/plain": [
       "(-0.5, 629.5, 417.5, -0.5)"
      ]
     },
     "execution_count": 48,
     "metadata": {
      "tags": []
     },
     "output_type": "execute_result"
    },
    {
     "data": {
      "image/png": "[encoded data removed]",
      "text/plain": [
       "<Figure size 432x288 with 1 Axes>"
      ]
     },
     "metadata": {
      "needs_background": "light",
      "tags": []
     },
     "output_type": "display_data"
    }
   ],
   "source": [
    "plt.imshow(image1)\n",
    "plt.axis(\"off\")"
   ]
  },
  {
   "cell_type": "code",
   "execution_count": null,
   "metadata": {
    "colab": {
     "base_uri": "https://localhost:8080/"
    },
    "id": "jepfRz5BBUvc",
    "outputId": "3f89822e-6670-49ca-e0a8-b1d0a1a29967"
   },
   "outputs": [
    {
     "data": {
      "text/plain": [
       "<tf.Tensor: shape=(418, 630, 3), dtype=uint8, numpy=\n",
       "array([[[ 16,  17,   9],\n",
       "        [ 37,  38,  30],\n",
       "        [ 52,  53,  47],\n",
       "        ...,\n",
       "        [141, 133, 131],\n",
       "        [143, 135, 133],\n",
       "        [139, 131, 129]],\n",
       "\n",
       "       [[  0,   1,   0],\n",
       "        [ 18,  19,  11],\n",
       "        [ 18,  19,  13],\n",
       "        ...,\n",
       "        [137, 129, 127],\n",
       "        [138, 130, 128],\n",
       "        [135, 127, 125]],\n",
       "\n",
       "       [[  0,   1,   0],\n",
       "        [ 23,  24,  16],\n",
       "        [ 22,  23,  17],\n",
       "        ...,\n",
       "        [137, 129, 126],\n",
       "        [131, 123, 120],\n",
       "        [123, 115, 112]],\n",
       "\n",
       "       ...,\n",
       "\n",
       "       [[185, 180, 184],\n",
       "        [172, 170, 173],\n",
       "        [173, 171, 174],\n",
       "        ...,\n",
       "        [177, 179, 176],\n",
       "        [178, 180, 177],\n",
       "        [177, 179, 176]],\n",
       "\n",
       "       [[176, 170, 170],\n",
       "        [177, 173, 172],\n",
       "        [165, 161, 160],\n",
       "        ...,\n",
       "        [167, 172, 166],\n",
       "        [168, 173, 167],\n",
       "        [167, 172, 166]],\n",
       "\n",
       "       [[168, 163, 160],\n",
       "        [172, 167, 164],\n",
       "        [162, 158, 155],\n",
       "        ...,\n",
       "        [167, 172, 165],\n",
       "        [168, 173, 166],\n",
       "        [167, 172, 165]]], dtype=uint8)>"
      ]
     },
     "execution_count": 49,
     "metadata": {
      "tags": []
     },
     "output_type": "execute_result"
    }
   ],
   "source": [
    "image2 = tf.io.read_file(filenames[0])\n",
    "image2 = tf.image.decode_jpeg(image2, channels=3)\n",
    "image2"
   ]
  },
  {
   "cell_type": "code",
   "execution_count": null,
   "metadata": {
    "colab": {
     "base_uri": "https://localhost:8080/",
     "height": 266
    },
    "id": "OADIRUkGB_ip",
    "outputId": "65f48979-51ff-48bc-c520-89c546bb179a"
   },
   "outputs": [
    {
     "data": {
      "text/plain": [
       "(-0.5, 629.5, 417.5, -0.5)"
      ]
     },
     "execution_count": 50,
     "metadata": {
      "tags": []
     },
     "output_type": "execute_result"
    },
    {
     "data": {
      "image/png": "[encoded data removed]",
      "text/plain": [
       "<Figure size 432x288 with 1 Axes>"
      ]
     },
     "metadata": {
      "needs_background": "light",
      "tags": []
     },
     "output_type": "display_data"
    }
   ],
   "source": [
    "plt.imshow(image2)\n",
    "plt.axis(\"off\")"
   ]
  },
  {
   "cell_type": "code",
   "execution_count": null,
   "metadata": {
    "id": "MrXVvwGcCl-O"
   },
   "outputs": [],
   "source": [
    "def grayscale(img):\n",
    "    img = cv2.cvtColor(np.float32(img), cv2.COLOR_BGR2GRAY)\n",
    "    return img\n",
    "\n",
    "def equalize(img):\n",
    "    img = cv2.equalizeHist(img)\n",
    "    return img"
   ]
  },
  {
   "cell_type": "code",
   "execution_count": null,
   "metadata": {
    "id": "FSRoFdzdADVf"
   },
   "outputs": [],
   "source": [
    "def process(image_path):\n",
    "  img = imread(image_path)\n",
    "  img = tf. convert_to_tensor(img)\n",
    "  img = img / 255\n",
    "  img = tf.image.resize(img, size=[224 , 224])\n",
    "  return img"
   ]
  },
  {
   "cell_type": "code",
   "execution_count": null,
   "metadata": {
    "id": "22Nb0pKLEn2t"
   },
   "outputs": [],
   "source": [
    "X = np.array(list(map(process , X)))"
   ]
  },
  {
   "cell_type": "code",
   "execution_count": null,
   "metadata": {
    "id": "ulvE_gyRTRLv"
   },
   "outputs": [],
   "source": [
    "testfiles = np.array(list(map(process , testfiles)))"
   ]
  },
  {
   "cell_type": "code",
   "execution_count": null,
   "metadata": {
    "colab": {
     "base_uri": "https://localhost:8080/"
    },
    "id": "cBqrSN5YIVbC",
    "outputId": "c5ddc768-f9da-4404-a29f-b1eddf72d122"
   },
   "outputs": [
    {
     "data": {
      "text/plain": [
       "(1399, 224, 224, 3)"
      ]
     },
     "execution_count": 66,
     "metadata": {
      "tags": []
     },
     "output_type": "execute_result"
    }
   ],
   "source": [
    "X.shape"
   ]
  },
  {
   "cell_type": "code",
   "execution_count": null,
   "metadata": {
    "colab": {
     "base_uri": "https://localhost:8080/"
    },
    "id": "59zYGjyuTZR_",
    "outputId": "a5dae7c5-1b61-4fcf-c598-af409da0fff7"
   },
   "outputs": [
    {
     "data": {
      "text/plain": [
       "(600, 224, 224, 3)"
      ]
     },
     "execution_count": 189,
     "metadata": {
      "tags": []
     },
     "output_type": "execute_result"
    }
   ],
   "source": [
    "testfiles.shape"
   ]
  },
  {
   "cell_type": "code",
   "execution_count": null,
   "metadata": {
    "colab": {
     "base_uri": "https://localhost:8080/"
    },
    "id": "9VhxB6nQ_jGA",
    "outputId": "b0c32dfc-278a-4ab3-9ed2-c22a64ec7e59"
   },
   "outputs": [
    {
     "data": {
      "text/plain": [
       "(1119, 1119, 280, 280)"
      ]
     },
     "execution_count": 59,
     "metadata": {
      "tags": []
     },
     "output_type": "execute_result"
    }
   ],
   "source": [
    "from sklearn.model_selection import train_test_split\n",
    "X_train , X_test , y_train , y_test = train_test_split(X , y , test_size = 0.2 , random_state = 42)\n",
    "len(X_train), len(y_train), len(X_test), len(y_test)"
   ]
  },
  {
   "cell_type": "code",
   "execution_count": null,
   "metadata": {
    "id": "x65Xsr4BEwxV"
   },
   "outputs": [],
   "source": [
    "from keras.preprocessing.image import ImageDataGenerator\n",
    "\n",
    "datagen = ImageDataGenerator(width_shift_range=0.1,\n",
    "                            height_shift_range=0.1,\n",
    "                            zoom_range=0.2,\n",
    "                            shear_range=0.1,\n",
    "                            rotation_range=10.)\n",
    "\n",
    "datagen.fit(X_train)"
   ]
  },
  {
   "cell_type": "code",
   "execution_count": null,
   "metadata": {
    "id": "LBgZR__FF54x"
   },
   "outputs": [],
   "source": [
    "from keras import backend as K\n",
    "\n",
    "def modified_model():\n",
    "  model = Sequential()\n",
    "  model.add(Conv2D(60, (5, 5), activation='relu'))\n",
    "  model.add(Conv2D(60, (5, 5), activation='relu'))\n",
    "  model.add(MaxPooling2D(pool_size=(2, 2)))\n",
    "  \n",
    "  model.add(Conv2D(30, (3, 3), activation='relu'))\n",
    "  model.add(Conv2D(30, (3, 3), activation='relu'))\n",
    "  model.add(MaxPooling2D(pool_size=(2, 2)))\n",
    "  \n",
    "  model.add(Flatten())\n",
    "  model.add(Dense(500, activation='relu'))\n",
    "  model.add(Dropout(0.5))\n",
    "  model.add(Dense(1, activation='sigmoid'))\n",
    "  \n",
    "  model.compile(optimizer = \"adam\", loss='binary_crossentropy', metrics=[f1_m])\n",
    "  return model\n",
    "\n",
    "def recall_m(y_true, y_pred):\n",
    "    true_positives = K.sum(K.round(K.clip(y_true * y_pred, 0, 1)))\n",
    "    possible_positives = K.sum(K.round(K.clip(y_true, 0, 1)))\n",
    "    recall = true_positives / (possible_positives + K.epsilon())\n",
    "    return recall\n",
    "\n",
    "def precision_m(y_true, y_pred):\n",
    "    true_positives = K.sum(K.round(K.clip(y_true * y_pred, 0, 1)))\n",
    "    predicted_positives = K.sum(K.round(K.clip(y_pred, 0, 1)))\n",
    "    precision = true_positives / (predicted_positives + K.epsilon())\n",
    "    return precision\n",
    "\n",
    "def f1_m(y_true, y_pred):\n",
    "    precision = precision_m(y_true, y_pred)\n",
    "    recall = recall_m(y_true, y_pred)\n",
    "    return 2*((precision*recall)/(precision+recall+K.epsilon()))\n",
    "\n",
    "model = modified_model()"
   ]
  },
  {
   "cell_type": "code",
   "execution_count": null,
   "metadata": {
    "colab": {
     "base_uri": "https://localhost:8080/"
    },
    "id": "xWdM2LKjG8kQ",
    "outputId": "c52a6678-ae65-499e-977b-f0cb7232f9c2"
   },
   "outputs": [
    {
     "name": "stdout",
     "output_type": "stream",
     "text": [
      "Epoch 1/11\n",
      "32/32 [==============================] - 7s 184ms/step - loss: 0.6658 - f1_m: 0.8925 - val_loss: 0.2691 - val_f1_m: 0.9757\n",
      "Epoch 2/11\n",
      "32/32 [==============================] - 6s 178ms/step - loss: 0.2788 - f1_m: 0.9634 - val_loss: 0.1857 - val_f1_m: 0.9757\n",
      "Epoch 3/11\n",
      "32/32 [==============================] - 6s 178ms/step - loss: 0.2543 - f1_m: 0.9666 - val_loss: 0.2721 - val_f1_m: 0.9757\n",
      "Epoch 4/11\n",
      "32/32 [==============================] - 6s 178ms/step - loss: 0.3563 - f1_m: 0.9569 - val_loss: 0.1931 - val_f1_m: 0.9757\n",
      "Epoch 5/11\n",
      "32/32 [==============================] - 6s 177ms/step - loss: 0.2720 - f1_m: 0.9604 - val_loss: 0.2027 - val_f1_m: 0.9757\n",
      "Epoch 6/11\n",
      "32/32 [==============================] - 6s 178ms/step - loss: 0.2551 - f1_m: 0.9628 - val_loss: 0.1924 - val_f1_m: 0.9757\n",
      "Epoch 7/11\n",
      "32/32 [==============================] - 6s 178ms/step - loss: 0.2670 - f1_m: 0.9621 - val_loss: 0.1782 - val_f1_m: 0.9757\n",
      "Epoch 8/11\n",
      "32/32 [==============================] - 6s 178ms/step - loss: 0.2614 - f1_m: 0.9620 - val_loss: 0.1616 - val_f1_m: 0.9757\n",
      "Epoch 9/11\n",
      "32/32 [==============================] - 6s 179ms/step - loss: 0.2428 - f1_m: 0.9596 - val_loss: 0.1781 - val_f1_m: 0.9757\n",
      "Epoch 10/11\n",
      "32/32 [==============================] - 6s 179ms/step - loss: 0.2142 - f1_m: 0.9648 - val_loss: 0.1438 - val_f1_m: 0.9757\n",
      "Epoch 11/11\n",
      "32/32 [==============================] - 6s 178ms/step - loss: 0.1544 - f1_m: 0.9691 - val_loss: 0.1295 - val_f1_m: 0.9757\n"
     ]
    }
   ],
   "source": [
    "tf.random.set_seed(42)\n",
    "# h = model.fit_generator(datagen.flow(X_train, y_train, batch_size=32) , epochs=10 , shuffle = 1)\n",
    "h = model.fit(X_train , y_train , epochs = 15 , validation_split = 0.1 , batch_size = 32  ,shuffle = True)"
   ]
  },
  {
   "cell_type": "code",
   "execution_count": null,
   "metadata": {
    "colab": {
     "base_uri": "https://localhost:8080/",
     "height": 313
    },
    "id": "xq4KZ_x6HZSg",
    "outputId": "8caedbd3-32c1-47b9-b183-ba61774abd38"
   },
   "outputs": [
    {
     "data": {
      "text/plain": [
       "Text(0.5, 0, 'epoch')"
      ]
     },
     "execution_count": 129,
     "metadata": {
      "tags": []
     },
     "output_type": "execute_result"
    },
    {
     "data": {
      "image/png": "[encoded data removed]",
      "text/plain": [
       "<Figure size 432x288 with 1 Axes>"
      ]
     },
     "metadata": {
      "needs_background": "light",
      "tags": []
     },
     "output_type": "display_data"
    }
   ],
   "source": [
    "plt.plot(h.history['f1_m'])\n",
    "plt.plot(h.history['val_f1_m'])\n",
    "plt.legend(['training','test'])\n",
    "plt.title('F1_score')\n",
    "plt.xlabel('epoch')"
   ]
  },
  {
   "cell_type": "code",
   "execution_count": null,
   "metadata": {
    "colab": {
     "base_uri": "https://localhost:8080/",
     "height": 313
    },
    "id": "EYGTXqTwJWDk",
    "outputId": "ee2f75f5-1fca-49e4-de46-1ef7922671f3"
   },
   "outputs": [
    {
     "data": {
      "text/plain": [
       "Text(0.5, 0, 'epoch')"
      ]
     },
     "execution_count": 130,
     "metadata": {
      "tags": []
     },
     "output_type": "execute_result"
    },
    {
     "data": {
      "image/png": "[encoded data removed]",
      "text/plain": [
       "<Figure size 432x288 with 1 Axes>"
      ]
     },
     "metadata": {
      "needs_background": "light",
      "tags": []
     },
     "output_type": "display_data"
    }
   ],
   "source": [
    "plt.plot(h.history['loss'])\n",
    "plt.plot(h.history['val_loss'])\n",
    "plt.title('Loss')\n",
    "plt.xlabel('epoch')"
   ]
  },
  {
   "cell_type": "code",
   "execution_count": null,
   "metadata": {
    "colab": {
     "base_uri": "https://localhost:8080/"
    },
    "id": "Exa8VGgaLlvA",
    "outputId": "5a60f342-3660-47f1-9b5f-37be664b30ca"
   },
   "outputs": [
    {
     "data": {
      "text/plain": [
       "array([1, 1, 1, 1, 1, 1, 1, 1, 1, 1, 1, 1, 1, 1, 1, 1, 1, 1, 1, 1, 1, 1,\n",
       "       1, 1, 1, 1, 0, 1, 1, 1, 1, 1, 1, 1, 1, 1, 1, 1, 1, 1, 1, 1, 1, 1,\n",
       "       1, 1, 1, 1, 1, 1, 1, 1, 1, 1, 1, 1, 1, 1, 1, 1, 1, 1, 1, 1, 1, 1,\n",
       "       1, 1, 1, 1, 1, 1, 1, 1, 0, 1, 1, 1, 1, 1, 1, 1, 1, 1, 1, 1, 1, 1,\n",
       "       1, 1, 1, 1, 1, 1, 1, 1, 1, 1, 1, 1, 1, 1, 1, 1, 1, 1, 1, 1, 1, 1,\n",
       "       1, 1, 1, 1, 1, 1, 1, 1, 1, 1, 1, 1, 1, 1, 1, 1, 1, 1, 1, 1, 1, 1,\n",
       "       1, 1, 1, 1, 1, 1, 1, 1, 1, 1, 1, 1, 1, 1, 1, 1, 1, 1, 1, 1, 1, 1,\n",
       "       1, 0, 1, 1, 1, 1, 1, 0, 1, 1, 1, 1, 1, 1, 1, 1, 1, 1, 1, 1, 1, 1,\n",
       "       1, 1, 1, 1, 1, 1, 1, 1, 1, 1, 1, 1, 1, 1, 1, 0, 1, 1, 1, 1, 1, 1,\n",
       "       1, 1, 1, 1, 1, 1, 1, 1, 1, 1, 1, 1, 1, 1, 1, 1, 1, 1, 1, 1, 1, 1,\n",
       "       1, 1, 1, 1, 1, 1, 1, 1, 1, 1, 1, 1, 1, 1, 1, 1, 1, 1, 1, 1, 1, 1,\n",
       "       1, 1, 1, 1, 1, 1, 1, 1, 1, 1, 1, 1, 1, 1, 1, 1, 1, 1, 1, 1, 1, 1,\n",
       "       1, 1, 1, 1, 1, 1, 1, 1, 1, 1, 1, 1, 1, 1, 1, 1])"
      ]
     },
     "execution_count": 131,
     "metadata": {
      "tags": []
     },
     "output_type": "execute_result"
    }
   ],
   "source": [
    "cnn_preds = model.predict(X_test)\n",
    "cnn_preds = tf.round(cnn_preds)\n",
    "cnn_preds = cnn_preds.numpy()\n",
    "cnn_preds = cnn_preds.flatten().astype(int)\n",
    "cnn_preds"
   ]
  },
  {
   "cell_type": "code",
   "execution_count": null,
   "metadata": {
    "id": "FXVjzK4YJ2bA"
   },
   "outputs": [],
   "source": [
    "from sklearn.metrics import confusion_matrix , classification_report\n",
    "cr = classification_report(y_test , cnn_preds)\n",
    "cm = confusion_matrix(y_test , cnn_preds)"
   ]
  },
  {
   "cell_type": "code",
   "execution_count": null,
   "metadata": {
    "colab": {
     "base_uri": "https://localhost:8080/"
    },
    "id": "PrHzzc_CMnb9",
    "outputId": "ade779db-a16e-4835-fe33-f24e8387d4bb"
   },
   "outputs": [
    {
     "name": "stdout",
     "output_type": "stream",
     "text": [
      "[[  3  17]\n",
      " [  2 258]]\n"
     ]
    }
   ],
   "source": [
    "print(cm)"
   ]
  },
  {
   "cell_type": "code",
   "execution_count": null,
   "metadata": {
    "colab": {
     "base_uri": "https://localhost:8080/"
    },
    "id": "JRg5BD9KMoHI",
    "outputId": "99b21259-ad96-4a29-f4b6-c0a7de03d6ac"
   },
   "outputs": [
    {
     "name": "stdout",
     "output_type": "stream",
     "text": [
      "              precision    recall  f1-score   support\n",
      "\n",
      "           0       0.60      0.15      0.24        20\n",
      "           1       0.94      0.99      0.96       260\n",
      "\n",
      "    accuracy                           0.93       280\n",
      "   macro avg       0.77      0.57      0.60       280\n",
      "weighted avg       0.91      0.93      0.91       280\n",
      "\n"
     ]
    }
   ],
   "source": [
    "print(cr)"
   ]
  },
  {
   "cell_type": "code",
   "execution_count": null,
   "metadata": {
    "colab": {
     "base_uri": "https://localhost:8080/"
    },
    "id": "HLP-XpN2M_4-",
    "outputId": "a5960956-f280-4d56-9ba0-c31d2a9d9bc8"
   },
   "outputs": [
    {
     "data": {
      "text/plain": [
       "93.21428571428572"
      ]
     },
     "execution_count": 135,
     "metadata": {
      "tags": []
     },
     "output_type": "execute_result"
    }
   ],
   "source": [
    "from sklearn import metrics\n",
    "score1 = max(0 , 100 * metrics.f1_score(y_test , cnn_preds , average = \"micro\"))\n",
    "score1"
   ]
  },
  {
   "cell_type": "code",
   "execution_count": null,
   "metadata": {
    "colab": {
     "base_uri": "https://localhost:8080/"
    },
    "id": "ujF0a9uYUDwH",
    "outputId": "15ae15e4-62c7-4064-b728-36f7020a4bed"
   },
   "outputs": [
    {
     "data": {
      "text/plain": [
       "array([1, 1, 1, 1, 1, 1, 1, 1, 1, 1, 1, 1, 1, 1, 1, 1, 1, 1, 1, 1, 1, 1,\n",
       "       1, 1, 1, 1, 1, 1, 1, 1, 1, 1, 1, 1, 1, 1, 1, 1, 1, 1, 1, 1, 1, 1,\n",
       "       1, 1, 1, 1, 1, 1, 1, 1, 1, 1, 1, 1, 1, 1, 1, 1, 1, 1, 1, 1, 1, 1,\n",
       "       1, 1, 1, 1, 1, 1, 1, 1, 1, 1, 1, 1, 1, 1, 1, 1, 1, 1, 1, 1, 1, 1,\n",
       "       1, 1, 1, 1, 1, 1, 1, 1, 1, 1, 1, 1, 1, 1, 1, 1, 1, 1, 1, 1, 1, 1,\n",
       "       1, 1, 1, 1, 1, 1, 1, 1, 1, 1, 1, 1, 1, 1, 1, 1, 1, 1, 1, 1, 1, 1,\n",
       "       1, 1, 1, 1, 1, 1, 1, 1, 1, 1, 1, 1, 1, 1, 1, 1, 1, 1, 1, 1, 1, 1,\n",
       "       1, 1, 1, 1, 1, 1, 1, 1, 1, 1, 1, 1, 1, 1, 1, 1, 1, 1, 1, 1, 1, 1,\n",
       "       1, 1, 1, 1, 1, 1, 1, 1, 1, 1, 1, 1, 1, 1, 1, 1, 1, 1, 1, 1, 1, 1,\n",
       "       1, 1, 1, 1, 1, 1, 1, 1, 1, 1, 1, 1, 1, 1, 1, 1, 1, 1, 1, 1, 1, 1,\n",
       "       1, 1, 1, 1, 1, 1, 1, 1, 1, 1, 1, 1, 1, 1, 1, 1, 1, 1, 1, 1, 1, 1,\n",
       "       1, 1, 1, 1, 1, 1, 1, 1, 1, 1, 1, 1, 1, 1, 1, 1, 1, 1, 1, 1, 1, 1,\n",
       "       1, 1, 1, 1, 1, 1, 1, 1, 1, 1, 1, 1, 1, 1, 1, 1, 1, 1, 1, 1, 1, 1,\n",
       "       1, 1, 1, 1, 1, 1, 1, 1, 1, 1, 1, 1, 1, 0, 1, 1, 1, 1, 1, 1, 1, 1,\n",
       "       1, 1, 1, 1, 1, 1, 1, 1, 1, 1, 1, 1, 1, 1, 1, 1, 1, 0, 1, 1, 1, 1,\n",
       "       1, 1, 1, 1, 1, 1, 1, 1, 1, 1, 1, 1, 1, 1, 1, 1, 1, 1, 1, 1, 1, 1,\n",
       "       1, 1, 1, 1, 1, 1, 1, 1, 1, 1, 1, 1, 1, 1, 1, 1, 1, 1, 1, 1, 1, 1,\n",
       "       1, 1, 1, 1, 1, 1, 1, 1, 1, 1, 1, 1, 1, 1, 1, 1, 1, 1, 1, 1, 1, 1,\n",
       "       1, 1, 1, 1, 1, 1, 1, 1, 1, 1, 1, 1, 1, 1, 1, 1, 1, 1, 1, 1, 1, 1,\n",
       "       1, 1, 1, 1, 1, 1, 1, 1, 1, 1, 1, 1, 1, 1, 1, 1, 1, 1, 1, 1, 1, 1,\n",
       "       1, 1, 0, 1, 1, 1, 1, 1, 1, 1, 1, 1, 1, 1, 1, 1, 1, 1, 1, 1, 1, 1,\n",
       "       1, 1, 1, 1, 1, 1, 1, 1, 1, 1, 1, 1, 1, 1, 1, 1, 1, 1, 1, 1, 1, 1,\n",
       "       1, 1, 1, 1, 1, 1, 1, 1, 1, 1, 1, 1, 1, 0, 1, 0, 1, 1, 1, 1, 1, 1,\n",
       "       1, 1, 1, 1, 1, 1, 1, 1, 1, 1, 1, 1, 1, 1, 1, 1, 1, 1, 1, 1, 1, 1,\n",
       "       1, 1, 1, 1, 1, 1, 1, 1, 1, 1, 1, 1, 1, 1, 1, 1, 1, 1, 1, 1, 1, 1,\n",
       "       1, 1, 1, 1, 1, 1, 1, 1, 1, 1, 1, 1, 1, 1, 1, 1, 1, 1, 1, 1, 1, 1,\n",
       "       1, 1, 1, 1, 1, 1, 1, 1, 1, 1, 1, 1, 1, 1, 1, 1, 1, 1, 1, 1, 1, 1,\n",
       "       1, 1, 1, 1, 1, 1])"
      ]
     },
     "execution_count": 191,
     "metadata": {
      "tags": []
     },
     "output_type": "execute_result"
    }
   ],
   "source": [
    "condition_preds = model.predict(testfiles)\n",
    "condition_preds = tf.round(condition_preds)\n",
    "condition_preds = condition_preds.numpy()\n",
    "condition_preds = condition_preds.flatten().astype(int)\n",
    "condition_preds"
   ]
  },
  {
   "cell_type": "code",
   "execution_count": null,
   "metadata": {
    "id": "8g2zS1gCXK1u"
   },
   "outputs": [],
   "source": [
    "df.drop([\"Image_path\"] , axis = 1 , inplace = True)"
   ]
  },
  {
   "cell_type": "code",
   "execution_count": null,
   "metadata": {
    "id": "x4rFFB92RX5b"
   },
   "outputs": [],
   "source": [
    "tt.drop([\"Image_path\"] , axis = 1 , inplace = True)"
   ]
  },
  {
   "cell_type": "code",
   "execution_count": null,
   "metadata": {
    "colab": {
     "base_uri": "https://localhost:8080/"
    },
    "id": "mWiNvItLXKyM",
    "outputId": "631dea7e-4bdc-4744-914e-3899d3e81e7f"
   },
   "outputs": [
    {
     "name": "stdout",
     "output_type": "stream",
     "text": [
      "<class 'pandas.core.frame.DataFrame'>\n",
      "RangeIndex: 1399 entries, 0 to 1398\n",
      "Data columns (total 7 columns):\n",
      " #   Column             Non-Null Count  Dtype         \n",
      "---  ------             --------------  -----         \n",
      " 0   Insurance_company  1399 non-null   object        \n",
      " 1   Cost_of_vehicle    1310 non-null   float64       \n",
      " 2   Min_coverage       1310 non-null   float64       \n",
      " 3   Expiry_date        1399 non-null   datetime64[ns]\n",
      " 4   Max_coverage       1310 non-null   float64       \n",
      " 5   Condition          1399 non-null   int64         \n",
      " 6   Amount             1388 non-null   float64       \n",
      "dtypes: datetime64[ns](1), float64(4), int64(1), object(1)\n",
      "memory usage: 76.6+ KB\n"
     ]
    }
   ],
   "source": [
    "df.info()"
   ]
  },
  {
   "cell_type": "code",
   "execution_count": null,
   "metadata": {
    "colab": {
     "base_uri": "https://localhost:8080/"
    },
    "id": "SV6kQ9LnRc4F",
    "outputId": "7f0c3f99-12d7-4d2e-8c2c-b089c084e05d"
   },
   "outputs": [
    {
     "name": "stdout",
     "output_type": "stream",
     "text": [
      "<class 'pandas.core.frame.DataFrame'>\n",
      "RangeIndex: 600 entries, 0 to 599\n",
      "Data columns (total 5 columns):\n",
      " #   Column             Non-Null Count  Dtype         \n",
      "---  ------             --------------  -----         \n",
      " 0   Insurance_company  600 non-null    object        \n",
      " 1   Cost_of_vehicle    600 non-null    int64         \n",
      " 2   Min_coverage       600 non-null    float64       \n",
      " 3   Expiry_date        600 non-null    datetime64[ns]\n",
      " 4   Max_coverage       600 non-null    float64       \n",
      "dtypes: datetime64[ns](1), float64(2), int64(1), object(1)\n",
      "memory usage: 23.6+ KB\n"
     ]
    }
   ],
   "source": [
    "tt.info()"
   ]
  },
  {
   "cell_type": "code",
   "execution_count": null,
   "metadata": {
    "colab": {
     "base_uri": "https://localhost:8080/"
    },
    "id": "acFJ0jTqX8f4",
    "outputId": "e00288b1-1f55-4d20-9c27-4fe41abc91c0"
   },
   "outputs": [
    {
     "data": {
      "text/plain": [
       "Insurance_company     0\n",
       "Cost_of_vehicle      89\n",
       "Min_coverage         89\n",
       "Expiry_date           0\n",
       "Max_coverage         89\n",
       "Condition             0\n",
       "Amount               11\n",
       "dtype: int64"
      ]
     },
     "execution_count": 141,
     "metadata": {
      "tags": []
     },
     "output_type": "execute_result"
    }
   ],
   "source": [
    "df.isna().sum()"
   ]
  },
  {
   "cell_type": "code",
   "execution_count": null,
   "metadata": {
    "colab": {
     "base_uri": "https://localhost:8080/"
    },
    "id": "IeQakSleRfGm",
    "outputId": "14577194-3bd1-4cd9-9529-cefd4721bbd4"
   },
   "outputs": [
    {
     "data": {
      "text/plain": [
       "Insurance_company    0\n",
       "Cost_of_vehicle      0\n",
       "Min_coverage         0\n",
       "Expiry_date          0\n",
       "Max_coverage         0\n",
       "dtype: int64"
      ]
     },
     "execution_count": 179,
     "metadata": {
      "tags": []
     },
     "output_type": "execute_result"
    }
   ],
   "source": [
    "tt.isna().sum()"
   ]
  },
  {
   "cell_type": "code",
   "execution_count": null,
   "metadata": {
    "colab": {
     "base_uri": "https://localhost:8080/"
    },
    "id": "h9lkYcw-XKv3",
    "outputId": "90b4a714-9994-49cf-87b3-b01b959d6bde"
   },
   "outputs": [
    {
     "data": {
      "text/plain": [
       "Index(['Insurance_company'], dtype='object')"
      ]
     },
     "execution_count": 142,
     "metadata": {
      "tags": []
     },
     "output_type": "execute_result"
    }
   ],
   "source": [
    "cats = df.select_dtypes(include = [\"object\"]).columns\n",
    "cats"
   ]
  },
  {
   "cell_type": "code",
   "execution_count": null,
   "metadata": {
    "colab": {
     "base_uri": "https://localhost:8080/"
    },
    "id": "zf_OrN8mXKtB",
    "outputId": "b656488f-cfbd-4174-b888-d6a8e2978552"
   },
   "outputs": [
    {
     "data": {
      "text/plain": [
       "Index(['Cost_of_vehicle', 'Min_coverage', 'Expiry_date', 'Max_coverage',\n",
       "       'Condition', 'Amount'],\n",
       "      dtype='object')"
      ]
     },
     "execution_count": 143,
     "metadata": {
      "tags": []
     },
     "output_type": "execute_result"
    }
   ],
   "source": [
    "ints = df.select_dtypes(exclude = [\"object\"]).columns\n",
    "ints"
   ]
  },
  {
   "cell_type": "code",
   "execution_count": null,
   "metadata": {
    "colab": {
     "base_uri": "https://localhost:8080/"
    },
    "id": "uRb-DicvXKq1",
    "outputId": "28b36927-2179-4e03-872e-37b75c6754a6"
   },
   "outputs": [
    {
     "name": "stdout",
     "output_type": "stream",
     "text": [
      "The number of unique values in Insurance_company column is/are 11\n",
      "\n",
      "\n",
      "The unique values in Insurance_company column is/are ['BQ' 'A' 'AC' 'BC' 'DA' 'BB' 'C' 'O' 'B' 'AA' 'RE']\n",
      "\n",
      "\n",
      "The value counts for each value in Insurance_company column is/are :  \n",
      "B     148\n",
      "A     132\n",
      "C     131\n",
      "BQ    131\n",
      "DA    128\n",
      "O     126\n",
      "BB    124\n",
      "AA    123\n",
      "BC    121\n",
      "AC    119\n",
      "RE    116\n",
      "Name: Insurance_company, dtype: int64\n",
      "\n",
      "\n",
      "\n",
      "****************************************************************************************************\n",
      "\n",
      "\n",
      "\n"
     ]
    }
   ],
   "source": [
    "for i in cats:\n",
    "  print(f\"The number of unique values in {i} column is/are {len(df[i].unique())}\")\n",
    "  print(\"\\n\")\n",
    "  print(f\"The unique values in {i} column is/are {df[i].unique()}\")\n",
    "  print(\"\\n\")\n",
    "  print(f\"The value counts for each value in {i} column is/are :  \\n{df[i].value_counts()}\")\n",
    "  print(\"\\n\\n\")\n",
    "  print(\"*\"*100)\n",
    "  print(\"\\n\\n\")"
   ]
  },
  {
   "cell_type": "code",
   "execution_count": null,
   "metadata": {
    "id": "9LjpbK0_XJ4U"
   },
   "outputs": [],
   "source": [
    "df[\"year\"] = df[\"Expiry_date\"].dt.year\n",
    "df[\"month\"] = df[\"Expiry_date\"].dt.month\n",
    "df[\"date\"] = df[\"Expiry_date\"].dt.day"
   ]
  },
  {
   "cell_type": "code",
   "execution_count": null,
   "metadata": {
    "id": "Gatk7vAWRkCQ"
   },
   "outputs": [],
   "source": [
    "tt[\"year\"] = tt[\"Expiry_date\"].dt.year\n",
    "tt[\"month\"] = tt[\"Expiry_date\"].dt.month\n",
    "tt[\"date\"] = tt[\"Expiry_date\"].dt.day"
   ]
  },
  {
   "cell_type": "code",
   "execution_count": null,
   "metadata": {
    "colab": {
     "base_uri": "https://localhost:8080/",
     "height": 194
    },
    "id": "V_RUWDF9Zh_B",
    "outputId": "0e857782-28e3-4852-d2e0-54082f34364e"
   },
   "outputs": [
    {
     "data": {
      "text/html": [
       "<div>\n",
       "<style scoped>\n",
       "    .dataframe tbody tr th:only-of-type {\n",
       "        vertical-align: middle;\n",
       "    }\n",
       "\n",
       "    .dataframe tbody tr th {\n",
       "        vertical-align: top;\n",
       "    }\n",
       "\n",
       "    .dataframe thead th {\n",
       "        text-align: right;\n",
       "    }\n",
       "</style>\n",
       "<table border=\"1\" class=\"dataframe\">\n",
       "  <thead>\n",
       "    <tr style=\"text-align: right;\">\n",
       "      <th></th>\n",
       "      <th>Insurance_company</th>\n",
       "      <th>Cost_of_vehicle</th>\n",
       "      <th>Min_coverage</th>\n",
       "      <th>Max_coverage</th>\n",
       "      <th>Condition</th>\n",
       "      <th>Amount</th>\n",
       "      <th>year</th>\n",
       "      <th>month</th>\n",
       "      <th>date</th>\n",
       "    </tr>\n",
       "  </thead>\n",
       "  <tbody>\n",
       "    <tr>\n",
       "      <th>0</th>\n",
       "      <td>BQ</td>\n",
       "      <td>41500.0</td>\n",
       "      <td>1037.5</td>\n",
       "      <td>36142.68</td>\n",
       "      <td>0</td>\n",
       "      <td>0.0</td>\n",
       "      <td>2026</td>\n",
       "      <td>12</td>\n",
       "      <td>3</td>\n",
       "    </tr>\n",
       "    <tr>\n",
       "      <th>1</th>\n",
       "      <td>BQ</td>\n",
       "      <td>50700.0</td>\n",
       "      <td>1267.5</td>\n",
       "      <td>12753.00</td>\n",
       "      <td>1</td>\n",
       "      <td>6194.0</td>\n",
       "      <td>2025</td>\n",
       "      <td>7</td>\n",
       "      <td>10</td>\n",
       "    </tr>\n",
       "    <tr>\n",
       "      <th>2</th>\n",
       "      <td>A</td>\n",
       "      <td>49500.0</td>\n",
       "      <td>1237.5</td>\n",
       "      <td>43102.68</td>\n",
       "      <td>0</td>\n",
       "      <td>0.0</td>\n",
       "      <td>2022</td>\n",
       "      <td>8</td>\n",
       "      <td>11</td>\n",
       "    </tr>\n",
       "    <tr>\n",
       "      <th>3</th>\n",
       "      <td>A</td>\n",
       "      <td>33500.0</td>\n",
       "      <td>837.5</td>\n",
       "      <td>8453.00</td>\n",
       "      <td>1</td>\n",
       "      <td>7699.0</td>\n",
       "      <td>2022</td>\n",
       "      <td>8</td>\n",
       "      <td>2</td>\n",
       "    </tr>\n",
       "    <tr>\n",
       "      <th>4</th>\n",
       "      <td>AC</td>\n",
       "      <td>27600.0</td>\n",
       "      <td>690.0</td>\n",
       "      <td>6978.00</td>\n",
       "      <td>1</td>\n",
       "      <td>8849.0</td>\n",
       "      <td>2026</td>\n",
       "      <td>5</td>\n",
       "      <td>1</td>\n",
       "    </tr>\n",
       "  </tbody>\n",
       "</table>\n",
       "</div>"
      ],
      "text/plain": [
       "  Insurance_company  Cost_of_vehicle  Min_coverage  ...  year  month  date\n",
       "0                BQ          41500.0        1037.5  ...  2026     12     3\n",
       "1                BQ          50700.0        1267.5  ...  2025      7    10\n",
       "2                 A          49500.0        1237.5  ...  2022      8    11\n",
       "3                 A          33500.0         837.5  ...  2022      8     2\n",
       "4                AC          27600.0         690.0  ...  2026      5     1\n",
       "\n",
       "[5 rows x 9 columns]"
      ]
     },
     "execution_count": 146,
     "metadata": {
      "tags": []
     },
     "output_type": "execute_result"
    }
   ],
   "source": [
    "df.drop([\"Expiry_date\"] , axis = 1 , inplace = True)\n",
    "df.head()"
   ]
  },
  {
   "cell_type": "code",
   "execution_count": null,
   "metadata": {
    "colab": {
     "base_uri": "https://localhost:8080/",
     "height": 194
    },
    "id": "O7_qiwY5RpxJ",
    "outputId": "e473fa75-ddf0-4cbb-989b-93886d752a06"
   },
   "outputs": [
    {
     "data": {
      "text/html": [
       "<div>\n",
       "<style scoped>\n",
       "    .dataframe tbody tr th:only-of-type {\n",
       "        vertical-align: middle;\n",
       "    }\n",
       "\n",
       "    .dataframe tbody tr th {\n",
       "        vertical-align: top;\n",
       "    }\n",
       "\n",
       "    .dataframe thead th {\n",
       "        text-align: right;\n",
       "    }\n",
       "</style>\n",
       "<table border=\"1\" class=\"dataframe\">\n",
       "  <thead>\n",
       "    <tr style=\"text-align: right;\">\n",
       "      <th></th>\n",
       "      <th>Insurance_company</th>\n",
       "      <th>Cost_of_vehicle</th>\n",
       "      <th>Min_coverage</th>\n",
       "      <th>Max_coverage</th>\n",
       "      <th>year</th>\n",
       "      <th>month</th>\n",
       "      <th>date</th>\n",
       "    </tr>\n",
       "  </thead>\n",
       "  <tbody>\n",
       "    <tr>\n",
       "      <th>0</th>\n",
       "      <td>B</td>\n",
       "      <td>23600</td>\n",
       "      <td>590.0</td>\n",
       "      <td>5978.0</td>\n",
       "      <td>2025</td>\n",
       "      <td>4</td>\n",
       "      <td>12</td>\n",
       "    </tr>\n",
       "    <tr>\n",
       "      <th>1</th>\n",
       "      <td>C</td>\n",
       "      <td>28300</td>\n",
       "      <td>707.5</td>\n",
       "      <td>7153.0</td>\n",
       "      <td>2028</td>\n",
       "      <td>8</td>\n",
       "      <td>24</td>\n",
       "    </tr>\n",
       "    <tr>\n",
       "      <th>2</th>\n",
       "      <td>AC</td>\n",
       "      <td>43700</td>\n",
       "      <td>1092.5</td>\n",
       "      <td>11003.0</td>\n",
       "      <td>2023</td>\n",
       "      <td>11</td>\n",
       "      <td>28</td>\n",
       "    </tr>\n",
       "    <tr>\n",
       "      <th>3</th>\n",
       "      <td>BB</td>\n",
       "      <td>46100</td>\n",
       "      <td>1152.5</td>\n",
       "      <td>11603.0</td>\n",
       "      <td>2028</td>\n",
       "      <td>2</td>\n",
       "      <td>4</td>\n",
       "    </tr>\n",
       "    <tr>\n",
       "      <th>4</th>\n",
       "      <td>BB</td>\n",
       "      <td>40700</td>\n",
       "      <td>1017.5</td>\n",
       "      <td>10253.0</td>\n",
       "      <td>2022</td>\n",
       "      <td>1</td>\n",
       "      <td>3</td>\n",
       "    </tr>\n",
       "  </tbody>\n",
       "</table>\n",
       "</div>"
      ],
      "text/plain": [
       "  Insurance_company  Cost_of_vehicle  Min_coverage  ...  year  month  date\n",
       "0                 B            23600         590.0  ...  2025      4    12\n",
       "1                 C            28300         707.5  ...  2028      8    24\n",
       "2                AC            43700        1092.5  ...  2023     11    28\n",
       "3                BB            46100        1152.5  ...  2028      2     4\n",
       "4                BB            40700        1017.5  ...  2022      1     3\n",
       "\n",
       "[5 rows x 7 columns]"
      ]
     },
     "execution_count": 181,
     "metadata": {
      "tags": []
     },
     "output_type": "execute_result"
    }
   ],
   "source": [
    "tt.drop([\"Expiry_date\"] , axis = 1 , inplace = True)\n",
    "tt.head()"
   ]
  },
  {
   "cell_type": "code",
   "execution_count": null,
   "metadata": {
    "colab": {
     "base_uri": "https://localhost:8080/"
    },
    "id": "geuuT2hfZpVu",
    "outputId": "ea9f690c-9711-42ce-fa93-a42fcfe5c436"
   },
   "outputs": [
    {
     "data": {
      "text/plain": [
       "2022    210\n",
       "2028    209\n",
       "2023    196\n",
       "2027    195\n",
       "2026    195\n",
       "2024    188\n",
       "2025    170\n",
       "2021     36\n",
       "Name: year, dtype: int64"
      ]
     },
     "execution_count": 147,
     "metadata": {
      "tags": []
     },
     "output_type": "execute_result"
    }
   ],
   "source": [
    "df[\"year\"].value_counts()"
   ]
  },
  {
   "cell_type": "code",
   "execution_count": null,
   "metadata": {
    "colab": {
     "base_uri": "https://localhost:8080/"
    },
    "id": "Wq_ZohmKZ7Rq",
    "outputId": "634f305c-5660-4677-dedf-e9f1750c958b"
   },
   "outputs": [
    {
     "data": {
      "text/plain": [
       "Insurance_company     0\n",
       "Cost_of_vehicle      89\n",
       "Min_coverage         89\n",
       "Max_coverage         89\n",
       "Condition             0\n",
       "Amount               11\n",
       "year                  0\n",
       "month                 0\n",
       "date                  0\n",
       "dtype: int64"
      ]
     },
     "execution_count": 148,
     "metadata": {
      "tags": []
     },
     "output_type": "execute_result"
    }
   ],
   "source": [
    "df.isna().sum()"
   ]
  },
  {
   "cell_type": "code",
   "execution_count": null,
   "metadata": {
    "id": "nzE6zYJLbmdt"
   },
   "outputs": [],
   "source": [
    "df.dropna(axis=0 , subset = [\"Amount\"] , inplace = True)"
   ]
  },
  {
   "cell_type": "code",
   "execution_count": null,
   "metadata": {
    "colab": {
     "base_uri": "https://localhost:8080/"
    },
    "id": "8Mk7nqH5lxnr",
    "outputId": "bb9437a7-0331-43e1-f23d-536757961393"
   },
   "outputs": [
    {
     "data": {
      "text/plain": [
       "Insurance_company     0\n",
       "Cost_of_vehicle      87\n",
       "Min_coverage         87\n",
       "Max_coverage         87\n",
       "Condition             0\n",
       "Amount                0\n",
       "year                  0\n",
       "month                 0\n",
       "date                  0\n",
       "dtype: int64"
      ]
     },
     "execution_count": 150,
     "metadata": {
      "tags": []
     },
     "output_type": "execute_result"
    }
   ],
   "source": [
    "df.isna().sum()"
   ]
  },
  {
   "cell_type": "code",
   "execution_count": null,
   "metadata": {
    "colab": {
     "base_uri": "https://localhost:8080/"
    },
    "id": "KTsV_fiRmoAl",
    "outputId": "f8fa50c2-41cc-47f3-adde-b4d3b2c558e1"
   },
   "outputs": [
    {
     "data": {
      "text/plain": [
       "Index(['Cost_of_vehicle', 'Min_coverage', 'Max_coverage', 'Condition',\n",
       "       'Amount', 'year', 'month', 'date'],\n",
       "      dtype='object')"
      ]
     },
     "execution_count": 151,
     "metadata": {
      "tags": []
     },
     "output_type": "execute_result"
    }
   ],
   "source": [
    "ints = df.select_dtypes(exclude = [\"object\"]).columns\n",
    "ints"
   ]
  },
  {
   "cell_type": "code",
   "execution_count": null,
   "metadata": {
    "id": "aUCsg690mNMs"
   },
   "outputs": [],
   "source": [
    "for i in ints:\n",
    "  df[i].fillna(df[i].median() , inplace = True)"
   ]
  },
  {
   "cell_type": "code",
   "execution_count": null,
   "metadata": {
    "id": "I8qDtHTvsI3g"
   },
   "outputs": [],
   "source": [
    "df[\"mean_coverage\"] = df[\"Min_coverage\"] + df[\"Max_coverage\"]\n",
    "df.drop([\"Min_coverage\" , \"Max_coverage\"] , axis = 1 , inplace = True)"
   ]
  },
  {
   "cell_type": "code",
   "execution_count": null,
   "metadata": {
    "id": "-JLQQVNiRwK9"
   },
   "outputs": [],
   "source": [
    "tt[\"mean_coverage\"] = tt[\"Min_coverage\"] + tt[\"Max_coverage\"]\n",
    "tt.drop([\"Min_coverage\" , \"Max_coverage\"] , axis = 1 , inplace = True)"
   ]
  },
  {
   "cell_type": "code",
   "execution_count": null,
   "metadata": {
    "colab": {
     "base_uri": "https://localhost:8080/"
    },
    "id": "El3_QsiSmkcZ",
    "outputId": "035a78dd-0623-48dc-8c4c-3ff34a44714d"
   },
   "outputs": [
    {
     "data": {
      "text/plain": [
       "Insurance_company    0\n",
       "Cost_of_vehicle      0\n",
       "Condition            0\n",
       "Amount               0\n",
       "year                 0\n",
       "month                0\n",
       "date                 0\n",
       "mean_coverage        0\n",
       "dtype: int64"
      ]
     },
     "execution_count": 154,
     "metadata": {
      "tags": []
     },
     "output_type": "execute_result"
    }
   ],
   "source": [
    "df.isna().sum()"
   ]
  },
  {
   "cell_type": "code",
   "execution_count": null,
   "metadata": {
    "colab": {
     "base_uri": "https://localhost:8080/",
     "height": 214
    },
    "id": "9tJT3ZQOmrG4",
    "outputId": "2f86490c-78ad-47d4-f75e-c5de2f5cf68c"
   },
   "outputs": [
    {
     "data": {
      "text/html": [
       "<div>\n",
       "<style scoped>\n",
       "    .dataframe tbody tr th:only-of-type {\n",
       "        vertical-align: middle;\n",
       "    }\n",
       "\n",
       "    .dataframe tbody tr th {\n",
       "        vertical-align: top;\n",
       "    }\n",
       "\n",
       "    .dataframe thead th {\n",
       "        text-align: right;\n",
       "    }\n",
       "</style>\n",
       "<table border=\"1\" class=\"dataframe\">\n",
       "  <thead>\n",
       "    <tr style=\"text-align: right;\">\n",
       "      <th></th>\n",
       "      <th>Cost_of_vehicle</th>\n",
       "      <th>Condition</th>\n",
       "      <th>Amount</th>\n",
       "      <th>year</th>\n",
       "      <th>date</th>\n",
       "      <th>mean_coverage</th>\n",
       "      <th>Insurance_company_A</th>\n",
       "      <th>Insurance_company_AA</th>\n",
       "      <th>Insurance_company_AC</th>\n",
       "      <th>Insurance_company_B</th>\n",
       "      <th>Insurance_company_BB</th>\n",
       "      <th>Insurance_company_BC</th>\n",
       "      <th>Insurance_company_BQ</th>\n",
       "      <th>Insurance_company_C</th>\n",
       "      <th>Insurance_company_DA</th>\n",
       "      <th>Insurance_company_O</th>\n",
       "      <th>Insurance_company_RE</th>\n",
       "      <th>month_1</th>\n",
       "      <th>month_2</th>\n",
       "      <th>month_3</th>\n",
       "      <th>month_4</th>\n",
       "      <th>month_5</th>\n",
       "      <th>month_6</th>\n",
       "      <th>month_7</th>\n",
       "      <th>month_8</th>\n",
       "      <th>month_9</th>\n",
       "      <th>month_10</th>\n",
       "      <th>month_11</th>\n",
       "      <th>month_12</th>\n",
       "    </tr>\n",
       "  </thead>\n",
       "  <tbody>\n",
       "    <tr>\n",
       "      <th>0</th>\n",
       "      <td>41500.0</td>\n",
       "      <td>0</td>\n",
       "      <td>0.0</td>\n",
       "      <td>2026</td>\n",
       "      <td>3</td>\n",
       "      <td>37180.18</td>\n",
       "      <td>0</td>\n",
       "      <td>0</td>\n",
       "      <td>0</td>\n",
       "      <td>0</td>\n",
       "      <td>0</td>\n",
       "      <td>0</td>\n",
       "      <td>1</td>\n",
       "      <td>0</td>\n",
       "      <td>0</td>\n",
       "      <td>0</td>\n",
       "      <td>0</td>\n",
       "      <td>0</td>\n",
       "      <td>0</td>\n",
       "      <td>0</td>\n",
       "      <td>0</td>\n",
       "      <td>0</td>\n",
       "      <td>0</td>\n",
       "      <td>0</td>\n",
       "      <td>0</td>\n",
       "      <td>0</td>\n",
       "      <td>0</td>\n",
       "      <td>0</td>\n",
       "      <td>1</td>\n",
       "    </tr>\n",
       "    <tr>\n",
       "      <th>1</th>\n",
       "      <td>50700.0</td>\n",
       "      <td>1</td>\n",
       "      <td>6194.0</td>\n",
       "      <td>2025</td>\n",
       "      <td>10</td>\n",
       "      <td>14020.50</td>\n",
       "      <td>0</td>\n",
       "      <td>0</td>\n",
       "      <td>0</td>\n",
       "      <td>0</td>\n",
       "      <td>0</td>\n",
       "      <td>0</td>\n",
       "      <td>1</td>\n",
       "      <td>0</td>\n",
       "      <td>0</td>\n",
       "      <td>0</td>\n",
       "      <td>0</td>\n",
       "      <td>0</td>\n",
       "      <td>0</td>\n",
       "      <td>0</td>\n",
       "      <td>0</td>\n",
       "      <td>0</td>\n",
       "      <td>0</td>\n",
       "      <td>1</td>\n",
       "      <td>0</td>\n",
       "      <td>0</td>\n",
       "      <td>0</td>\n",
       "      <td>0</td>\n",
       "      <td>0</td>\n",
       "    </tr>\n",
       "    <tr>\n",
       "      <th>2</th>\n",
       "      <td>49500.0</td>\n",
       "      <td>0</td>\n",
       "      <td>0.0</td>\n",
       "      <td>2022</td>\n",
       "      <td>11</td>\n",
       "      <td>44340.18</td>\n",
       "      <td>1</td>\n",
       "      <td>0</td>\n",
       "      <td>0</td>\n",
       "      <td>0</td>\n",
       "      <td>0</td>\n",
       "      <td>0</td>\n",
       "      <td>0</td>\n",
       "      <td>0</td>\n",
       "      <td>0</td>\n",
       "      <td>0</td>\n",
       "      <td>0</td>\n",
       "      <td>0</td>\n",
       "      <td>0</td>\n",
       "      <td>0</td>\n",
       "      <td>0</td>\n",
       "      <td>0</td>\n",
       "      <td>0</td>\n",
       "      <td>0</td>\n",
       "      <td>1</td>\n",
       "      <td>0</td>\n",
       "      <td>0</td>\n",
       "      <td>0</td>\n",
       "      <td>0</td>\n",
       "    </tr>\n",
       "    <tr>\n",
       "      <th>3</th>\n",
       "      <td>33500.0</td>\n",
       "      <td>1</td>\n",
       "      <td>7699.0</td>\n",
       "      <td>2022</td>\n",
       "      <td>2</td>\n",
       "      <td>9290.50</td>\n",
       "      <td>1</td>\n",
       "      <td>0</td>\n",
       "      <td>0</td>\n",
       "      <td>0</td>\n",
       "      <td>0</td>\n",
       "      <td>0</td>\n",
       "      <td>0</td>\n",
       "      <td>0</td>\n",
       "      <td>0</td>\n",
       "      <td>0</td>\n",
       "      <td>0</td>\n",
       "      <td>0</td>\n",
       "      <td>0</td>\n",
       "      <td>0</td>\n",
       "      <td>0</td>\n",
       "      <td>0</td>\n",
       "      <td>0</td>\n",
       "      <td>0</td>\n",
       "      <td>1</td>\n",
       "      <td>0</td>\n",
       "      <td>0</td>\n",
       "      <td>0</td>\n",
       "      <td>0</td>\n",
       "    </tr>\n",
       "    <tr>\n",
       "      <th>4</th>\n",
       "      <td>27600.0</td>\n",
       "      <td>1</td>\n",
       "      <td>8849.0</td>\n",
       "      <td>2026</td>\n",
       "      <td>1</td>\n",
       "      <td>7668.00</td>\n",
       "      <td>0</td>\n",
       "      <td>0</td>\n",
       "      <td>1</td>\n",
       "      <td>0</td>\n",
       "      <td>0</td>\n",
       "      <td>0</td>\n",
       "      <td>0</td>\n",
       "      <td>0</td>\n",
       "      <td>0</td>\n",
       "      <td>0</td>\n",
       "      <td>0</td>\n",
       "      <td>0</td>\n",
       "      <td>0</td>\n",
       "      <td>0</td>\n",
       "      <td>0</td>\n",
       "      <td>1</td>\n",
       "      <td>0</td>\n",
       "      <td>0</td>\n",
       "      <td>0</td>\n",
       "      <td>0</td>\n",
       "      <td>0</td>\n",
       "      <td>0</td>\n",
       "      <td>0</td>\n",
       "    </tr>\n",
       "  </tbody>\n",
       "</table>\n",
       "</div>"
      ],
      "text/plain": [
       "   Cost_of_vehicle  Condition  Amount  ...  month_10  month_11  month_12\n",
       "0          41500.0          0     0.0  ...         0         0         1\n",
       "1          50700.0          1  6194.0  ...         0         0         0\n",
       "2          49500.0          0     0.0  ...         0         0         0\n",
       "3          33500.0          1  7699.0  ...         0         0         0\n",
       "4          27600.0          1  8849.0  ...         0         0         0\n",
       "\n",
       "[5 rows x 29 columns]"
      ]
     },
     "execution_count": 155,
     "metadata": {
      "tags": []
     },
     "output_type": "execute_result"
    }
   ],
   "source": [
    "df = pd.get_dummies(df , columns = [\"Insurance_company\" , \"month\"] , prefix = [\"Insurance_company\" , \"month\"])\n",
    "df.head()"
   ]
  },
  {
   "cell_type": "code",
   "execution_count": null,
   "metadata": {
    "colab": {
     "base_uri": "https://localhost:8080/",
     "height": 214
    },
    "id": "tKCBpMdYR2fj",
    "outputId": "c0771469-05bc-47c2-b9b2-aa068081e354"
   },
   "outputs": [
    {
     "data": {
      "text/html": [
       "<div>\n",
       "<style scoped>\n",
       "    .dataframe tbody tr th:only-of-type {\n",
       "        vertical-align: middle;\n",
       "    }\n",
       "\n",
       "    .dataframe tbody tr th {\n",
       "        vertical-align: top;\n",
       "    }\n",
       "\n",
       "    .dataframe thead th {\n",
       "        text-align: right;\n",
       "    }\n",
       "</style>\n",
       "<table border=\"1\" class=\"dataframe\">\n",
       "  <thead>\n",
       "    <tr style=\"text-align: right;\">\n",
       "      <th></th>\n",
       "      <th>Cost_of_vehicle</th>\n",
       "      <th>year</th>\n",
       "      <th>date</th>\n",
       "      <th>mean_coverage</th>\n",
       "      <th>Insurance_company_A</th>\n",
       "      <th>Insurance_company_AA</th>\n",
       "      <th>Insurance_company_AC</th>\n",
       "      <th>Insurance_company_B</th>\n",
       "      <th>Insurance_company_BB</th>\n",
       "      <th>Insurance_company_BC</th>\n",
       "      <th>Insurance_company_BQ</th>\n",
       "      <th>Insurance_company_C</th>\n",
       "      <th>Insurance_company_DA</th>\n",
       "      <th>Insurance_company_O</th>\n",
       "      <th>Insurance_company_RE</th>\n",
       "      <th>month_1</th>\n",
       "      <th>month_2</th>\n",
       "      <th>month_3</th>\n",
       "      <th>month_4</th>\n",
       "      <th>month_5</th>\n",
       "      <th>month_6</th>\n",
       "      <th>month_7</th>\n",
       "      <th>month_8</th>\n",
       "      <th>month_9</th>\n",
       "      <th>month_10</th>\n",
       "      <th>month_11</th>\n",
       "      <th>month_12</th>\n",
       "    </tr>\n",
       "  </thead>\n",
       "  <tbody>\n",
       "    <tr>\n",
       "      <th>0</th>\n",
       "      <td>23600</td>\n",
       "      <td>2025</td>\n",
       "      <td>12</td>\n",
       "      <td>6568.0</td>\n",
       "      <td>0</td>\n",
       "      <td>0</td>\n",
       "      <td>0</td>\n",
       "      <td>1</td>\n",
       "      <td>0</td>\n",
       "      <td>0</td>\n",
       "      <td>0</td>\n",
       "      <td>0</td>\n",
       "      <td>0</td>\n",
       "      <td>0</td>\n",
       "      <td>0</td>\n",
       "      <td>0</td>\n",
       "      <td>0</td>\n",
       "      <td>0</td>\n",
       "      <td>1</td>\n",
       "      <td>0</td>\n",
       "      <td>0</td>\n",
       "      <td>0</td>\n",
       "      <td>0</td>\n",
       "      <td>0</td>\n",
       "      <td>0</td>\n",
       "      <td>0</td>\n",
       "      <td>0</td>\n",
       "    </tr>\n",
       "    <tr>\n",
       "      <th>1</th>\n",
       "      <td>28300</td>\n",
       "      <td>2028</td>\n",
       "      <td>24</td>\n",
       "      <td>7860.5</td>\n",
       "      <td>0</td>\n",
       "      <td>0</td>\n",
       "      <td>0</td>\n",
       "      <td>0</td>\n",
       "      <td>0</td>\n",
       "      <td>0</td>\n",
       "      <td>0</td>\n",
       "      <td>1</td>\n",
       "      <td>0</td>\n",
       "      <td>0</td>\n",
       "      <td>0</td>\n",
       "      <td>0</td>\n",
       "      <td>0</td>\n",
       "      <td>0</td>\n",
       "      <td>0</td>\n",
       "      <td>0</td>\n",
       "      <td>0</td>\n",
       "      <td>0</td>\n",
       "      <td>1</td>\n",
       "      <td>0</td>\n",
       "      <td>0</td>\n",
       "      <td>0</td>\n",
       "      <td>0</td>\n",
       "    </tr>\n",
       "    <tr>\n",
       "      <th>2</th>\n",
       "      <td>43700</td>\n",
       "      <td>2023</td>\n",
       "      <td>28</td>\n",
       "      <td>12095.5</td>\n",
       "      <td>0</td>\n",
       "      <td>0</td>\n",
       "      <td>1</td>\n",
       "      <td>0</td>\n",
       "      <td>0</td>\n",
       "      <td>0</td>\n",
       "      <td>0</td>\n",
       "      <td>0</td>\n",
       "      <td>0</td>\n",
       "      <td>0</td>\n",
       "      <td>0</td>\n",
       "      <td>0</td>\n",
       "      <td>0</td>\n",
       "      <td>0</td>\n",
       "      <td>0</td>\n",
       "      <td>0</td>\n",
       "      <td>0</td>\n",
       "      <td>0</td>\n",
       "      <td>0</td>\n",
       "      <td>0</td>\n",
       "      <td>0</td>\n",
       "      <td>1</td>\n",
       "      <td>0</td>\n",
       "    </tr>\n",
       "    <tr>\n",
       "      <th>3</th>\n",
       "      <td>46100</td>\n",
       "      <td>2028</td>\n",
       "      <td>4</td>\n",
       "      <td>12755.5</td>\n",
       "      <td>0</td>\n",
       "      <td>0</td>\n",
       "      <td>0</td>\n",
       "      <td>0</td>\n",
       "      <td>1</td>\n",
       "      <td>0</td>\n",
       "      <td>0</td>\n",
       "      <td>0</td>\n",
       "      <td>0</td>\n",
       "      <td>0</td>\n",
       "      <td>0</td>\n",
       "      <td>0</td>\n",
       "      <td>1</td>\n",
       "      <td>0</td>\n",
       "      <td>0</td>\n",
       "      <td>0</td>\n",
       "      <td>0</td>\n",
       "      <td>0</td>\n",
       "      <td>0</td>\n",
       "      <td>0</td>\n",
       "      <td>0</td>\n",
       "      <td>0</td>\n",
       "      <td>0</td>\n",
       "    </tr>\n",
       "    <tr>\n",
       "      <th>4</th>\n",
       "      <td>40700</td>\n",
       "      <td>2022</td>\n",
       "      <td>3</td>\n",
       "      <td>11270.5</td>\n",
       "      <td>0</td>\n",
       "      <td>0</td>\n",
       "      <td>0</td>\n",
       "      <td>0</td>\n",
       "      <td>1</td>\n",
       "      <td>0</td>\n",
       "      <td>0</td>\n",
       "      <td>0</td>\n",
       "      <td>0</td>\n",
       "      <td>0</td>\n",
       "      <td>0</td>\n",
       "      <td>1</td>\n",
       "      <td>0</td>\n",
       "      <td>0</td>\n",
       "      <td>0</td>\n",
       "      <td>0</td>\n",
       "      <td>0</td>\n",
       "      <td>0</td>\n",
       "      <td>0</td>\n",
       "      <td>0</td>\n",
       "      <td>0</td>\n",
       "      <td>0</td>\n",
       "      <td>0</td>\n",
       "    </tr>\n",
       "  </tbody>\n",
       "</table>\n",
       "</div>"
      ],
      "text/plain": [
       "   Cost_of_vehicle  year  date  ...  month_10  month_11  month_12\n",
       "0            23600  2025    12  ...         0         0         0\n",
       "1            28300  2028    24  ...         0         0         0\n",
       "2            43700  2023    28  ...         0         1         0\n",
       "3            46100  2028     4  ...         0         0         0\n",
       "4            40700  2022     3  ...         0         0         0\n",
       "\n",
       "[5 rows x 27 columns]"
      ]
     },
     "execution_count": 183,
     "metadata": {
      "tags": []
     },
     "output_type": "execute_result"
    }
   ],
   "source": [
    "tt = pd.get_dummies(tt , columns = [\"Insurance_company\" , \"month\"] , prefix = [\"Insurance_company\" , \"month\"])\n",
    "tt.head()"
   ]
  },
  {
   "cell_type": "code",
   "execution_count": null,
   "metadata": {
    "id": "ntrndSnCnAqi"
   },
   "outputs": [],
   "source": [
    "df.drop([\"Insurance_company_RE\" , \"month_1\"] , axis = 1 , inplace = True)"
   ]
  },
  {
   "cell_type": "code",
   "execution_count": null,
   "metadata": {
    "id": "87A_DFf-SBdc"
   },
   "outputs": [],
   "source": [
    "tt.drop([\"Insurance_company_RE\" , \"month_1\"] , axis = 1 , inplace = True)"
   ]
  },
  {
   "cell_type": "code",
   "execution_count": null,
   "metadata": {
    "colab": {
     "base_uri": "https://localhost:8080/"
    },
    "id": "hSUNSc-nnLHp",
    "outputId": "feeec1b1-2c8e-45fd-9a2b-094c440c7c57"
   },
   "outputs": [
    {
     "name": "stdout",
     "output_type": "stream",
     "text": [
      "<class 'pandas.core.frame.DataFrame'>\n",
      "Int64Index: 1388 entries, 0 to 1397\n",
      "Data columns (total 27 columns):\n",
      " #   Column                Non-Null Count  Dtype  \n",
      "---  ------                --------------  -----  \n",
      " 0   Cost_of_vehicle       1388 non-null   float64\n",
      " 1   Condition             1388 non-null   int64  \n",
      " 2   Amount                1388 non-null   float64\n",
      " 3   year                  1388 non-null   int64  \n",
      " 4   date                  1388 non-null   int64  \n",
      " 5   mean_coverage         1388 non-null   float64\n",
      " 6   Insurance_company_A   1388 non-null   uint8  \n",
      " 7   Insurance_company_AA  1388 non-null   uint8  \n",
      " 8   Insurance_company_AC  1388 non-null   uint8  \n",
      " 9   Insurance_company_B   1388 non-null   uint8  \n",
      " 10  Insurance_company_BB  1388 non-null   uint8  \n",
      " 11  Insurance_company_BC  1388 non-null   uint8  \n",
      " 12  Insurance_company_BQ  1388 non-null   uint8  \n",
      " 13  Insurance_company_C   1388 non-null   uint8  \n",
      " 14  Insurance_company_DA  1388 non-null   uint8  \n",
      " 15  Insurance_company_O   1388 non-null   uint8  \n",
      " 16  month_2               1388 non-null   uint8  \n",
      " 17  month_3               1388 non-null   uint8  \n",
      " 18  month_4               1388 non-null   uint8  \n",
      " 19  month_5               1388 non-null   uint8  \n",
      " 20  month_6               1388 non-null   uint8  \n",
      " 21  month_7               1388 non-null   uint8  \n",
      " 22  month_8               1388 non-null   uint8  \n",
      " 23  month_9               1388 non-null   uint8  \n",
      " 24  month_10              1388 non-null   uint8  \n",
      " 25  month_11              1388 non-null   uint8  \n",
      " 26  month_12              1388 non-null   uint8  \n",
      "dtypes: float64(3), int64(3), uint8(21)\n",
      "memory usage: 104.4 KB\n"
     ]
    }
   ],
   "source": [
    "df.info()"
   ]
  },
  {
   "cell_type": "code",
   "execution_count": null,
   "metadata": {
    "id": "9KuG16GinMhi"
   },
   "outputs": [],
   "source": [
    " X = df.drop([\"Amount\"] , axis = 1)\n",
    " y = df[\"Amount\"]"
   ]
  },
  {
   "cell_type": "code",
   "execution_count": null,
   "metadata": {
    "id": "_hcRgcQlnojP"
   },
   "outputs": [],
   "source": [
    "from sklearn.model_selection import train_test_split\n",
    "X_train , X_test , y_train , y_test = train_test_split(X , y , test_size = 0.1 , random_state = 42)"
   ]
  },
  {
   "cell_type": "code",
   "execution_count": null,
   "metadata": {
    "colab": {
     "base_uri": "https://localhost:8080/"
    },
    "id": "xeCsrTGLnUlS",
    "outputId": "e5c52c35-a013-41ef-ea69-d483bc83dae6"
   },
   "outputs": [
    {
     "name": "stderr",
     "output_type": "stream",
     "text": [
      "/usr/local/lib/python3.7/dist-packages/ipykernel_launcher.py:5: SettingWithCopyWarning: \n",
      "A value is trying to be set on a copy of a slice from a DataFrame.\n",
      "Try using .loc[row_indexer,col_indexer] = value instead\n",
      "\n",
      "See the caveats in the documentation: https://pandas.pydata.org/pandas-docs/stable/user_guide/indexing.html#returning-a-view-versus-a-copy\n",
      "  \"\"\"\n",
      "/usr/local/lib/python3.7/dist-packages/pandas/core/indexing.py:1734: SettingWithCopyWarning: \n",
      "A value is trying to be set on a copy of a slice from a DataFrame.\n",
      "Try using .loc[row_indexer,col_indexer] = value instead\n",
      "\n",
      "See the caveats in the documentation: https://pandas.pydata.org/pandas-docs/stable/user_guide/indexing.html#returning-a-view-versus-a-copy\n",
      "  isetter(loc, value[:, i].tolist())\n",
      "/usr/local/lib/python3.7/dist-packages/ipykernel_launcher.py:6: SettingWithCopyWarning: \n",
      "A value is trying to be set on a copy of a slice from a DataFrame.\n",
      "Try using .loc[row_indexer,col_indexer] = value instead\n",
      "\n",
      "See the caveats in the documentation: https://pandas.pydata.org/pandas-docs/stable/user_guide/indexing.html#returning-a-view-versus-a-copy\n",
      "  \n",
      "/usr/local/lib/python3.7/dist-packages/pandas/core/indexing.py:1734: SettingWithCopyWarning: \n",
      "A value is trying to be set on a copy of a slice from a DataFrame.\n",
      "Try using .loc[row_indexer,col_indexer] = value instead\n",
      "\n",
      "See the caveats in the documentation: https://pandas.pydata.org/pandas-docs/stable/user_guide/indexing.html#returning-a-view-versus-a-copy\n",
      "  isetter(loc, value[:, i].tolist())\n"
     ]
    }
   ],
   "source": [
    "from sklearn.preprocessing import StandardScaler\n",
    "scaler = StandardScaler()\n",
    "cols = [\"Cost_of_vehicle\" , \"year\" , \"date\"]\n",
    "scaler.fit(X_train[cols])\n",
    "X_train[cols] = scaler.transform(X_train[cols])\n",
    "X_test[cols] = scaler.transform(X_test[cols])"
   ]
  },
  {
   "cell_type": "code",
   "execution_count": null,
   "metadata": {
    "colab": {
     "base_uri": "https://localhost:8080/",
     "height": 214
    },
    "id": "MrLo7nkgUzLl",
    "outputId": "ab7cafa5-c854-4160-8016-df77b69804c5"
   },
   "outputs": [
    {
     "data": {
      "text/html": [
       "<div>\n",
       "<style scoped>\n",
       "    .dataframe tbody tr th:only-of-type {\n",
       "        vertical-align: middle;\n",
       "    }\n",
       "\n",
       "    .dataframe tbody tr th {\n",
       "        vertical-align: top;\n",
       "    }\n",
       "\n",
       "    .dataframe thead th {\n",
       "        text-align: right;\n",
       "    }\n",
       "</style>\n",
       "<table border=\"1\" class=\"dataframe\">\n",
       "  <thead>\n",
       "    <tr style=\"text-align: right;\">\n",
       "      <th></th>\n",
       "      <th>Cost_of_vehicle</th>\n",
       "      <th>year</th>\n",
       "      <th>date</th>\n",
       "      <th>mean_coverage</th>\n",
       "      <th>Insurance_company_A</th>\n",
       "      <th>Insurance_company_AA</th>\n",
       "      <th>Insurance_company_AC</th>\n",
       "      <th>Insurance_company_B</th>\n",
       "      <th>Insurance_company_BB</th>\n",
       "      <th>Insurance_company_BC</th>\n",
       "      <th>Insurance_company_BQ</th>\n",
       "      <th>Insurance_company_C</th>\n",
       "      <th>Insurance_company_DA</th>\n",
       "      <th>Insurance_company_O</th>\n",
       "      <th>month_2</th>\n",
       "      <th>month_3</th>\n",
       "      <th>month_4</th>\n",
       "      <th>month_5</th>\n",
       "      <th>month_6</th>\n",
       "      <th>month_7</th>\n",
       "      <th>month_8</th>\n",
       "      <th>month_9</th>\n",
       "      <th>month_10</th>\n",
       "      <th>month_11</th>\n",
       "      <th>month_12</th>\n",
       "      <th>Condition</th>\n",
       "    </tr>\n",
       "  </thead>\n",
       "  <tbody>\n",
       "    <tr>\n",
       "      <th>0</th>\n",
       "      <td>-1.620279</td>\n",
       "      <td>0.047927</td>\n",
       "      <td>-0.424326</td>\n",
       "      <td>6568.0</td>\n",
       "      <td>0</td>\n",
       "      <td>0</td>\n",
       "      <td>0</td>\n",
       "      <td>1</td>\n",
       "      <td>0</td>\n",
       "      <td>0</td>\n",
       "      <td>0</td>\n",
       "      <td>0</td>\n",
       "      <td>0</td>\n",
       "      <td>0</td>\n",
       "      <td>0</td>\n",
       "      <td>0</td>\n",
       "      <td>1</td>\n",
       "      <td>0</td>\n",
       "      <td>0</td>\n",
       "      <td>0</td>\n",
       "      <td>0</td>\n",
       "      <td>0</td>\n",
       "      <td>0</td>\n",
       "      <td>0</td>\n",
       "      <td>0</td>\n",
       "      <td>1</td>\n",
       "    </tr>\n",
       "    <tr>\n",
       "      <th>1</th>\n",
       "      <td>-1.072547</td>\n",
       "      <td>1.450905</td>\n",
       "      <td>0.983644</td>\n",
       "      <td>7860.5</td>\n",
       "      <td>0</td>\n",
       "      <td>0</td>\n",
       "      <td>0</td>\n",
       "      <td>0</td>\n",
       "      <td>0</td>\n",
       "      <td>0</td>\n",
       "      <td>0</td>\n",
       "      <td>1</td>\n",
       "      <td>0</td>\n",
       "      <td>0</td>\n",
       "      <td>0</td>\n",
       "      <td>0</td>\n",
       "      <td>0</td>\n",
       "      <td>0</td>\n",
       "      <td>0</td>\n",
       "      <td>0</td>\n",
       "      <td>1</td>\n",
       "      <td>0</td>\n",
       "      <td>0</td>\n",
       "      <td>0</td>\n",
       "      <td>0</td>\n",
       "      <td>1</td>\n",
       "    </tr>\n",
       "    <tr>\n",
       "      <th>2</th>\n",
       "      <td>0.722148</td>\n",
       "      <td>-0.887392</td>\n",
       "      <td>1.452967</td>\n",
       "      <td>12095.5</td>\n",
       "      <td>0</td>\n",
       "      <td>0</td>\n",
       "      <td>1</td>\n",
       "      <td>0</td>\n",
       "      <td>0</td>\n",
       "      <td>0</td>\n",
       "      <td>0</td>\n",
       "      <td>0</td>\n",
       "      <td>0</td>\n",
       "      <td>0</td>\n",
       "      <td>0</td>\n",
       "      <td>0</td>\n",
       "      <td>0</td>\n",
       "      <td>0</td>\n",
       "      <td>0</td>\n",
       "      <td>0</td>\n",
       "      <td>0</td>\n",
       "      <td>0</td>\n",
       "      <td>0</td>\n",
       "      <td>1</td>\n",
       "      <td>0</td>\n",
       "      <td>1</td>\n",
       "    </tr>\n",
       "    <tr>\n",
       "      <th>3</th>\n",
       "      <td>1.001840</td>\n",
       "      <td>1.450905</td>\n",
       "      <td>-1.362973</td>\n",
       "      <td>12755.5</td>\n",
       "      <td>0</td>\n",
       "      <td>0</td>\n",
       "      <td>0</td>\n",
       "      <td>0</td>\n",
       "      <td>1</td>\n",
       "      <td>0</td>\n",
       "      <td>0</td>\n",
       "      <td>0</td>\n",
       "      <td>0</td>\n",
       "      <td>0</td>\n",
       "      <td>1</td>\n",
       "      <td>0</td>\n",
       "      <td>0</td>\n",
       "      <td>0</td>\n",
       "      <td>0</td>\n",
       "      <td>0</td>\n",
       "      <td>0</td>\n",
       "      <td>0</td>\n",
       "      <td>0</td>\n",
       "      <td>0</td>\n",
       "      <td>0</td>\n",
       "      <td>1</td>\n",
       "    </tr>\n",
       "    <tr>\n",
       "      <th>4</th>\n",
       "      <td>0.372532</td>\n",
       "      <td>-1.355051</td>\n",
       "      <td>-1.480304</td>\n",
       "      <td>11270.5</td>\n",
       "      <td>0</td>\n",
       "      <td>0</td>\n",
       "      <td>0</td>\n",
       "      <td>0</td>\n",
       "      <td>1</td>\n",
       "      <td>0</td>\n",
       "      <td>0</td>\n",
       "      <td>0</td>\n",
       "      <td>0</td>\n",
       "      <td>0</td>\n",
       "      <td>0</td>\n",
       "      <td>0</td>\n",
       "      <td>0</td>\n",
       "      <td>0</td>\n",
       "      <td>0</td>\n",
       "      <td>0</td>\n",
       "      <td>0</td>\n",
       "      <td>0</td>\n",
       "      <td>0</td>\n",
       "      <td>0</td>\n",
       "      <td>0</td>\n",
       "      <td>1</td>\n",
       "    </tr>\n",
       "  </tbody>\n",
       "</table>\n",
       "</div>"
      ],
      "text/plain": [
       "   Cost_of_vehicle      year      date  ...  month_11  month_12  Condition\n",
       "0        -1.620279  0.047927 -0.424326  ...         0         0          1\n",
       "1        -1.072547  1.450905  0.983644  ...         0         0          1\n",
       "2         0.722148 -0.887392  1.452967  ...         1         0          1\n",
       "3         1.001840  1.450905 -1.362973  ...         0         0          1\n",
       "4         0.372532 -1.355051 -1.480304  ...         0         0          1\n",
       "\n",
       "[5 rows x 26 columns]"
      ]
     },
     "execution_count": 193,
     "metadata": {
      "tags": []
     },
     "output_type": "execute_result"
    }
   ],
   "source": [
    "tt[\"Condition\"] = condition_preds\n",
    "tt[cols] = scaler.transform(tt[cols])\n",
    "tt.head()"
   ]
  },
  {
   "cell_type": "code",
   "execution_count": null,
   "metadata": {
    "colab": {
     "base_uri": "https://localhost:8080/",
     "height": 214
    },
    "id": "m6COkfh1oTtU",
    "outputId": "52dd13ac-c838-47e4-ffa8-f709cadddab1"
   },
   "outputs": [
    {
     "data": {
      "text/html": [
       "<div>\n",
       "<style scoped>\n",
       "    .dataframe tbody tr th:only-of-type {\n",
       "        vertical-align: middle;\n",
       "    }\n",
       "\n",
       "    .dataframe tbody tr th {\n",
       "        vertical-align: top;\n",
       "    }\n",
       "\n",
       "    .dataframe thead th {\n",
       "        text-align: right;\n",
       "    }\n",
       "</style>\n",
       "<table border=\"1\" class=\"dataframe\">\n",
       "  <thead>\n",
       "    <tr style=\"text-align: right;\">\n",
       "      <th></th>\n",
       "      <th>Cost_of_vehicle</th>\n",
       "      <th>Condition</th>\n",
       "      <th>year</th>\n",
       "      <th>date</th>\n",
       "      <th>mean_coverage</th>\n",
       "      <th>Insurance_company_A</th>\n",
       "      <th>Insurance_company_AA</th>\n",
       "      <th>Insurance_company_AC</th>\n",
       "      <th>Insurance_company_B</th>\n",
       "      <th>Insurance_company_BB</th>\n",
       "      <th>Insurance_company_BC</th>\n",
       "      <th>Insurance_company_BQ</th>\n",
       "      <th>Insurance_company_C</th>\n",
       "      <th>Insurance_company_DA</th>\n",
       "      <th>Insurance_company_O</th>\n",
       "      <th>month_2</th>\n",
       "      <th>month_3</th>\n",
       "      <th>month_4</th>\n",
       "      <th>month_5</th>\n",
       "      <th>month_6</th>\n",
       "      <th>month_7</th>\n",
       "      <th>month_8</th>\n",
       "      <th>month_9</th>\n",
       "      <th>month_10</th>\n",
       "      <th>month_11</th>\n",
       "      <th>month_12</th>\n",
       "    </tr>\n",
       "  </thead>\n",
       "  <tbody>\n",
       "    <tr>\n",
       "      <th>1151</th>\n",
       "      <td>-1.282317</td>\n",
       "      <td>1</td>\n",
       "      <td>-1.355051</td>\n",
       "      <td>-1.245642</td>\n",
       "      <td>7365.5</td>\n",
       "      <td>0</td>\n",
       "      <td>0</td>\n",
       "      <td>0</td>\n",
       "      <td>0</td>\n",
       "      <td>1</td>\n",
       "      <td>0</td>\n",
       "      <td>0</td>\n",
       "      <td>0</td>\n",
       "      <td>0</td>\n",
       "      <td>0</td>\n",
       "      <td>0</td>\n",
       "      <td>0</td>\n",
       "      <td>0</td>\n",
       "      <td>0</td>\n",
       "      <td>0</td>\n",
       "      <td>0</td>\n",
       "      <td>0</td>\n",
       "      <td>0</td>\n",
       "      <td>1</td>\n",
       "      <td>0</td>\n",
       "      <td>0</td>\n",
       "    </tr>\n",
       "    <tr>\n",
       "      <th>1056</th>\n",
       "      <td>1.223264</td>\n",
       "      <td>1</td>\n",
       "      <td>-0.887392</td>\n",
       "      <td>0.279659</td>\n",
       "      <td>13278.0</td>\n",
       "      <td>0</td>\n",
       "      <td>0</td>\n",
       "      <td>0</td>\n",
       "      <td>0</td>\n",
       "      <td>1</td>\n",
       "      <td>0</td>\n",
       "      <td>0</td>\n",
       "      <td>0</td>\n",
       "      <td>0</td>\n",
       "      <td>0</td>\n",
       "      <td>0</td>\n",
       "      <td>0</td>\n",
       "      <td>0</td>\n",
       "      <td>0</td>\n",
       "      <td>1</td>\n",
       "      <td>0</td>\n",
       "      <td>0</td>\n",
       "      <td>0</td>\n",
       "      <td>0</td>\n",
       "      <td>0</td>\n",
       "      <td>0</td>\n",
       "    </tr>\n",
       "    <tr>\n",
       "      <th>194</th>\n",
       "      <td>1.153340</td>\n",
       "      <td>1</td>\n",
       "      <td>-0.887392</td>\n",
       "      <td>1.100975</td>\n",
       "      <td>13113.0</td>\n",
       "      <td>1</td>\n",
       "      <td>0</td>\n",
       "      <td>0</td>\n",
       "      <td>0</td>\n",
       "      <td>0</td>\n",
       "      <td>0</td>\n",
       "      <td>0</td>\n",
       "      <td>0</td>\n",
       "      <td>0</td>\n",
       "      <td>0</td>\n",
       "      <td>0</td>\n",
       "      <td>0</td>\n",
       "      <td>0</td>\n",
       "      <td>0</td>\n",
       "      <td>0</td>\n",
       "      <td>0</td>\n",
       "      <td>0</td>\n",
       "      <td>0</td>\n",
       "      <td>0</td>\n",
       "      <td>0</td>\n",
       "      <td>0</td>\n",
       "    </tr>\n",
       "    <tr>\n",
       "      <th>1276</th>\n",
       "      <td>0.675532</td>\n",
       "      <td>1</td>\n",
       "      <td>-0.419733</td>\n",
       "      <td>-0.189665</td>\n",
       "      <td>11985.5</td>\n",
       "      <td>0</td>\n",
       "      <td>0</td>\n",
       "      <td>1</td>\n",
       "      <td>0</td>\n",
       "      <td>0</td>\n",
       "      <td>0</td>\n",
       "      <td>0</td>\n",
       "      <td>0</td>\n",
       "      <td>0</td>\n",
       "      <td>0</td>\n",
       "      <td>0</td>\n",
       "      <td>0</td>\n",
       "      <td>1</td>\n",
       "      <td>0</td>\n",
       "      <td>0</td>\n",
       "      <td>0</td>\n",
       "      <td>0</td>\n",
       "      <td>0</td>\n",
       "      <td>0</td>\n",
       "      <td>0</td>\n",
       "      <td>0</td>\n",
       "    </tr>\n",
       "    <tr>\n",
       "      <th>826</th>\n",
       "      <td>-1.130816</td>\n",
       "      <td>1</td>\n",
       "      <td>-0.887392</td>\n",
       "      <td>1.570298</td>\n",
       "      <td>7723.0</td>\n",
       "      <td>0</td>\n",
       "      <td>0</td>\n",
       "      <td>0</td>\n",
       "      <td>0</td>\n",
       "      <td>1</td>\n",
       "      <td>0</td>\n",
       "      <td>0</td>\n",
       "      <td>0</td>\n",
       "      <td>0</td>\n",
       "      <td>0</td>\n",
       "      <td>0</td>\n",
       "      <td>0</td>\n",
       "      <td>0</td>\n",
       "      <td>0</td>\n",
       "      <td>0</td>\n",
       "      <td>0</td>\n",
       "      <td>0</td>\n",
       "      <td>0</td>\n",
       "      <td>0</td>\n",
       "      <td>0</td>\n",
       "      <td>1</td>\n",
       "    </tr>\n",
       "  </tbody>\n",
       "</table>\n",
       "</div>"
      ],
      "text/plain": [
       "      Cost_of_vehicle  Condition      year  ...  month_10  month_11  month_12\n",
       "1151        -1.282317          1 -1.355051  ...         1         0         0\n",
       "1056         1.223264          1 -0.887392  ...         0         0         0\n",
       "194          1.153340          1 -0.887392  ...         0         0         0\n",
       "1276         0.675532          1 -0.419733  ...         0         0         0\n",
       "826         -1.130816          1 -0.887392  ...         0         0         1\n",
       "\n",
       "[5 rows x 26 columns]"
      ]
     },
     "execution_count": 161,
     "metadata": {
      "tags": []
     },
     "output_type": "execute_result"
    }
   ],
   "source": [
    "X_train.head()"
   ]
  },
  {
   "cell_type": "code",
   "execution_count": null,
   "metadata": {
    "colab": {
     "base_uri": "https://localhost:8080/",
     "height": 214
    },
    "id": "eg4UryY8oV8p",
    "outputId": "45b71c28-8dff-40ba-a144-c6747e2bf027"
   },
   "outputs": [
    {
     "data": {
      "text/html": [
       "<div>\n",
       "<style scoped>\n",
       "    .dataframe tbody tr th:only-of-type {\n",
       "        vertical-align: middle;\n",
       "    }\n",
       "\n",
       "    .dataframe tbody tr th {\n",
       "        vertical-align: top;\n",
       "    }\n",
       "\n",
       "    .dataframe thead th {\n",
       "        text-align: right;\n",
       "    }\n",
       "</style>\n",
       "<table border=\"1\" class=\"dataframe\">\n",
       "  <thead>\n",
       "    <tr style=\"text-align: right;\">\n",
       "      <th></th>\n",
       "      <th>Cost_of_vehicle</th>\n",
       "      <th>Condition</th>\n",
       "      <th>year</th>\n",
       "      <th>date</th>\n",
       "      <th>mean_coverage</th>\n",
       "      <th>Insurance_company_A</th>\n",
       "      <th>Insurance_company_AA</th>\n",
       "      <th>Insurance_company_AC</th>\n",
       "      <th>Insurance_company_B</th>\n",
       "      <th>Insurance_company_BB</th>\n",
       "      <th>Insurance_company_BC</th>\n",
       "      <th>Insurance_company_BQ</th>\n",
       "      <th>Insurance_company_C</th>\n",
       "      <th>Insurance_company_DA</th>\n",
       "      <th>Insurance_company_O</th>\n",
       "      <th>month_2</th>\n",
       "      <th>month_3</th>\n",
       "      <th>month_4</th>\n",
       "      <th>month_5</th>\n",
       "      <th>month_6</th>\n",
       "      <th>month_7</th>\n",
       "      <th>month_8</th>\n",
       "      <th>month_9</th>\n",
       "      <th>month_10</th>\n",
       "      <th>month_11</th>\n",
       "      <th>month_12</th>\n",
       "    </tr>\n",
       "  </thead>\n",
       "  <tbody>\n",
       "    <tr>\n",
       "      <th>657</th>\n",
       "      <td>0.465763</td>\n",
       "      <td>1</td>\n",
       "      <td>-0.887392</td>\n",
       "      <td>-0.776319</td>\n",
       "      <td>11490.5</td>\n",
       "      <td>0</td>\n",
       "      <td>0</td>\n",
       "      <td>0</td>\n",
       "      <td>0</td>\n",
       "      <td>1</td>\n",
       "      <td>0</td>\n",
       "      <td>0</td>\n",
       "      <td>0</td>\n",
       "      <td>0</td>\n",
       "      <td>0</td>\n",
       "      <td>0</td>\n",
       "      <td>0</td>\n",
       "      <td>0</td>\n",
       "      <td>0</td>\n",
       "      <td>1</td>\n",
       "      <td>0</td>\n",
       "      <td>0</td>\n",
       "      <td>0</td>\n",
       "      <td>0</td>\n",
       "      <td>0</td>\n",
       "      <td>0</td>\n",
       "    </tr>\n",
       "    <tr>\n",
       "      <th>210</th>\n",
       "      <td>-0.116931</td>\n",
       "      <td>1</td>\n",
       "      <td>0.983245</td>\n",
       "      <td>-0.424326</td>\n",
       "      <td>10115.5</td>\n",
       "      <td>0</td>\n",
       "      <td>1</td>\n",
       "      <td>0</td>\n",
       "      <td>0</td>\n",
       "      <td>0</td>\n",
       "      <td>0</td>\n",
       "      <td>0</td>\n",
       "      <td>0</td>\n",
       "      <td>0</td>\n",
       "      <td>0</td>\n",
       "      <td>0</td>\n",
       "      <td>0</td>\n",
       "      <td>0</td>\n",
       "      <td>0</td>\n",
       "      <td>0</td>\n",
       "      <td>0</td>\n",
       "      <td>0</td>\n",
       "      <td>1</td>\n",
       "      <td>0</td>\n",
       "      <td>0</td>\n",
       "      <td>0</td>\n",
       "    </tr>\n",
       "    <tr>\n",
       "      <th>429</th>\n",
       "      <td>-1.340586</td>\n",
       "      <td>1</td>\n",
       "      <td>0.047927</td>\n",
       "      <td>1.804960</td>\n",
       "      <td>7228.0</td>\n",
       "      <td>0</td>\n",
       "      <td>1</td>\n",
       "      <td>0</td>\n",
       "      <td>0</td>\n",
       "      <td>0</td>\n",
       "      <td>0</td>\n",
       "      <td>0</td>\n",
       "      <td>0</td>\n",
       "      <td>0</td>\n",
       "      <td>0</td>\n",
       "      <td>0</td>\n",
       "      <td>0</td>\n",
       "      <td>0</td>\n",
       "      <td>0</td>\n",
       "      <td>0</td>\n",
       "      <td>0</td>\n",
       "      <td>0</td>\n",
       "      <td>0</td>\n",
       "      <td>0</td>\n",
       "      <td>0</td>\n",
       "      <td>1</td>\n",
       "    </tr>\n",
       "    <tr>\n",
       "      <th>684</th>\n",
       "      <td>-0.350008</td>\n",
       "      <td>1</td>\n",
       "      <td>-0.419733</td>\n",
       "      <td>0.514321</td>\n",
       "      <td>9565.5</td>\n",
       "      <td>0</td>\n",
       "      <td>0</td>\n",
       "      <td>0</td>\n",
       "      <td>0</td>\n",
       "      <td>0</td>\n",
       "      <td>0</td>\n",
       "      <td>0</td>\n",
       "      <td>1</td>\n",
       "      <td>0</td>\n",
       "      <td>0</td>\n",
       "      <td>0</td>\n",
       "      <td>0</td>\n",
       "      <td>0</td>\n",
       "      <td>0</td>\n",
       "      <td>1</td>\n",
       "      <td>0</td>\n",
       "      <td>0</td>\n",
       "      <td>0</td>\n",
       "      <td>0</td>\n",
       "      <td>0</td>\n",
       "      <td>0</td>\n",
       "    </tr>\n",
       "    <tr>\n",
       "      <th>1282</th>\n",
       "      <td>-0.653008</td>\n",
       "      <td>1</td>\n",
       "      <td>0.983245</td>\n",
       "      <td>-1.480304</td>\n",
       "      <td>8850.5</td>\n",
       "      <td>0</td>\n",
       "      <td>0</td>\n",
       "      <td>0</td>\n",
       "      <td>0</td>\n",
       "      <td>0</td>\n",
       "      <td>0</td>\n",
       "      <td>0</td>\n",
       "      <td>0</td>\n",
       "      <td>1</td>\n",
       "      <td>0</td>\n",
       "      <td>0</td>\n",
       "      <td>0</td>\n",
       "      <td>0</td>\n",
       "      <td>0</td>\n",
       "      <td>0</td>\n",
       "      <td>0</td>\n",
       "      <td>0</td>\n",
       "      <td>0</td>\n",
       "      <td>0</td>\n",
       "      <td>1</td>\n",
       "      <td>0</td>\n",
       "    </tr>\n",
       "  </tbody>\n",
       "</table>\n",
       "</div>"
      ],
      "text/plain": [
       "      Cost_of_vehicle  Condition      year  ...  month_10  month_11  month_12\n",
       "657          0.465763          1 -0.887392  ...         0         0         0\n",
       "210         -0.116931          1  0.983245  ...         0         0         0\n",
       "429         -1.340586          1  0.047927  ...         0         0         1\n",
       "684         -0.350008          1 -0.419733  ...         0         0         0\n",
       "1282        -0.653008          1  0.983245  ...         0         1         0\n",
       "\n",
       "[5 rows x 26 columns]"
      ]
     },
     "execution_count": 162,
     "metadata": {
      "tags": []
     },
     "output_type": "execute_result"
    }
   ],
   "source": [
    "X_test.head()"
   ]
  },
  {
   "cell_type": "code",
   "execution_count": null,
   "metadata": {
    "colab": {
     "base_uri": "https://localhost:8080/"
    },
    "id": "HOA_xhzPoXZE",
    "outputId": "a720225d-aaf7-4650-a917-06e7d132bf7a"
   },
   "outputs": [
    {
     "data": {
      "text/plain": [
       "RandomForestRegressor(bootstrap=True, ccp_alpha=0.0, criterion='mse',\n",
       "                      max_depth=None, max_features='auto', max_leaf_nodes=None,\n",
       "                      max_samples=None, min_impurity_decrease=0.0,\n",
       "                      min_impurity_split=None, min_samples_leaf=1,\n",
       "                      min_samples_split=2, min_weight_fraction_leaf=0.0,\n",
       "                      n_estimators=100, n_jobs=None, oob_score=False,\n",
       "                      random_state=42, verbose=0, warm_start=False)"
      ]
     },
     "execution_count": 163,
     "metadata": {
      "tags": []
     },
     "output_type": "execute_result"
    }
   ],
   "source": [
    "from sklearn.ensemble import RandomForestRegressor\n",
    "random = RandomForestRegressor(random_state = 42)\n",
    "random.fit(X_train , y_train)"
   ]
  },
  {
   "cell_type": "code",
   "execution_count": null,
   "metadata": {
    "id": "aI0jNvPColIy"
   },
   "outputs": [],
   "source": [
    "from sklearn.metrics import r2_score\n",
    "def score(preds):\n",
    "  return max(0 , 100*r2_score(y_test , preds))"
   ]
  },
  {
   "cell_type": "code",
   "execution_count": null,
   "metadata": {
    "colab": {
     "base_uri": "https://localhost:8080/"
    },
    "id": "L1pA6XDKpP60",
    "outputId": "5522b76b-871b-4995-acf6-292c5517fe1a"
   },
   "outputs": [
    {
     "data": {
      "text/plain": [
       "0.8494773011890716"
      ]
     },
     "execution_count": 165,
     "metadata": {
      "tags": []
     },
     "output_type": "execute_result"
    }
   ],
   "source": [
    "random.score(X_train , y_train)"
   ]
  },
  {
   "cell_type": "code",
   "execution_count": null,
   "metadata": {
    "colab": {
     "base_uri": "https://localhost:8080/"
    },
    "id": "50_Pp0YCpJEJ",
    "outputId": "c90f3b6b-bf4b-4127-f9e7-3f02a772b7ef"
   },
   "outputs": [
    {
     "data": {
      "text/plain": [
       "19.26106017065219"
      ]
     },
     "execution_count": 166,
     "metadata": {
      "tags": []
     },
     "output_type": "execute_result"
    }
   ],
   "source": [
    "random_score = score(random.predict(X_test))\n",
    "random_score"
   ]
  },
  {
   "cell_type": "code",
   "execution_count": null,
   "metadata": {
    "colab": {
     "base_uri": "https://localhost:8080/"
    },
    "id": "3Vl1PJ49rfMQ",
    "outputId": "3f8e55b6-a3d9-41ba-e3ce-6347eaf44d34"
   },
   "outputs": [
    {
     "data": {
      "text/plain": [
       "array([0.12708508, 0.09070624, 0.08898205, 0.19220381, 0.18318518,\n",
       "       0.01144629, 0.04000637, 0.01370745, 0.01617459, 0.01049314,\n",
       "       0.01349551, 0.01699628, 0.01297128, 0.01429271, 0.01120664,\n",
       "       0.00935381, 0.04627065, 0.0105172 , 0.01110445, 0.0114343 ,\n",
       "       0.01029628, 0.01142367, 0.01238824, 0.010823  , 0.01131646,\n",
       "       0.01211931])"
      ]
     },
     "execution_count": 167,
     "metadata": {
      "tags": []
     },
     "output_type": "execute_result"
    }
   ],
   "source": [
    "random.feature_importances_"
   ]
  },
  {
   "cell_type": "code",
   "execution_count": null,
   "metadata": {
    "colab": {
     "base_uri": "https://localhost:8080/"
    },
    "id": "2MMA5ju1pXE3",
    "outputId": "d4313953-650c-4e18-b969-a8a2e03cfc6f"
   },
   "outputs": [
    {
     "data": {
      "text/plain": [
       "0.1926106017065219"
      ]
     },
     "execution_count": 168,
     "metadata": {
      "tags": []
     },
     "output_type": "execute_result"
    }
   ],
   "source": [
    "random.score(X_test , y_test)"
   ]
  },
  {
   "cell_type": "code",
   "execution_count": null,
   "metadata": {
    "colab": {
     "base_uri": "https://localhost:8080/"
    },
    "id": "La3XWVSzpbS1",
    "outputId": "4f46fe27-784b-4ec8-db0b-6a121c782463"
   },
   "outputs": [
    {
     "name": "stdout",
     "output_type": "stream",
     "text": [
      "[18:50:39] WARNING: /workspace/src/objective/regression_obj.cu:152: reg:linear is now deprecated in favor of reg:squarederror.\n"
     ]
    },
    {
     "data": {
      "text/plain": [
       "XGBRegressor(base_score=0.5, booster='gbtree', colsample_bylevel=1,\n",
       "             colsample_bynode=1, colsample_bytree=1, gamma=0,\n",
       "             importance_type='gain', learning_rate=0.1, max_delta_step=0,\n",
       "             max_depth=3, min_child_weight=1, missing=None, n_estimators=100,\n",
       "             n_jobs=1, nthread=None, objective='reg:linear', random_state=0,\n",
       "             reg_alpha=0, reg_lambda=1, scale_pos_weight=1, seed=None,\n",
       "             silent=None, subsample=1, verbosity=1)"
      ]
     },
     "execution_count": 169,
     "metadata": {
      "tags": []
     },
     "output_type": "execute_result"
    }
   ],
   "source": [
    "from xgboost import XGBRegressor\n",
    "xgb = XGBRegressor()\n",
    "xgb.fit(X_train , y_train)"
   ]
  },
  {
   "cell_type": "code",
   "execution_count": null,
   "metadata": {
    "colab": {
     "base_uri": "https://localhost:8080/"
    },
    "id": "WLA5RdcMp1P7",
    "outputId": "4e9bc613-6994-4ee4-b938-4817d4cff239"
   },
   "outputs": [
    {
     "data": {
      "text/plain": [
       "0.4128688362055347"
      ]
     },
     "execution_count": 170,
     "metadata": {
      "tags": []
     },
     "output_type": "execute_result"
    }
   ],
   "source": [
    "xgb.score(X_train , y_train)"
   ]
  },
  {
   "cell_type": "code",
   "execution_count": null,
   "metadata": {
    "colab": {
     "base_uri": "https://localhost:8080/"
    },
    "id": "rmL2nngBp5LC",
    "outputId": "d49ccc03-0d9d-452c-8730-5f270c4280f3"
   },
   "outputs": [
    {
     "data": {
      "text/plain": [
       "22.57293206510593"
      ]
     },
     "execution_count": 171,
     "metadata": {
      "tags": []
     },
     "output_type": "execute_result"
    }
   ],
   "source": [
    "xgb_score = score(xgb.predict(X_test))\n",
    "xgb_score"
   ]
  },
  {
   "cell_type": "code",
   "execution_count": null,
   "metadata": {
    "colab": {
     "base_uri": "https://localhost:8080/"
    },
    "id": "U02PeuM9p7bL",
    "outputId": "039dcfa7-5ee2-4578-f137-a2a23810d014"
   },
   "outputs": [
    {
     "data": {
      "text/plain": [
       "LinearRegression(copy_X=True, fit_intercept=True, n_jobs=None, normalize=False)"
      ]
     },
     "execution_count": 172,
     "metadata": {
      "tags": []
     },
     "output_type": "execute_result"
    }
   ],
   "source": [
    "from sklearn.linear_model import LinearRegression\n",
    "linear = LinearRegression()\n",
    "linear.fit(X_train , y_train)"
   ]
  },
  {
   "cell_type": "code",
   "execution_count": null,
   "metadata": {
    "colab": {
     "base_uri": "https://localhost:8080/"
    },
    "id": "etx5zeHnqPjF",
    "outputId": "d6994a59-ec7e-480f-89cf-13d33f0a324d"
   },
   "outputs": [
    {
     "data": {
      "text/plain": [
       "0.1402910182914392"
      ]
     },
     "execution_count": 173,
     "metadata": {
      "tags": []
     },
     "output_type": "execute_result"
    }
   ],
   "source": [
    "linear.score(X_train , y_train)"
   ]
  },
  {
   "cell_type": "code",
   "execution_count": null,
   "metadata": {
    "colab": {
     "base_uri": "https://localhost:8080/"
    },
    "id": "KpbwDgZZqR29",
    "outputId": "c165bb83-27ed-41d3-b35e-4c388346de4c"
   },
   "outputs": [
    {
     "data": {
      "text/plain": [
       "23.715855563566933"
      ]
     },
     "execution_count": 174,
     "metadata": {
      "tags": []
     },
     "output_type": "execute_result"
    }
   ],
   "source": [
    "linear_score = score(linear.predict(X_test))\n",
    "linear_score"
   ]
  },
  {
   "cell_type": "code",
   "execution_count": null,
   "metadata": {
    "colab": {
     "base_uri": "https://localhost:8080/",
     "height": 214
    },
    "id": "ECg2Sf47WET1",
    "outputId": "1135a5cc-7e80-4363-ff90-fad3fb135307"
   },
   "outputs": [
    {
     "data": {
      "text/html": [
       "<div>\n",
       "<style scoped>\n",
       "    .dataframe tbody tr th:only-of-type {\n",
       "        vertical-align: middle;\n",
       "    }\n",
       "\n",
       "    .dataframe tbody tr th {\n",
       "        vertical-align: top;\n",
       "    }\n",
       "\n",
       "    .dataframe thead th {\n",
       "        text-align: right;\n",
       "    }\n",
       "</style>\n",
       "<table border=\"1\" class=\"dataframe\">\n",
       "  <thead>\n",
       "    <tr style=\"text-align: right;\">\n",
       "      <th></th>\n",
       "      <th>Cost_of_vehicle</th>\n",
       "      <th>Condition</th>\n",
       "      <th>year</th>\n",
       "      <th>date</th>\n",
       "      <th>mean_coverage</th>\n",
       "      <th>Insurance_company_A</th>\n",
       "      <th>Insurance_company_AA</th>\n",
       "      <th>Insurance_company_AC</th>\n",
       "      <th>Insurance_company_B</th>\n",
       "      <th>Insurance_company_BB</th>\n",
       "      <th>Insurance_company_BC</th>\n",
       "      <th>Insurance_company_BQ</th>\n",
       "      <th>Insurance_company_C</th>\n",
       "      <th>Insurance_company_DA</th>\n",
       "      <th>Insurance_company_O</th>\n",
       "      <th>month_2</th>\n",
       "      <th>month_3</th>\n",
       "      <th>month_4</th>\n",
       "      <th>month_5</th>\n",
       "      <th>month_6</th>\n",
       "      <th>month_7</th>\n",
       "      <th>month_8</th>\n",
       "      <th>month_9</th>\n",
       "      <th>month_10</th>\n",
       "      <th>month_11</th>\n",
       "      <th>month_12</th>\n",
       "    </tr>\n",
       "  </thead>\n",
       "  <tbody>\n",
       "    <tr>\n",
       "      <th>0</th>\n",
       "      <td>-1.620279</td>\n",
       "      <td>1</td>\n",
       "      <td>0.047927</td>\n",
       "      <td>-0.424326</td>\n",
       "      <td>6568.0</td>\n",
       "      <td>0</td>\n",
       "      <td>0</td>\n",
       "      <td>0</td>\n",
       "      <td>1</td>\n",
       "      <td>0</td>\n",
       "      <td>0</td>\n",
       "      <td>0</td>\n",
       "      <td>0</td>\n",
       "      <td>0</td>\n",
       "      <td>0</td>\n",
       "      <td>0</td>\n",
       "      <td>0</td>\n",
       "      <td>1</td>\n",
       "      <td>0</td>\n",
       "      <td>0</td>\n",
       "      <td>0</td>\n",
       "      <td>0</td>\n",
       "      <td>0</td>\n",
       "      <td>0</td>\n",
       "      <td>0</td>\n",
       "      <td>0</td>\n",
       "    </tr>\n",
       "    <tr>\n",
       "      <th>1</th>\n",
       "      <td>-1.072547</td>\n",
       "      <td>1</td>\n",
       "      <td>1.450905</td>\n",
       "      <td>0.983644</td>\n",
       "      <td>7860.5</td>\n",
       "      <td>0</td>\n",
       "      <td>0</td>\n",
       "      <td>0</td>\n",
       "      <td>0</td>\n",
       "      <td>0</td>\n",
       "      <td>0</td>\n",
       "      <td>0</td>\n",
       "      <td>1</td>\n",
       "      <td>0</td>\n",
       "      <td>0</td>\n",
       "      <td>0</td>\n",
       "      <td>0</td>\n",
       "      <td>0</td>\n",
       "      <td>0</td>\n",
       "      <td>0</td>\n",
       "      <td>0</td>\n",
       "      <td>1</td>\n",
       "      <td>0</td>\n",
       "      <td>0</td>\n",
       "      <td>0</td>\n",
       "      <td>0</td>\n",
       "    </tr>\n",
       "    <tr>\n",
       "      <th>2</th>\n",
       "      <td>0.722148</td>\n",
       "      <td>1</td>\n",
       "      <td>-0.887392</td>\n",
       "      <td>1.452967</td>\n",
       "      <td>12095.5</td>\n",
       "      <td>0</td>\n",
       "      <td>0</td>\n",
       "      <td>1</td>\n",
       "      <td>0</td>\n",
       "      <td>0</td>\n",
       "      <td>0</td>\n",
       "      <td>0</td>\n",
       "      <td>0</td>\n",
       "      <td>0</td>\n",
       "      <td>0</td>\n",
       "      <td>0</td>\n",
       "      <td>0</td>\n",
       "      <td>0</td>\n",
       "      <td>0</td>\n",
       "      <td>0</td>\n",
       "      <td>0</td>\n",
       "      <td>0</td>\n",
       "      <td>0</td>\n",
       "      <td>0</td>\n",
       "      <td>1</td>\n",
       "      <td>0</td>\n",
       "    </tr>\n",
       "    <tr>\n",
       "      <th>3</th>\n",
       "      <td>1.001840</td>\n",
       "      <td>1</td>\n",
       "      <td>1.450905</td>\n",
       "      <td>-1.362973</td>\n",
       "      <td>12755.5</td>\n",
       "      <td>0</td>\n",
       "      <td>0</td>\n",
       "      <td>0</td>\n",
       "      <td>0</td>\n",
       "      <td>1</td>\n",
       "      <td>0</td>\n",
       "      <td>0</td>\n",
       "      <td>0</td>\n",
       "      <td>0</td>\n",
       "      <td>0</td>\n",
       "      <td>1</td>\n",
       "      <td>0</td>\n",
       "      <td>0</td>\n",
       "      <td>0</td>\n",
       "      <td>0</td>\n",
       "      <td>0</td>\n",
       "      <td>0</td>\n",
       "      <td>0</td>\n",
       "      <td>0</td>\n",
       "      <td>0</td>\n",
       "      <td>0</td>\n",
       "    </tr>\n",
       "    <tr>\n",
       "      <th>4</th>\n",
       "      <td>0.372532</td>\n",
       "      <td>1</td>\n",
       "      <td>-1.355051</td>\n",
       "      <td>-1.480304</td>\n",
       "      <td>11270.5</td>\n",
       "      <td>0</td>\n",
       "      <td>0</td>\n",
       "      <td>0</td>\n",
       "      <td>0</td>\n",
       "      <td>1</td>\n",
       "      <td>0</td>\n",
       "      <td>0</td>\n",
       "      <td>0</td>\n",
       "      <td>0</td>\n",
       "      <td>0</td>\n",
       "      <td>0</td>\n",
       "      <td>0</td>\n",
       "      <td>0</td>\n",
       "      <td>0</td>\n",
       "      <td>0</td>\n",
       "      <td>0</td>\n",
       "      <td>0</td>\n",
       "      <td>0</td>\n",
       "      <td>0</td>\n",
       "      <td>0</td>\n",
       "      <td>0</td>\n",
       "    </tr>\n",
       "  </tbody>\n",
       "</table>\n",
       "</div>"
      ],
      "text/plain": [
       "   Cost_of_vehicle  Condition      year  ...  month_10  month_11  month_12\n",
       "0        -1.620279          1  0.047927  ...         0         0         0\n",
       "1        -1.072547          1  1.450905  ...         0         0         0\n",
       "2         0.722148          1 -0.887392  ...         0         1         0\n",
       "3         1.001840          1  1.450905  ...         0         0         0\n",
       "4         0.372532          1 -1.355051  ...         0         0         0\n",
       "\n",
       "[5 rows x 26 columns]"
      ]
     },
     "execution_count": 195,
     "metadata": {
      "tags": []
     },
     "output_type": "execute_result"
    }
   ],
   "source": [
    "tt = tt[X_train.columns]\n",
    "tt.head()"
   ]
  },
  {
   "cell_type": "code",
   "execution_count": null,
   "metadata": {
    "colab": {
     "base_uri": "https://localhost:8080/"
    },
    "id": "SlRiLTv_NTkf",
    "outputId": "1b3bf312-07d0-4b13-a796-50b43056c28a"
   },
   "outputs": [
    {
     "data": {
      "text/plain": [
       "array([3199.149  , 4262.1714 , 4597.5903 , 2687.8364 , 4874.6973 ,\n",
       "       3849.9524 , 4546.8145 , 4441.0244 , 3976.4976 , 4745.799  ,\n",
       "       3610.3987 , 6028.023  , 4783.148  , 4897.8945 , 6422.8076 ,\n",
       "       5123.8364 , 4035.7744 , 4725.623  , 4643.6714 , 3600.2717 ,\n",
       "       4139.8857 , 4644.2856 , 4570.553  , 4309.4507 , 3411.348  ,\n",
       "       4401.4707 , 2142.3467 , 4403.1074 , 3878.8928 , 4615.701  ,\n",
       "       4217.614  , 4850.4155 , 3368.6938 , 3679.7063 , 4479.6455 ,\n",
       "       4735.9766 , 4041.5159 , 4527.519  , 4621.2583 , 4677.211  ,\n",
       "       4101.254  , 4898.5005 , 4005.3064 , 3693.126  , 5216.297  ,\n",
       "       5296.726  , 4480.888  , 4218.987  , 4111.2334 , 4518.653  ,\n",
       "       3914.6113 , 3472.6797 , 4577.1733 , 3849.3438 , 4496.504  ,\n",
       "       4466.7983 , 4567.6987 , 4163.648  , 3627.35   , 3298.2007 ,\n",
       "       4389.603  , 4496.86   , 4478.972  , 3293.3464 , 3785.4087 ,\n",
       "       4163.5938 , 4152.0825 , 4480.8936 , 4027.4736 , 4641.1973 ,\n",
       "       4230.611  , 4767.499  , 4826.9126 , 4590.2417 , 4710.48   ,\n",
       "       3555.9873 , 3630.4785 , 4969.2847 , 4739.421  , 3317.7373 ,\n",
       "       5667.9556 , 3479.362  , 5518.2954 , 4367.2217 , 3961.2234 ,\n",
       "       3954.4714 , 3613.3838 , 4851.6284 , 4470.8467 , 3193.1152 ,\n",
       "       3285.6143 , 2652.767  , 5076.9175 , 5264.504  , 3566.4993 ,\n",
       "       4309.3896 , 3288.382  , 4033.937  , 3504.2202 , 3892.628  ,\n",
       "       3788.9277 , 3179.7297 , 4522.172  , 4418.7256 , 5552.806  ,\n",
       "       3806.3647 , 4036.099  , 5306.7617 , 4509.0293 , 4807.026  ,\n",
       "       5041.2627 , 3898.5083 , 5900.89   , 4166.864  , 5088.43   ,\n",
       "       3823.2224 , 4191.362  , 6421.313  , 4562.281  , 3955.8586 ,\n",
       "       4470.47   , 4350.5186 , 6147.1533 , 2946.937  , 4459.1187 ,\n",
       "       4447.879  , 3678.2368 , 4885.4854 , 3695.9636 , 2607.4333 ,\n",
       "       3850.5127 , 4745.799  , 3390.5354 , 4085.3076 , 4295.5674 ,\n",
       "       4177.1836 , 3015.4553 , 3889.017  , 3146.1829 , 4319.093  ,\n",
       "       3729.4858 , 3975.5105 , 4789.9463 , 6979.299  , 5173.4756 ,\n",
       "       5942.9277 , 4150.9233 , 4996.092  , 4319.408  , 4242.7773 ,\n",
       "       3985.9954 , 4946.5063 , 4279.4473 , 3504.1892 , 4587.2705 ,\n",
       "       4176.0063 , 4698.2515 , 4407.8994 , 4113.461  , 5958.657  ,\n",
       "       3057.6814 , 5113.547  , 4625.752  , 4080.008  , 5817.348  ,\n",
       "       3685.1562 , 4083.2368 , 4596.678  , 4337.6587 , 4330.301  ,\n",
       "       4396.2476 , 4573.86   , 4805.5396 , 4983.075  , 3666.0073 ,\n",
       "       4347.4414 , 4131.224  , 3881.2805 , 7367.175  , 4231.2617 ,\n",
       "       4462.785  , 4624.359  , 4520.3306 , 3861.5151 , 2941.3083 ,\n",
       "       2912.792  , 4499.695  , 4737.041  , 4750.9775 , 4407.476  ,\n",
       "       3740.7139 , 5174.702  , 2911.726  , 4101.5024 , 4454.224  ,\n",
       "       3021.7644 , 2991.0781 , 4800.886  , 3985.4556 , 4448.8794 ,\n",
       "       3928.0706 , 4771.4614 , 4653.095  , 4154.4175 , 4219.2417 ,\n",
       "       2654.2976 , 3472.382  , 3828.091  , 4423.024  , 3914.382  ,\n",
       "       3090.352  , 4724.091  , 4136.1733 , 4328.766  , 4525.6616 ,\n",
       "       4089.828  , 2959.2625 , 4384.162  , 4208.8477 , 3655.566  ,\n",
       "       5097.3423 , 4576.4604 , 3293.152  , 3289.5503 , 4862.8667 ,\n",
       "       3460.353  , 4913.145  , 4304.5317 , 5184.2812 , 4163.391  ,\n",
       "       3816.558  , 5122.0293 , 4538.9727 , 6393.534  , 4535.73   ,\n",
       "       4698.3354 , 2732.0217 , 5117.2954 , 4393.2173 , 3578.674  ,\n",
       "       3755.6887 , 4914.2085 , 4774.115  , 4186.863  , 4468.036  ,\n",
       "       4236.31   , 4000.9297 , 4304.135  , 3771.1968 , 4941.1694 ,\n",
       "       4587.254  , 3921.372  , 3634.459  , 5085.6714 , 4181.8237 ,\n",
       "       4100.778  , 4674.399  , 3973.103  , 5532.788  , 4290.129  ,\n",
       "       3627.1326 , 4616.3394 , 5156.344  , 4013.2307 , 5083.017  ,\n",
       "       4606.385  , 4683.2056 , 2080.0278 , 3863.0046 , 5511.7065 ,\n",
       "       5927.234  , 4105.5234 , 5173.8657 , 5019.9204 , 4775.6533 ,\n",
       "       6506.081  , 5167.486  , 3269.998  , 4600.673  , 4511.8896 ,\n",
       "       4887.31   , 4595.8755 , 3361.8704 , 5066.438  , 5605.072  ,\n",
       "       4747.738  , 3256.4348 , 3917.342  , 4331.41   , 3989.897  ,\n",
       "       4044.086  , 3620.5325 , 4764.058  , 4468.38   , 4134.4033 ,\n",
       "       4173.2427 , 3149.9597 , 3499.279  , 4685.206  ,  239.39369,\n",
       "       4226.0337 , 4488.049  , 4847.7036 , 2823.6133 , 3452.1118 ,\n",
       "       4487.2393 , 3933.991  , 4852.021  , 4453.975  , 4718.8335 ,\n",
       "       4579.4062 , 3933.6885 , 4449.745  , 8072.6777 , 4198.432  ,\n",
       "       4012.7224 , 4454.5186 , 3840.1685 , 4633.9595 , 4217.154  ,\n",
       "       5453.6157 , 4702.6562 , 2915.4695 , 4978.1426 , 5982.3115 ,\n",
       "        330.71292, 3897.0637 , 4591.9272 , 4597.337  , 3941.734  ,\n",
       "       4388.3574 , 4365.2954 , 4660.0854 , 4594.8804 , 4770.738  ,\n",
       "       3844.2036 , 4112.8823 , 3991.318  , 4733.4287 , 4592.025  ,\n",
       "       4672.0894 , 4196.384  , 4778.45   , 4039.3235 , 4400.3306 ,\n",
       "       4631.2026 , 3033.0962 , 4099.593  , 4449.3364 , 4500.4546 ,\n",
       "       3352.3716 , 4333.4497 , 4896.468  , 4471.5654 , 4738.5674 ,\n",
       "       4290.0547 , 2847.985  , 4599.577  , 3944.634  , 1904.1727 ,\n",
       "       4174.0874 , 3460.372  , 2921.8171 , 3770.506  , 4096.7124 ,\n",
       "       4190.416  , 3824.7014 , 4805.1006 , 3079.3699 , 4604.5415 ,\n",
       "       4617.6763 , 3450.7842 , 3879.6948 , 4391.3994 , 4600.4097 ,\n",
       "       4607.594  , 3948.5623 , 3990.3706 , 4889.407  , 3644.248  ,\n",
       "       4459.921  , 4404.8687 , 3602.6365 , 4340.5806 , 3805.8135 ,\n",
       "       4200.839  , 4446.5225 , 4959.403  , 4524.773  , 2985.8828 ,\n",
       "       3448.423  , 4191.7144 , 4699.0176 , 4006.3354 , 4599.6006 ,\n",
       "       4773.3516 , 4260.933  , 3746.1665 , 4562.452  , 3953.7507 ,\n",
       "       5398.675  , 4458.3706 , 4181.175  , 5052.4863 , 4517.525  ,\n",
       "       4131.026  , 3915.6768 , 3964.3838 , 3426.3352 , 3323.3513 ,\n",
       "       2524.317  , 3787.9536 , 4745.735  , 4501.271  , 4607.297  ,\n",
       "       4080.305  , 3902.372  , 4569.755  , 5057.6484 , 6143.0977 ,\n",
       "       5020.8096 , 4599.471  , 3337.1191 , 3886.0173 , 6512.6987 ,\n",
       "       4541.4595 , 1999.2072 , 3900.0981 , 4992.144  , 5014.477  ,\n",
       "       3904.8235 , 3309.4456 , 3439.0925 , 4908.147  , 2665.4272 ,\n",
       "       4130.4214 , 3643.5134 , 4915.476  , 4286.2046 , 3792.9004 ,\n",
       "       4502.8774 , 2570.6584 ,  913.52057, 4326.117  , 6016.9507 ,\n",
       "       3422.5613 , 4092.0256 , 4880.417  , 2123.5662 , 4196.384  ,\n",
       "       3732.0386 , 4395.941  , 4866.6187 , 4222.014  , 2758.1685 ,\n",
       "       4511.3804 , 4837.6655 , 4061.9714 , 4392.8813 , 4729.3447 ,\n",
       "       5697.4985 , 4466.7114 , 3575.3914 , 3951.2017 , 4213.2764 ,\n",
       "       4182.834  , 3768.1567 , 4051.8357 , 4870.641  , 4554.422  ,\n",
       "       4347.7886 , 4606.385  , 4811.4097 , 4491.955  , 4944.3906 ,\n",
       "       4868.996  , 5540.2354 , 2708.6619 , 3276.8354 , 4666.9707 ,\n",
       "       4342.86   , 3693.4434 , 5836.4756 , 4485.2373 , 4212.302  ,\n",
       "       4780.426  , 4444.14   , 4777.7617 , 4433.4634 , 4261.6484 ,\n",
       "       5684.225  , 3889.0928 , 4823.987  , 4066.974  , 3645.482  ,\n",
       "       4415.002  , 4086.7422 , 1971.0879 , 4376.0645 ,  280.63562,\n",
       "       4242.9956 , 3634.1956 , 4298.065  , 4166.832  , 3233.7717 ,\n",
       "       4299.1855 , 3892.6255 , 3570.0603 , 5231.602  , 3316.4172 ,\n",
       "       5247.3228 , 4497.7905 , 4549.539  , 4531.101  , 4633.7544 ,\n",
       "       4940.5503 , 4090.6257 , 5204.6045 , 3955.6367 , 4395.941  ,\n",
       "       4122.4033 , 5059.536  , 3977.7842 , 3880.628  , 4692.653  ,\n",
       "       4520.9175 , 4659.9453 , 4879.2583 , 4395.9966 , 4400.7646 ,\n",
       "       3440.1055 , 4797.2827 , 3284.509  , 4821.8027 , 3830.2722 ,\n",
       "       4644.2856 , 4632.9824 , 3390.6394 , 4561.731  , 4268.9155 ,\n",
       "       4430.805  , 3724.433  , 4610.456  , 4824.0684 , 4854.17   ,\n",
       "       5233.025  , 4559.0483 , 4667.6187 , 4159.703  , 3732.7969 ,\n",
       "       4528.2656 , 4187.598  , 3227.095  , 5706.27   , 3603.4602 ,\n",
       "       4614.5454 , 4425.7695 , 3806.7803 , 3318.7092 , 4435.256  ,\n",
       "       4434.2563 , 4073.768  , 4564.111  , 4050.223  , 4489.0874 ,\n",
       "       3045.8853 , 4386.0615 , 4576.7095 , 5730.8315 , 4103.371  ,\n",
       "       4508.645  , 4666.808  , 3341.6777 , 6090.76   , 4518.476  ,\n",
       "       5245.029  , 3429.7664 , 4755.679  , 4972.409  , 3598.175  ,\n",
       "       6333.818  , 4019.8943 , 4355.2583 , 2650.4905 , 4176.7437 ,\n",
       "       3327.8706 , 3707.2793 , 4625.1484 , 5295.4297 , 3898.7283 ,\n",
       "       4966.229  , 4191.8584 , 4565.84   , 3656.285  , 4574.2905 ,\n",
       "       4560.9214 , 4011.5647 , 3461.5715 , 4645.8774 , 4306.4116 ],\n",
       "      dtype=float32)"
      ]
     },
     "execution_count": 196,
     "metadata": {
      "tags": []
     },
     "output_type": "execute_result"
    }
   ],
   "source": [
    "amount_preds = xgb.predict(tt)\n",
    "amount_preds"
   ]
  },
  {
   "cell_type": "code",
   "execution_count": null,
   "metadata": {
    "id": "pxVkpTl5VuKu"
   },
   "outputs": [],
   "source": [
    "data = {\"Image_path\" : ttcn[\"Image_path\"] , \n",
    "        \"Condition\" : condition_preds , \n",
    "        \"Amount\" : amount_preds}"
   ]
  },
  {
   "cell_type": "code",
   "execution_count": null,
   "metadata": {
    "colab": {
     "base_uri": "https://localhost:8080/",
     "height": 194
    },
    "id": "X-Uk315lW2Ji",
    "outputId": "21c8d21a-38d7-44fa-fed9-868f981f16ff"
   },
   "outputs": [
    {
     "data": {
      "text/html": [
       "<div>\n",
       "<style scoped>\n",
       "    .dataframe tbody tr th:only-of-type {\n",
       "        vertical-align: middle;\n",
       "    }\n",
       "\n",
       "    .dataframe tbody tr th {\n",
       "        vertical-align: top;\n",
       "    }\n",
       "\n",
       "    .dataframe thead th {\n",
       "        text-align: right;\n",
       "    }\n",
       "</style>\n",
       "<table border=\"1\" class=\"dataframe\">\n",
       "  <thead>\n",
       "    <tr style=\"text-align: right;\">\n",
       "      <th></th>\n",
       "      <th>Image_path</th>\n",
       "      <th>Condition</th>\n",
       "      <th>Amount</th>\n",
       "    </tr>\n",
       "  </thead>\n",
       "  <tbody>\n",
       "    <tr>\n",
       "      <th>0</th>\n",
       "      <td>img_4538519.jpg</td>\n",
       "      <td>1</td>\n",
       "      <td>3199.148926</td>\n",
       "    </tr>\n",
       "    <tr>\n",
       "      <th>1</th>\n",
       "      <td>img_7766002.jpg</td>\n",
       "      <td>1</td>\n",
       "      <td>4262.171387</td>\n",
       "    </tr>\n",
       "    <tr>\n",
       "      <th>2</th>\n",
       "      <td>img_4637390.jpg</td>\n",
       "      <td>1</td>\n",
       "      <td>4597.590332</td>\n",
       "    </tr>\n",
       "    <tr>\n",
       "      <th>3</th>\n",
       "      <td>img_4516108.jpg</td>\n",
       "      <td>1</td>\n",
       "      <td>2687.836426</td>\n",
       "    </tr>\n",
       "    <tr>\n",
       "      <th>4</th>\n",
       "      <td>img_4517008.jpg</td>\n",
       "      <td>1</td>\n",
       "      <td>4874.697266</td>\n",
       "    </tr>\n",
       "  </tbody>\n",
       "</table>\n",
       "</div>"
      ],
      "text/plain": [
       "        Image_path  Condition       Amount\n",
       "0  img_4538519.jpg          1  3199.148926\n",
       "1  img_7766002.jpg          1  4262.171387\n",
       "2  img_4637390.jpg          1  4597.590332\n",
       "3  img_4516108.jpg          1  2687.836426\n",
       "4  img_4517008.jpg          1  4874.697266"
      ]
     },
     "execution_count": 200,
     "metadata": {
      "tags": []
     },
     "output_type": "execute_result"
    }
   ],
   "source": [
    "final = pd.DataFrame(data)\n",
    "final.head()"
   ]
  },
  {
   "cell_type": "code",
   "execution_count": null,
   "metadata": {
    "id": "F9n9V0RbW6ju"
   },
   "outputs": [],
   "source": [
    "final.to_csv(\"Insurance 1.csv\" , index = False)"
   ]
  },
  {
   "cell_type": "code",
   "execution_count": null,
   "metadata": {
    "colab": {
     "base_uri": "https://localhost:8080/",
     "height": 17
    },
    "id": "9amIkAREXEFk",
    "outputId": "5ae2b5a6-e262-4906-ff92-a39a3ee0ceed"
   },
   "outputs": [
    {
     "data": {
      "application/javascript": [
       "\n",
       "    async function download(id, filename, size) {\n",
       "      if (!google.colab.kernel.accessAllowed) {\n",
       "        return;\n",
       "      }\n",
       "      const div = document.createElement('div');\n",
       "      const label = document.createElement('label');\n",
       "      label.textContent = `Downloading \"${filename}\": `;\n",
       "      div.appendChild(label);\n",
       "      const progress = document.createElement('progress');\n",
       "      progress.max = size;\n",
       "      div.appendChild(progress);\n",
       "      document.body.appendChild(div);\n",
       "\n",
       "      const buffers = [];\n",
       "      let downloaded = 0;\n",
       "\n",
       "      const channel = await google.colab.kernel.comms.open(id);\n",
       "      // Send a message to notify the kernel that we're ready.\n",
       "      channel.send({})\n",
       "\n",
       "      for await (const message of channel.messages) {\n",
       "        // Send a message to notify the kernel that we're ready.\n",
       "        channel.send({})\n",
       "        if (message.buffers) {\n",
       "          for (const buffer of message.buffers) {\n",
       "            buffers.push(buffer);\n",
       "            downloaded += buffer.byteLength;\n",
       "            progress.value = downloaded;\n",
       "          }\n",
       "        }\n",
       "      }\n",
       "      const blob = new Blob(buffers, {type: 'application/binary'});\n",
       "      const a = document.createElement('a');\n",
       "      a.href = window.URL.createObjectURL(blob);\n",
       "      a.download = filename;\n",
       "      div.appendChild(a);\n",
       "      a.click();\n",
       "      div.remove();\n",
       "    }\n",
       "  "
      ],
      "text/plain": [
       "<IPython.core.display.Javascript object>"
      ]
     },
     "metadata": {
      "tags": []
     },
     "output_type": "display_data"
    },
    {
     "data": {
      "application/javascript": [
       "download(\"download_250e2c26-c990-45e0-a881-7e6e64a2c764\", \"Insurance 1.csv\", 16569)"
      ],
      "text/plain": [
       "<IPython.core.display.Javascript object>"
      ]
     },
     "metadata": {
      "tags": []
     },
     "output_type": "display_data"
    }
   ],
   "source": [
    "from google.colab import files\n",
    "files.download(\"Insurance 1.csv\")"
   ]
  },
  {
   "cell_type": "code",
   "execution_count": null,
   "metadata": {
    "id": "eUrbODsHXNFZ"
   },
   "outputs": [],
   "source": []
  }
 ],
 "metadata": {
  "accelerator": "GPU",
  "colab": {
   "collapsed_sections": [],
   "name": "HackerEarth Insurance.ipynb",
   "provenance": []
  },
  "kernelspec": {
   "display_name": "Python 3",
   "language": "python",
   "name": "python3"
  },
  "language_info": {
   "codemirror_mode": {
    "name": "ipython",
    "version": 3
   },
   "file_extension": ".py",
   "mimetype": "text/x-python",
   "name": "python",
   "nbconvert_exporter": "python",
   "pygments_lexer": "ipython3",
   "version": "3.8.5"
  }
 },
 "nbformat": 4,
 "nbformat_minor": 1
}
