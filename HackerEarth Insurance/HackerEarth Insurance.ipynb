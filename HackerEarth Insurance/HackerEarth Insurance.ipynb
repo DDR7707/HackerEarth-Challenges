{
 "cells": [
  {
   "cell_type": "code",
   "execution_count": 72,
   "id": "increased-patrol",
   "metadata": {},
   "outputs": [],
   "source": [
    "import numpy as np\n",
    "import pandas as pd\n",
    "import matplotlib.pyplot as plt"
   ]
  },
  {
   "cell_type": "code",
   "execution_count": 73,
   "id": "signal-booking",
   "metadata": {},
   "outputs": [
    {
     "data": {
      "text/html": [
       "<div>\n",
       "<style scoped>\n",
       "    .dataframe tbody tr th:only-of-type {\n",
       "        vertical-align: middle;\n",
       "    }\n",
       "\n",
       "    .dataframe tbody tr th {\n",
       "        vertical-align: top;\n",
       "    }\n",
       "\n",
       "    .dataframe thead th {\n",
       "        text-align: right;\n",
       "    }\n",
       "</style>\n",
       "<table border=\"1\" class=\"dataframe\">\n",
       "  <thead>\n",
       "    <tr style=\"text-align: right;\">\n",
       "      <th></th>\n",
       "      <th>Image_path</th>\n",
       "      <th>Insurance_company</th>\n",
       "      <th>Cost_of_vehicle</th>\n",
       "      <th>Min_coverage</th>\n",
       "      <th>Expiry_date</th>\n",
       "      <th>Max_coverage</th>\n",
       "      <th>Condition</th>\n",
       "      <th>Amount</th>\n",
       "    </tr>\n",
       "  </thead>\n",
       "  <tbody>\n",
       "    <tr>\n",
       "      <th>0</th>\n",
       "      <td>img_4513976.jpg</td>\n",
       "      <td>BQ</td>\n",
       "      <td>41500.0</td>\n",
       "      <td>1037.5</td>\n",
       "      <td>2026-12-03</td>\n",
       "      <td>36142.68</td>\n",
       "      <td>0</td>\n",
       "      <td>0.0</td>\n",
       "    </tr>\n",
       "    <tr>\n",
       "      <th>1</th>\n",
       "      <td>img_7764995.jpg</td>\n",
       "      <td>BQ</td>\n",
       "      <td>50700.0</td>\n",
       "      <td>1267.5</td>\n",
       "      <td>2025-07-10</td>\n",
       "      <td>12753.00</td>\n",
       "      <td>1</td>\n",
       "      <td>6194.0</td>\n",
       "    </tr>\n",
       "    <tr>\n",
       "      <th>2</th>\n",
       "      <td>img_451308.jpg</td>\n",
       "      <td>A</td>\n",
       "      <td>49500.0</td>\n",
       "      <td>1237.5</td>\n",
       "      <td>2022-08-11</td>\n",
       "      <td>43102.68</td>\n",
       "      <td>0</td>\n",
       "      <td>0.0</td>\n",
       "    </tr>\n",
       "    <tr>\n",
       "      <th>3</th>\n",
       "      <td>img_7768372.jpg</td>\n",
       "      <td>A</td>\n",
       "      <td>33500.0</td>\n",
       "      <td>837.5</td>\n",
       "      <td>2022-08-02</td>\n",
       "      <td>8453.00</td>\n",
       "      <td>1</td>\n",
       "      <td>7699.0</td>\n",
       "    </tr>\n",
       "    <tr>\n",
       "      <th>4</th>\n",
       "      <td>img_7765274.jpg</td>\n",
       "      <td>AC</td>\n",
       "      <td>27600.0</td>\n",
       "      <td>690.0</td>\n",
       "      <td>2026-05-01</td>\n",
       "      <td>6978.00</td>\n",
       "      <td>1</td>\n",
       "      <td>8849.0</td>\n",
       "    </tr>\n",
       "  </tbody>\n",
       "</table>\n",
       "</div>"
      ],
      "text/plain": [
       "        Image_path Insurance_company  Cost_of_vehicle  Min_coverage  \\\n",
       "0  img_4513976.jpg                BQ          41500.0        1037.5   \n",
       "1  img_7764995.jpg                BQ          50700.0        1267.5   \n",
       "2   img_451308.jpg                 A          49500.0        1237.5   \n",
       "3  img_7768372.jpg                 A          33500.0         837.5   \n",
       "4  img_7765274.jpg                AC          27600.0         690.0   \n",
       "\n",
       "  Expiry_date  Max_coverage  Condition  Amount  \n",
       "0  2026-12-03      36142.68          0     0.0  \n",
       "1  2025-07-10      12753.00          1  6194.0  \n",
       "2  2022-08-11      43102.68          0     0.0  \n",
       "3  2022-08-02       8453.00          1  7699.0  \n",
       "4  2026-05-01       6978.00          1  8849.0  "
      ]
     },
     "execution_count": 73,
     "metadata": {},
     "output_type": "execute_result"
    }
   ],
   "source": [
    "df = pd.read_csv(\"Data/HackerEarth Insurance/train.csv\" , parse_dates = [\"Expiry_date\"])\n",
    "df.head()"
   ]
  },
  {
   "cell_type": "code",
   "execution_count": 74,
   "id": "preliminary-colorado",
   "metadata": {},
   "outputs": [],
   "source": [
    "df.drop([\"Image_path\"] , axis = 1 , inplace = True)"
   ]
  },
  {
   "cell_type": "code",
   "execution_count": 75,
   "id": "rubber-freeze",
   "metadata": {},
   "outputs": [
    {
     "data": {
      "text/plain": [
       "Index(['Insurance_company'], dtype='object')"
      ]
     },
     "execution_count": 75,
     "metadata": {},
     "output_type": "execute_result"
    }
   ],
   "source": [
    "cats = df.select_dtypes(include = [\"object\"]).columns\n",
    "cats"
   ]
  },
  {
   "cell_type": "code",
   "execution_count": 76,
   "id": "boring-penalty",
   "metadata": {},
   "outputs": [
    {
     "data": {
      "text/plain": [
       "Index(['Cost_of_vehicle', 'Min_coverage', 'Expiry_date', 'Max_coverage',\n",
       "       'Condition', 'Amount'],\n",
       "      dtype='object')"
      ]
     },
     "execution_count": 76,
     "metadata": {},
     "output_type": "execute_result"
    }
   ],
   "source": [
    "ints = df.select_dtypes(exclude = [\"object\"]).columns\n",
    "ints"
   ]
  },
  {
   "cell_type": "code",
   "execution_count": 77,
   "id": "sonic-commitment",
   "metadata": {},
   "outputs": [],
   "source": [
    "# df[\"year\"] = df[\"Expiry_date\"].dt.year\n",
    "# df[\"month\"] = df[\"Expiry_date\"].dt.month\n",
    "# df[\"date\"] = df[\"Expiry_date\"].dt.day"
   ]
  },
  {
   "cell_type": "code",
   "execution_count": 78,
   "id": "contrary-fourth",
   "metadata": {},
   "outputs": [
    {
     "data": {
      "text/html": [
       "<div>\n",
       "<style scoped>\n",
       "    .dataframe tbody tr th:only-of-type {\n",
       "        vertical-align: middle;\n",
       "    }\n",
       "\n",
       "    .dataframe tbody tr th {\n",
       "        vertical-align: top;\n",
       "    }\n",
       "\n",
       "    .dataframe thead th {\n",
       "        text-align: right;\n",
       "    }\n",
       "</style>\n",
       "<table border=\"1\" class=\"dataframe\">\n",
       "  <thead>\n",
       "    <tr style=\"text-align: right;\">\n",
       "      <th></th>\n",
       "      <th>Insurance_company</th>\n",
       "      <th>Cost_of_vehicle</th>\n",
       "      <th>Min_coverage</th>\n",
       "      <th>Max_coverage</th>\n",
       "      <th>Condition</th>\n",
       "      <th>Amount</th>\n",
       "    </tr>\n",
       "  </thead>\n",
       "  <tbody>\n",
       "    <tr>\n",
       "      <th>0</th>\n",
       "      <td>BQ</td>\n",
       "      <td>41500.0</td>\n",
       "      <td>1037.5</td>\n",
       "      <td>36142.68</td>\n",
       "      <td>0</td>\n",
       "      <td>0.0</td>\n",
       "    </tr>\n",
       "    <tr>\n",
       "      <th>1</th>\n",
       "      <td>BQ</td>\n",
       "      <td>50700.0</td>\n",
       "      <td>1267.5</td>\n",
       "      <td>12753.00</td>\n",
       "      <td>1</td>\n",
       "      <td>6194.0</td>\n",
       "    </tr>\n",
       "    <tr>\n",
       "      <th>2</th>\n",
       "      <td>A</td>\n",
       "      <td>49500.0</td>\n",
       "      <td>1237.5</td>\n",
       "      <td>43102.68</td>\n",
       "      <td>0</td>\n",
       "      <td>0.0</td>\n",
       "    </tr>\n",
       "    <tr>\n",
       "      <th>3</th>\n",
       "      <td>A</td>\n",
       "      <td>33500.0</td>\n",
       "      <td>837.5</td>\n",
       "      <td>8453.00</td>\n",
       "      <td>1</td>\n",
       "      <td>7699.0</td>\n",
       "    </tr>\n",
       "    <tr>\n",
       "      <th>4</th>\n",
       "      <td>AC</td>\n",
       "      <td>27600.0</td>\n",
       "      <td>690.0</td>\n",
       "      <td>6978.00</td>\n",
       "      <td>1</td>\n",
       "      <td>8849.0</td>\n",
       "    </tr>\n",
       "  </tbody>\n",
       "</table>\n",
       "</div>"
      ],
      "text/plain": [
       "  Insurance_company  Cost_of_vehicle  Min_coverage  Max_coverage  Condition  \\\n",
       "0                BQ          41500.0        1037.5      36142.68          0   \n",
       "1                BQ          50700.0        1267.5      12753.00          1   \n",
       "2                 A          49500.0        1237.5      43102.68          0   \n",
       "3                 A          33500.0         837.5       8453.00          1   \n",
       "4                AC          27600.0         690.0       6978.00          1   \n",
       "\n",
       "   Amount  \n",
       "0     0.0  \n",
       "1  6194.0  \n",
       "2     0.0  \n",
       "3  7699.0  \n",
       "4  8849.0  "
      ]
     },
     "execution_count": 78,
     "metadata": {},
     "output_type": "execute_result"
    }
   ],
   "source": [
    "df.drop([\"Expiry_date\"] , axis = 1 , inplace = True)\n",
    "df.head()"
   ]
  },
  {
   "cell_type": "code",
   "execution_count": 79,
   "id": "meaning-detection",
   "metadata": {},
   "outputs": [],
   "source": [
    "df.dropna(axis=0 , subset = [\"Amount\"] , inplace = True)"
   ]
  },
  {
   "cell_type": "code",
   "execution_count": 80,
   "id": "logical-wagon",
   "metadata": {},
   "outputs": [
    {
     "data": {
      "text/plain": [
       "Insurance_company     0\n",
       "Cost_of_vehicle      87\n",
       "Min_coverage         87\n",
       "Max_coverage         87\n",
       "Condition             0\n",
       "Amount                0\n",
       "dtype: int64"
      ]
     },
     "execution_count": 80,
     "metadata": {},
     "output_type": "execute_result"
    }
   ],
   "source": [
    "df.isna().sum()"
   ]
  },
  {
   "cell_type": "code",
   "execution_count": 81,
   "id": "molecular-marketing",
   "metadata": {},
   "outputs": [
    {
     "data": {
      "text/html": [
       "<div>\n",
       "<style scoped>\n",
       "    .dataframe tbody tr th:only-of-type {\n",
       "        vertical-align: middle;\n",
       "    }\n",
       "\n",
       "    .dataframe tbody tr th {\n",
       "        vertical-align: top;\n",
       "    }\n",
       "\n",
       "    .dataframe thead th {\n",
       "        text-align: right;\n",
       "    }\n",
       "</style>\n",
       "<table border=\"1\" class=\"dataframe\">\n",
       "  <thead>\n",
       "    <tr style=\"text-align: right;\">\n",
       "      <th></th>\n",
       "      <th>Insurance_company</th>\n",
       "      <th>Cost_of_vehicle</th>\n",
       "      <th>Condition</th>\n",
       "      <th>Amount</th>\n",
       "      <th>mean_coverage</th>\n",
       "    </tr>\n",
       "  </thead>\n",
       "  <tbody>\n",
       "    <tr>\n",
       "      <th>0</th>\n",
       "      <td>BQ</td>\n",
       "      <td>41500.0</td>\n",
       "      <td>0</td>\n",
       "      <td>0.0</td>\n",
       "      <td>18590.09</td>\n",
       "    </tr>\n",
       "    <tr>\n",
       "      <th>1</th>\n",
       "      <td>BQ</td>\n",
       "      <td>50700.0</td>\n",
       "      <td>1</td>\n",
       "      <td>6194.0</td>\n",
       "      <td>7010.25</td>\n",
       "    </tr>\n",
       "    <tr>\n",
       "      <th>2</th>\n",
       "      <td>A</td>\n",
       "      <td>49500.0</td>\n",
       "      <td>0</td>\n",
       "      <td>0.0</td>\n",
       "      <td>22170.09</td>\n",
       "    </tr>\n",
       "    <tr>\n",
       "      <th>3</th>\n",
       "      <td>A</td>\n",
       "      <td>33500.0</td>\n",
       "      <td>1</td>\n",
       "      <td>7699.0</td>\n",
       "      <td>4645.25</td>\n",
       "    </tr>\n",
       "    <tr>\n",
       "      <th>4</th>\n",
       "      <td>AC</td>\n",
       "      <td>27600.0</td>\n",
       "      <td>1</td>\n",
       "      <td>8849.0</td>\n",
       "      <td>3834.00</td>\n",
       "    </tr>\n",
       "  </tbody>\n",
       "</table>\n",
       "</div>"
      ],
      "text/plain": [
       "  Insurance_company  Cost_of_vehicle  Condition  Amount  mean_coverage\n",
       "0                BQ          41500.0          0     0.0       18590.09\n",
       "1                BQ          50700.0          1  6194.0        7010.25\n",
       "2                 A          49500.0          0     0.0       22170.09\n",
       "3                 A          33500.0          1  7699.0        4645.25\n",
       "4                AC          27600.0          1  8849.0        3834.00"
      ]
     },
     "execution_count": 81,
     "metadata": {},
     "output_type": "execute_result"
    }
   ],
   "source": [
    "df[\"mean_coverage\"] = (df[\"Max_coverage\"] + df[\"Min_coverage\"]) / 2\n",
    "df.drop([\"Max_coverage\" , \"Min_coverage\"] , axis = 1 , inplace = True)\n",
    "df.head()"
   ]
  },
  {
   "cell_type": "code",
   "execution_count": 82,
   "id": "peripheral-fitting",
   "metadata": {},
   "outputs": [
    {
     "data": {
      "text/plain": [
       "Insurance_company     0\n",
       "Cost_of_vehicle      87\n",
       "Condition             0\n",
       "Amount                0\n",
       "mean_coverage        87\n",
       "dtype: int64"
      ]
     },
     "execution_count": 82,
     "metadata": {},
     "output_type": "execute_result"
    }
   ],
   "source": [
    "df.isna().sum()"
   ]
  },
  {
   "cell_type": "code",
   "execution_count": 83,
   "id": "acquired-treasury",
   "metadata": {},
   "outputs": [
    {
     "data": {
      "text/plain": [
       "Index(['Cost_of_vehicle', 'Condition', 'Amount', 'mean_coverage'], dtype='object')"
      ]
     },
     "execution_count": 83,
     "metadata": {},
     "output_type": "execute_result"
    }
   ],
   "source": [
    "ints = df.select_dtypes(exclude = [\"object\"]).columns\n",
    "ints"
   ]
  },
  {
   "cell_type": "code",
   "execution_count": 84,
   "id": "parallel-zoning",
   "metadata": {},
   "outputs": [],
   "source": [
    "for i in ints:\n",
    "    df[i].fillna(df[i].median() , inplace = True)"
   ]
  },
  {
   "cell_type": "code",
   "execution_count": 85,
   "id": "strategic-wrapping",
   "metadata": {},
   "outputs": [
    {
     "data": {
      "text/plain": [
       "Insurance_company    0\n",
       "Cost_of_vehicle      0\n",
       "Condition            0\n",
       "Amount               0\n",
       "mean_coverage        0\n",
       "dtype: int64"
      ]
     },
     "execution_count": 85,
     "metadata": {},
     "output_type": "execute_result"
    }
   ],
   "source": [
    "df.isna().sum()"
   ]
  },
  {
   "cell_type": "code",
   "execution_count": 86,
   "id": "million-delicious",
   "metadata": {},
   "outputs": [
    {
     "data": {
      "text/html": [
       "<div>\n",
       "<style scoped>\n",
       "    .dataframe tbody tr th:only-of-type {\n",
       "        vertical-align: middle;\n",
       "    }\n",
       "\n",
       "    .dataframe tbody tr th {\n",
       "        vertical-align: top;\n",
       "    }\n",
       "\n",
       "    .dataframe thead th {\n",
       "        text-align: right;\n",
       "    }\n",
       "</style>\n",
       "<table border=\"1\" class=\"dataframe\">\n",
       "  <thead>\n",
       "    <tr style=\"text-align: right;\">\n",
       "      <th></th>\n",
       "      <th>Insurance_company</th>\n",
       "      <th>Cost_of_vehicle</th>\n",
       "      <th>Condition</th>\n",
       "      <th>Amount</th>\n",
       "      <th>mean_coverage</th>\n",
       "    </tr>\n",
       "  </thead>\n",
       "  <tbody>\n",
       "    <tr>\n",
       "      <th>1388</th>\n",
       "      <td>BC</td>\n",
       "      <td>31500.0</td>\n",
       "      <td>1</td>\n",
       "      <td>487.0</td>\n",
       "      <td>4370.25</td>\n",
       "    </tr>\n",
       "    <tr>\n",
       "      <th>1389</th>\n",
       "      <td>RE</td>\n",
       "      <td>34900.0</td>\n",
       "      <td>1</td>\n",
       "      <td>4906.0</td>\n",
       "      <td>4837.75</td>\n",
       "    </tr>\n",
       "    <tr>\n",
       "      <th>1390</th>\n",
       "      <td>AA</td>\n",
       "      <td>27100.0</td>\n",
       "      <td>1</td>\n",
       "      <td>3070.0</td>\n",
       "      <td>3765.25</td>\n",
       "    </tr>\n",
       "    <tr>\n",
       "      <th>1391</th>\n",
       "      <td>RE</td>\n",
       "      <td>45200.0</td>\n",
       "      <td>1</td>\n",
       "      <td>7440.0</td>\n",
       "      <td>6254.00</td>\n",
       "    </tr>\n",
       "    <tr>\n",
       "      <th>1392</th>\n",
       "      <td>AC</td>\n",
       "      <td>26100.0</td>\n",
       "      <td>1</td>\n",
       "      <td>621.0</td>\n",
       "      <td>3627.75</td>\n",
       "    </tr>\n",
       "    <tr>\n",
       "      <th>1393</th>\n",
       "      <td>AC</td>\n",
       "      <td>51500.0</td>\n",
       "      <td>1</td>\n",
       "      <td>4058.0</td>\n",
       "      <td>7120.25</td>\n",
       "    </tr>\n",
       "    <tr>\n",
       "      <th>1394</th>\n",
       "      <td>DA</td>\n",
       "      <td>52300.0</td>\n",
       "      <td>1</td>\n",
       "      <td>4565.0</td>\n",
       "      <td>7230.25</td>\n",
       "    </tr>\n",
       "    <tr>\n",
       "      <th>1395</th>\n",
       "      <td>BQ</td>\n",
       "      <td>41500.0</td>\n",
       "      <td>1</td>\n",
       "      <td>3363.0</td>\n",
       "      <td>5745.25</td>\n",
       "    </tr>\n",
       "    <tr>\n",
       "      <th>1396</th>\n",
       "      <td>AA</td>\n",
       "      <td>31400.0</td>\n",
       "      <td>1</td>\n",
       "      <td>5336.0</td>\n",
       "      <td>4356.50</td>\n",
       "    </tr>\n",
       "    <tr>\n",
       "      <th>1397</th>\n",
       "      <td>A</td>\n",
       "      <td>33200.0</td>\n",
       "      <td>1</td>\n",
       "      <td>8734.0</td>\n",
       "      <td>4604.00</td>\n",
       "    </tr>\n",
       "  </tbody>\n",
       "</table>\n",
       "</div>"
      ],
      "text/plain": [
       "     Insurance_company  Cost_of_vehicle  Condition  Amount  mean_coverage\n",
       "1388                BC          31500.0          1   487.0        4370.25\n",
       "1389                RE          34900.0          1  4906.0        4837.75\n",
       "1390                AA          27100.0          1  3070.0        3765.25\n",
       "1391                RE          45200.0          1  7440.0        6254.00\n",
       "1392                AC          26100.0          1   621.0        3627.75\n",
       "1393                AC          51500.0          1  4058.0        7120.25\n",
       "1394                DA          52300.0          1  4565.0        7230.25\n",
       "1395                BQ          41500.0          1  3363.0        5745.25\n",
       "1396                AA          31400.0          1  5336.0        4356.50\n",
       "1397                 A          33200.0          1  8734.0        4604.00"
      ]
     },
     "execution_count": 86,
     "metadata": {},
     "output_type": "execute_result"
    }
   ],
   "source": [
    "df.tail(10)"
   ]
  },
  {
   "cell_type": "code",
   "execution_count": 94,
   "id": "challenging-ordering",
   "metadata": {},
   "outputs": [],
   "source": [
    "for index , row in df.iterrows():\n",
    "    if row[\"Amount\"] == 0:\n",
    "        df[\"Preds\"] = 0\n",
    "    else:\n",
    "        df[\"Preds\"] = (df[\"Cost_of_vehicle\"] / 10 + df[\"mean_coverage\"]) / 2"
   ]
  },
  {
   "cell_type": "code",
   "execution_count": 95,
   "id": "acting-bowling",
   "metadata": {},
   "outputs": [],
   "source": [
    "from sklearn.metrics import r2_score\n",
    "def score(true , preds):\n",
    "    return max(0 , 100*r2_score(true , preds))"
   ]
  },
  {
   "cell_type": "code",
   "execution_count": 96,
   "id": "dominant-edmonton",
   "metadata": {},
   "outputs": [],
   "source": [
    "df.loc[df[\"Amount\"] == 0 , \"Preds\"] = 0"
   ]
  },
  {
   "cell_type": "code",
   "execution_count": 97,
   "id": "synthetic-turkish",
   "metadata": {},
   "outputs": [
    {
     "data": {
      "text/html": [
       "<div>\n",
       "<style scoped>\n",
       "    .dataframe tbody tr th:only-of-type {\n",
       "        vertical-align: middle;\n",
       "    }\n",
       "\n",
       "    .dataframe tbody tr th {\n",
       "        vertical-align: top;\n",
       "    }\n",
       "\n",
       "    .dataframe thead th {\n",
       "        text-align: right;\n",
       "    }\n",
       "</style>\n",
       "<table border=\"1\" class=\"dataframe\">\n",
       "  <thead>\n",
       "    <tr style=\"text-align: right;\">\n",
       "      <th></th>\n",
       "      <th>Cost_of_vehicle</th>\n",
       "      <th>mean_coverage</th>\n",
       "      <th>Insurance_company</th>\n",
       "      <th>Amount</th>\n",
       "      <th>Preds</th>\n",
       "    </tr>\n",
       "  </thead>\n",
       "  <tbody>\n",
       "    <tr>\n",
       "      <th>0</th>\n",
       "      <td>41500.0</td>\n",
       "      <td>18590.09</td>\n",
       "      <td>BQ</td>\n",
       "      <td>0.0</td>\n",
       "      <td>0.000</td>\n",
       "    </tr>\n",
       "    <tr>\n",
       "      <th>1</th>\n",
       "      <td>50700.0</td>\n",
       "      <td>7010.25</td>\n",
       "      <td>BQ</td>\n",
       "      <td>6194.0</td>\n",
       "      <td>6040.125</td>\n",
       "    </tr>\n",
       "    <tr>\n",
       "      <th>2</th>\n",
       "      <td>49500.0</td>\n",
       "      <td>22170.09</td>\n",
       "      <td>A</td>\n",
       "      <td>0.0</td>\n",
       "      <td>0.000</td>\n",
       "    </tr>\n",
       "    <tr>\n",
       "      <th>3</th>\n",
       "      <td>33500.0</td>\n",
       "      <td>4645.25</td>\n",
       "      <td>A</td>\n",
       "      <td>7699.0</td>\n",
       "      <td>3997.625</td>\n",
       "    </tr>\n",
       "    <tr>\n",
       "      <th>4</th>\n",
       "      <td>27600.0</td>\n",
       "      <td>3834.00</td>\n",
       "      <td>AC</td>\n",
       "      <td>8849.0</td>\n",
       "      <td>3297.000</td>\n",
       "    </tr>\n",
       "    <tr>\n",
       "      <th>5</th>\n",
       "      <td>50700.0</td>\n",
       "      <td>7010.25</td>\n",
       "      <td>AC</td>\n",
       "      <td>253.0</td>\n",
       "      <td>6040.125</td>\n",
       "    </tr>\n",
       "    <tr>\n",
       "      <th>6</th>\n",
       "      <td>53200.0</td>\n",
       "      <td>7354.00</td>\n",
       "      <td>AC</td>\n",
       "      <td>4013.0</td>\n",
       "      <td>6337.000</td>\n",
       "    </tr>\n",
       "    <tr>\n",
       "      <th>7</th>\n",
       "      <td>35700.0</td>\n",
       "      <td>4947.75</td>\n",
       "      <td>BC</td>\n",
       "      <td>2228.0</td>\n",
       "      <td>4258.875</td>\n",
       "    </tr>\n",
       "    <tr>\n",
       "      <th>8</th>\n",
       "      <td>37300.0</td>\n",
       "      <td>5319.00</td>\n",
       "      <td>DA</td>\n",
       "      <td>513.0</td>\n",
       "      <td>4524.500</td>\n",
       "    </tr>\n",
       "    <tr>\n",
       "      <th>9</th>\n",
       "      <td>48200.0</td>\n",
       "      <td>6666.50</td>\n",
       "      <td>BB</td>\n",
       "      <td>6384.0</td>\n",
       "      <td>5743.250</td>\n",
       "    </tr>\n",
       "  </tbody>\n",
       "</table>\n",
       "</div>"
      ],
      "text/plain": [
       "   Cost_of_vehicle  mean_coverage Insurance_company  Amount     Preds\n",
       "0          41500.0       18590.09                BQ     0.0     0.000\n",
       "1          50700.0        7010.25                BQ  6194.0  6040.125\n",
       "2          49500.0       22170.09                 A     0.0     0.000\n",
       "3          33500.0        4645.25                 A  7699.0  3997.625\n",
       "4          27600.0        3834.00                AC  8849.0  3297.000\n",
       "5          50700.0        7010.25                AC   253.0  6040.125\n",
       "6          53200.0        7354.00                AC  4013.0  6337.000\n",
       "7          35700.0        4947.75                BC  2228.0  4258.875\n",
       "8          37300.0        5319.00                DA   513.0  4524.500\n",
       "9          48200.0        6666.50                BB  6384.0  5743.250"
      ]
     },
     "execution_count": 97,
     "metadata": {},
     "output_type": "execute_result"
    }
   ],
   "source": [
    "df[[\"Cost_of_vehicle\" , \"mean_coverage\" , \"Insurance_company\" , \"Amount\" , \"Preds\"]].head(10)"
   ]
  },
  {
   "cell_type": "code",
   "execution_count": 99,
   "id": "suitable-hamburg",
   "metadata": {},
   "outputs": [
    {
     "data": {
      "image/png": "[encoded data removed]",
      "text/plain": [
       "<Figure size 432x288 with 1 Axes>"
      ]
     },
     "metadata": {
      "needs_background": "light"
     },
     "output_type": "display_data"
    }
   ],
   "source": [
    "plt.scatter(df[\"Cost_of_vehicle\"].values / 10 , df[\"mean_coverage\"]);"
   ]
  },
  {
   "cell_type": "code",
   "execution_count": 98,
   "id": "indoor-pressing",
   "metadata": {},
   "outputs": [
    {
     "data": {
      "text/plain": [
       "3.3695330959362613"
      ]
     },
     "execution_count": 98,
     "metadata": {},
     "output_type": "execute_result"
    }
   ],
   "source": [
    "score(df[\"Amount\"].values , df[\"Preds\"].values )"
   ]
  },
  {
   "cell_type": "code",
   "execution_count": 18,
   "id": "national-degree",
   "metadata": {},
   "outputs": [],
   "source": [
    "df.drop([\"Insurance_company_RE\"] , axis = 1 , inplace = True)"
   ]
  },
  {
   "cell_type": "code",
   "execution_count": 17,
   "id": "fewer-delight",
   "metadata": {},
   "outputs": [
    {
     "data": {
      "text/html": [
       "<div>\n",
       "<style scoped>\n",
       "    .dataframe tbody tr th:only-of-type {\n",
       "        vertical-align: middle;\n",
       "    }\n",
       "\n",
       "    .dataframe tbody tr th {\n",
       "        vertical-align: top;\n",
       "    }\n",
       "\n",
       "    .dataframe thead th {\n",
       "        text-align: right;\n",
       "    }\n",
       "</style>\n",
       "<table border=\"1\" class=\"dataframe\">\n",
       "  <thead>\n",
       "    <tr style=\"text-align: right;\">\n",
       "      <th></th>\n",
       "      <th>Cost_of_vehicle</th>\n",
       "      <th>Condition</th>\n",
       "      <th>Amount</th>\n",
       "      <th>mean_coverage</th>\n",
       "      <th>Insurance_company_A</th>\n",
       "      <th>Insurance_company_AA</th>\n",
       "      <th>Insurance_company_AC</th>\n",
       "      <th>Insurance_company_B</th>\n",
       "      <th>Insurance_company_BB</th>\n",
       "      <th>Insurance_company_BC</th>\n",
       "      <th>Insurance_company_BQ</th>\n",
       "      <th>Insurance_company_C</th>\n",
       "      <th>Insurance_company_DA</th>\n",
       "      <th>Insurance_company_O</th>\n",
       "      <th>Insurance_company_RE</th>\n",
       "    </tr>\n",
       "  </thead>\n",
       "  <tbody>\n",
       "    <tr>\n",
       "      <th>0</th>\n",
       "      <td>41500.0</td>\n",
       "      <td>0</td>\n",
       "      <td>0.0</td>\n",
       "      <td>18590.09</td>\n",
       "      <td>0</td>\n",
       "      <td>0</td>\n",
       "      <td>0</td>\n",
       "      <td>0</td>\n",
       "      <td>0</td>\n",
       "      <td>0</td>\n",
       "      <td>1</td>\n",
       "      <td>0</td>\n",
       "      <td>0</td>\n",
       "      <td>0</td>\n",
       "      <td>0</td>\n",
       "    </tr>\n",
       "    <tr>\n",
       "      <th>1</th>\n",
       "      <td>50700.0</td>\n",
       "      <td>1</td>\n",
       "      <td>6194.0</td>\n",
       "      <td>7010.25</td>\n",
       "      <td>0</td>\n",
       "      <td>0</td>\n",
       "      <td>0</td>\n",
       "      <td>0</td>\n",
       "      <td>0</td>\n",
       "      <td>0</td>\n",
       "      <td>1</td>\n",
       "      <td>0</td>\n",
       "      <td>0</td>\n",
       "      <td>0</td>\n",
       "      <td>0</td>\n",
       "    </tr>\n",
       "    <tr>\n",
       "      <th>2</th>\n",
       "      <td>49500.0</td>\n",
       "      <td>0</td>\n",
       "      <td>0.0</td>\n",
       "      <td>22170.09</td>\n",
       "      <td>1</td>\n",
       "      <td>0</td>\n",
       "      <td>0</td>\n",
       "      <td>0</td>\n",
       "      <td>0</td>\n",
       "      <td>0</td>\n",
       "      <td>0</td>\n",
       "      <td>0</td>\n",
       "      <td>0</td>\n",
       "      <td>0</td>\n",
       "      <td>0</td>\n",
       "    </tr>\n",
       "    <tr>\n",
       "      <th>3</th>\n",
       "      <td>33500.0</td>\n",
       "      <td>1</td>\n",
       "      <td>7699.0</td>\n",
       "      <td>4645.25</td>\n",
       "      <td>1</td>\n",
       "      <td>0</td>\n",
       "      <td>0</td>\n",
       "      <td>0</td>\n",
       "      <td>0</td>\n",
       "      <td>0</td>\n",
       "      <td>0</td>\n",
       "      <td>0</td>\n",
       "      <td>0</td>\n",
       "      <td>0</td>\n",
       "      <td>0</td>\n",
       "    </tr>\n",
       "    <tr>\n",
       "      <th>4</th>\n",
       "      <td>27600.0</td>\n",
       "      <td>1</td>\n",
       "      <td>8849.0</td>\n",
       "      <td>3834.00</td>\n",
       "      <td>0</td>\n",
       "      <td>0</td>\n",
       "      <td>1</td>\n",
       "      <td>0</td>\n",
       "      <td>0</td>\n",
       "      <td>0</td>\n",
       "      <td>0</td>\n",
       "      <td>0</td>\n",
       "      <td>0</td>\n",
       "      <td>0</td>\n",
       "      <td>0</td>\n",
       "    </tr>\n",
       "  </tbody>\n",
       "</table>\n",
       "</div>"
      ],
      "text/plain": [
       "   Cost_of_vehicle  Condition  Amount  mean_coverage  Insurance_company_A  \\\n",
       "0          41500.0          0     0.0       18590.09                    0   \n",
       "1          50700.0          1  6194.0        7010.25                    0   \n",
       "2          49500.0          0     0.0       22170.09                    1   \n",
       "3          33500.0          1  7699.0        4645.25                    1   \n",
       "4          27600.0          1  8849.0        3834.00                    0   \n",
       "\n",
       "   Insurance_company_AA  Insurance_company_AC  Insurance_company_B  \\\n",
       "0                     0                     0                    0   \n",
       "1                     0                     0                    0   \n",
       "2                     0                     0                    0   \n",
       "3                     0                     0                    0   \n",
       "4                     0                     1                    0   \n",
       "\n",
       "   Insurance_company_BB  Insurance_company_BC  Insurance_company_BQ  \\\n",
       "0                     0                     0                     1   \n",
       "1                     0                     0                     1   \n",
       "2                     0                     0                     0   \n",
       "3                     0                     0                     0   \n",
       "4                     0                     0                     0   \n",
       "\n",
       "   Insurance_company_C  Insurance_company_DA  Insurance_company_O  \\\n",
       "0                    0                     0                    0   \n",
       "1                    0                     0                    0   \n",
       "2                    0                     0                    0   \n",
       "3                    0                     0                    0   \n",
       "4                    0                     0                    0   \n",
       "\n",
       "   Insurance_company_RE  \n",
       "0                     0  \n",
       "1                     0  \n",
       "2                     0  \n",
       "3                     0  \n",
       "4                     0  "
      ]
     },
     "execution_count": 17,
     "metadata": {},
     "output_type": "execute_result"
    }
   ],
   "source": [
    "df = pd.get_dummies(df , columns = [\"Insurance_company\"] , prefix = [\"Insurance_company\"])\n",
    "# from sklearn.preprocessing import LabelEncoder\n",
    "# lb = LabelEncoder()\n",
    "# df[[\"Insurance_company\"]] = lb.fit_transform(df[[\"Insurance_company\"]])\n",
    "df.head()"
   ]
  },
  {
   "cell_type": "code",
   "execution_count": 19,
   "id": "inappropriate-contract",
   "metadata": {},
   "outputs": [],
   "source": [
    "# df[\"year\"] = df[\"year\"].apply(lambda x : x - 2020)\n",
    "# df.head()"
   ]
  },
  {
   "cell_type": "code",
   "execution_count": 20,
   "id": "narrow-bookmark",
   "metadata": {},
   "outputs": [
    {
     "name": "stdout",
     "output_type": "stream",
     "text": [
      "<class 'pandas.core.frame.DataFrame'>\n",
      "Int64Index: 1388 entries, 0 to 1397\n",
      "Data columns (total 14 columns):\n",
      " #   Column                Non-Null Count  Dtype  \n",
      "---  ------                --------------  -----  \n",
      " 0   Cost_of_vehicle       1388 non-null   float64\n",
      " 1   Condition             1388 non-null   int64  \n",
      " 2   Amount                1388 non-null   float64\n",
      " 3   mean_coverage         1388 non-null   float64\n",
      " 4   Insurance_company_A   1388 non-null   uint8  \n",
      " 5   Insurance_company_AA  1388 non-null   uint8  \n",
      " 6   Insurance_company_AC  1388 non-null   uint8  \n",
      " 7   Insurance_company_B   1388 non-null   uint8  \n",
      " 8   Insurance_company_BB  1388 non-null   uint8  \n",
      " 9   Insurance_company_BC  1388 non-null   uint8  \n",
      " 10  Insurance_company_BQ  1388 non-null   uint8  \n",
      " 11  Insurance_company_C   1388 non-null   uint8  \n",
      " 12  Insurance_company_DA  1388 non-null   uint8  \n",
      " 13  Insurance_company_O   1388 non-null   uint8  \n",
      "dtypes: float64(3), int64(1), uint8(10)\n",
      "memory usage: 67.8 KB\n"
     ]
    }
   ],
   "source": [
    "df.info()"
   ]
  },
  {
   "cell_type": "code",
   "execution_count": 21,
   "id": "numeric-gossip",
   "metadata": {},
   "outputs": [],
   "source": [
    "X = df.drop([\"Amount\"] , axis = 1)\n",
    "y = df[\"Amount\"]"
   ]
  },
  {
   "cell_type": "code",
   "execution_count": 22,
   "id": "faced-quantum",
   "metadata": {},
   "outputs": [],
   "source": [
    "from sklearn.model_selection import train_test_split\n",
    "X_train , X_test , y_train , y_test = train_test_split(X , y , test_size = 0.1 , random_state = 42)"
   ]
  },
  {
   "cell_type": "code",
   "execution_count": 23,
   "id": "unauthorized-establishment",
   "metadata": {},
   "outputs": [
    {
     "name": "stderr",
     "output_type": "stream",
     "text": [
      "<ipython-input-23-1d5fc2bae288>:5: SettingWithCopyWarning: \n",
      "A value is trying to be set on a copy of a slice from a DataFrame.\n",
      "Try using .loc[row_indexer,col_indexer] = value instead\n",
      "\n",
      "See the caveats in the documentation: https://pandas.pydata.org/pandas-docs/stable/user_guide/indexing.html#returning-a-view-versus-a-copy\n",
      "  X_train[cols] = scaler.fit_transform(X_train[cols])\n",
      "C:\\Users\\DINESHREDDY\\Desktop\\sample_project\\env\\lib\\site-packages\\pandas\\core\\indexing.py:1738: SettingWithCopyWarning: \n",
      "A value is trying to be set on a copy of a slice from a DataFrame.\n",
      "Try using .loc[row_indexer,col_indexer] = value instead\n",
      "\n",
      "See the caveats in the documentation: https://pandas.pydata.org/pandas-docs/stable/user_guide/indexing.html#returning-a-view-versus-a-copy\n",
      "  self._setitem_single_column(loc, value[:, i].tolist(), pi)\n",
      "<ipython-input-23-1d5fc2bae288>:6: SettingWithCopyWarning: \n",
      "A value is trying to be set on a copy of a slice from a DataFrame.\n",
      "Try using .loc[row_indexer,col_indexer] = value instead\n",
      "\n",
      "See the caveats in the documentation: https://pandas.pydata.org/pandas-docs/stable/user_guide/indexing.html#returning-a-view-versus-a-copy\n",
      "  X_test[cols] = scaler.transform(X_test[cols])\n",
      "C:\\Users\\DINESHREDDY\\Desktop\\sample_project\\env\\lib\\site-packages\\pandas\\core\\indexing.py:1738: SettingWithCopyWarning: \n",
      "A value is trying to be set on a copy of a slice from a DataFrame.\n",
      "Try using .loc[row_indexer,col_indexer] = value instead\n",
      "\n",
      "See the caveats in the documentation: https://pandas.pydata.org/pandas-docs/stable/user_guide/indexing.html#returning-a-view-versus-a-copy\n",
      "  self._setitem_single_column(loc, value[:, i].tolist(), pi)\n"
     ]
    }
   ],
   "source": [
    "from sklearn.preprocessing import StandardScaler\n",
    "scaler = StandardScaler()\n",
    "cols = [\"Cost_of_vehicle\" , \"mean_coverage\"]\n",
    "# scaler.fit(X_train[cols])\n",
    "X_train[cols] = scaler.fit_transform(X_train[cols])\n",
    "X_test[cols] = scaler.transform(X_test[cols])"
   ]
  },
  {
   "cell_type": "code",
   "execution_count": 24,
   "id": "proud-joshua",
   "metadata": {},
   "outputs": [
    {
     "data": {
      "text/html": [
       "<div>\n",
       "<style scoped>\n",
       "    .dataframe tbody tr th:only-of-type {\n",
       "        vertical-align: middle;\n",
       "    }\n",
       "\n",
       "    .dataframe tbody tr th {\n",
       "        vertical-align: top;\n",
       "    }\n",
       "\n",
       "    .dataframe thead th {\n",
       "        text-align: right;\n",
       "    }\n",
       "</style>\n",
       "<table border=\"1\" class=\"dataframe\">\n",
       "  <thead>\n",
       "    <tr style=\"text-align: right;\">\n",
       "      <th></th>\n",
       "      <th>Cost_of_vehicle</th>\n",
       "      <th>Condition</th>\n",
       "      <th>mean_coverage</th>\n",
       "      <th>Insurance_company_A</th>\n",
       "      <th>Insurance_company_AA</th>\n",
       "      <th>Insurance_company_AC</th>\n",
       "      <th>Insurance_company_B</th>\n",
       "      <th>Insurance_company_BB</th>\n",
       "      <th>Insurance_company_BC</th>\n",
       "      <th>Insurance_company_BQ</th>\n",
       "      <th>Insurance_company_C</th>\n",
       "      <th>Insurance_company_DA</th>\n",
       "      <th>Insurance_company_O</th>\n",
       "    </tr>\n",
       "  </thead>\n",
       "  <tbody>\n",
       "    <tr>\n",
       "      <th>1151</th>\n",
       "      <td>-1.282317</td>\n",
       "      <td>1</td>\n",
       "      <td>-0.674851</td>\n",
       "      <td>0</td>\n",
       "      <td>0</td>\n",
       "      <td>0</td>\n",
       "      <td>0</td>\n",
       "      <td>1</td>\n",
       "      <td>0</td>\n",
       "      <td>0</td>\n",
       "      <td>0</td>\n",
       "      <td>0</td>\n",
       "      <td>0</td>\n",
       "    </tr>\n",
       "    <tr>\n",
       "      <th>1056</th>\n",
       "      <td>1.223264</td>\n",
       "      <td>1</td>\n",
       "      <td>0.169881</td>\n",
       "      <td>0</td>\n",
       "      <td>0</td>\n",
       "      <td>0</td>\n",
       "      <td>0</td>\n",
       "      <td>1</td>\n",
       "      <td>0</td>\n",
       "      <td>0</td>\n",
       "      <td>0</td>\n",
       "      <td>0</td>\n",
       "      <td>0</td>\n",
       "    </tr>\n",
       "    <tr>\n",
       "      <th>194</th>\n",
       "      <td>1.153340</td>\n",
       "      <td>1</td>\n",
       "      <td>0.146307</td>\n",
       "      <td>1</td>\n",
       "      <td>0</td>\n",
       "      <td>0</td>\n",
       "      <td>0</td>\n",
       "      <td>0</td>\n",
       "      <td>0</td>\n",
       "      <td>0</td>\n",
       "      <td>0</td>\n",
       "      <td>0</td>\n",
       "      <td>0</td>\n",
       "    </tr>\n",
       "    <tr>\n",
       "      <th>1276</th>\n",
       "      <td>0.675532</td>\n",
       "      <td>1</td>\n",
       "      <td>-0.014782</td>\n",
       "      <td>0</td>\n",
       "      <td>0</td>\n",
       "      <td>1</td>\n",
       "      <td>0</td>\n",
       "      <td>0</td>\n",
       "      <td>0</td>\n",
       "      <td>0</td>\n",
       "      <td>0</td>\n",
       "      <td>0</td>\n",
       "      <td>0</td>\n",
       "    </tr>\n",
       "    <tr>\n",
       "      <th>826</th>\n",
       "      <td>-1.130816</td>\n",
       "      <td>1</td>\n",
       "      <td>-0.623774</td>\n",
       "      <td>0</td>\n",
       "      <td>0</td>\n",
       "      <td>0</td>\n",
       "      <td>0</td>\n",
       "      <td>1</td>\n",
       "      <td>0</td>\n",
       "      <td>0</td>\n",
       "      <td>0</td>\n",
       "      <td>0</td>\n",
       "      <td>0</td>\n",
       "    </tr>\n",
       "  </tbody>\n",
       "</table>\n",
       "</div>"
      ],
      "text/plain": [
       "      Cost_of_vehicle  Condition  mean_coverage  Insurance_company_A  \\\n",
       "1151        -1.282317          1      -0.674851                    0   \n",
       "1056         1.223264          1       0.169881                    0   \n",
       "194          1.153340          1       0.146307                    1   \n",
       "1276         0.675532          1      -0.014782                    0   \n",
       "826         -1.130816          1      -0.623774                    0   \n",
       "\n",
       "      Insurance_company_AA  Insurance_company_AC  Insurance_company_B  \\\n",
       "1151                     0                     0                    0   \n",
       "1056                     0                     0                    0   \n",
       "194                      0                     0                    0   \n",
       "1276                     0                     1                    0   \n",
       "826                      0                     0                    0   \n",
       "\n",
       "      Insurance_company_BB  Insurance_company_BC  Insurance_company_BQ  \\\n",
       "1151                     1                     0                     0   \n",
       "1056                     1                     0                     0   \n",
       "194                      0                     0                     0   \n",
       "1276                     0                     0                     0   \n",
       "826                      1                     0                     0   \n",
       "\n",
       "      Insurance_company_C  Insurance_company_DA  Insurance_company_O  \n",
       "1151                    0                     0                    0  \n",
       "1056                    0                     0                    0  \n",
       "194                     0                     0                    0  \n",
       "1276                    0                     0                    0  \n",
       "826                     0                     0                    0  "
      ]
     },
     "execution_count": 24,
     "metadata": {},
     "output_type": "execute_result"
    }
   ],
   "source": [
    "X_train.head()"
   ]
  },
  {
   "cell_type": "code",
   "execution_count": 25,
   "id": "solved-desperate",
   "metadata": {},
   "outputs": [
    {
     "data": {
      "text/html": [
       "<div>\n",
       "<style scoped>\n",
       "    .dataframe tbody tr th:only-of-type {\n",
       "        vertical-align: middle;\n",
       "    }\n",
       "\n",
       "    .dataframe tbody tr th {\n",
       "        vertical-align: top;\n",
       "    }\n",
       "\n",
       "    .dataframe thead th {\n",
       "        text-align: right;\n",
       "    }\n",
       "</style>\n",
       "<table border=\"1\" class=\"dataframe\">\n",
       "  <thead>\n",
       "    <tr style=\"text-align: right;\">\n",
       "      <th></th>\n",
       "      <th>Cost_of_vehicle</th>\n",
       "      <th>Condition</th>\n",
       "      <th>mean_coverage</th>\n",
       "      <th>Insurance_company_A</th>\n",
       "      <th>Insurance_company_AA</th>\n",
       "      <th>Insurance_company_AC</th>\n",
       "      <th>Insurance_company_B</th>\n",
       "      <th>Insurance_company_BB</th>\n",
       "      <th>Insurance_company_BC</th>\n",
       "      <th>Insurance_company_BQ</th>\n",
       "      <th>Insurance_company_C</th>\n",
       "      <th>Insurance_company_DA</th>\n",
       "      <th>Insurance_company_O</th>\n",
       "    </tr>\n",
       "  </thead>\n",
       "  <tbody>\n",
       "    <tr>\n",
       "      <th>657</th>\n",
       "      <td>0.465763</td>\n",
       "      <td>1</td>\n",
       "      <td>-0.085503</td>\n",
       "      <td>0</td>\n",
       "      <td>0</td>\n",
       "      <td>0</td>\n",
       "      <td>0</td>\n",
       "      <td>1</td>\n",
       "      <td>0</td>\n",
       "      <td>0</td>\n",
       "      <td>0</td>\n",
       "      <td>0</td>\n",
       "      <td>0</td>\n",
       "    </tr>\n",
       "    <tr>\n",
       "      <th>210</th>\n",
       "      <td>-0.116931</td>\n",
       "      <td>1</td>\n",
       "      <td>-0.281952</td>\n",
       "      <td>0</td>\n",
       "      <td>1</td>\n",
       "      <td>0</td>\n",
       "      <td>0</td>\n",
       "      <td>0</td>\n",
       "      <td>0</td>\n",
       "      <td>0</td>\n",
       "      <td>0</td>\n",
       "      <td>0</td>\n",
       "      <td>0</td>\n",
       "    </tr>\n",
       "    <tr>\n",
       "      <th>429</th>\n",
       "      <td>-1.340586</td>\n",
       "      <td>1</td>\n",
       "      <td>-0.694496</td>\n",
       "      <td>0</td>\n",
       "      <td>1</td>\n",
       "      <td>0</td>\n",
       "      <td>0</td>\n",
       "      <td>0</td>\n",
       "      <td>0</td>\n",
       "      <td>0</td>\n",
       "      <td>0</td>\n",
       "      <td>0</td>\n",
       "      <td>0</td>\n",
       "    </tr>\n",
       "    <tr>\n",
       "      <th>684</th>\n",
       "      <td>-0.350008</td>\n",
       "      <td>1</td>\n",
       "      <td>-0.360532</td>\n",
       "      <td>0</td>\n",
       "      <td>0</td>\n",
       "      <td>0</td>\n",
       "      <td>0</td>\n",
       "      <td>0</td>\n",
       "      <td>0</td>\n",
       "      <td>0</td>\n",
       "      <td>1</td>\n",
       "      <td>0</td>\n",
       "      <td>0</td>\n",
       "    </tr>\n",
       "    <tr>\n",
       "      <th>1282</th>\n",
       "      <td>-0.653008</td>\n",
       "      <td>1</td>\n",
       "      <td>-0.462686</td>\n",
       "      <td>0</td>\n",
       "      <td>0</td>\n",
       "      <td>0</td>\n",
       "      <td>0</td>\n",
       "      <td>0</td>\n",
       "      <td>0</td>\n",
       "      <td>0</td>\n",
       "      <td>0</td>\n",
       "      <td>1</td>\n",
       "      <td>0</td>\n",
       "    </tr>\n",
       "  </tbody>\n",
       "</table>\n",
       "</div>"
      ],
      "text/plain": [
       "      Cost_of_vehicle  Condition  mean_coverage  Insurance_company_A  \\\n",
       "657          0.465763          1      -0.085503                    0   \n",
       "210         -0.116931          1      -0.281952                    0   \n",
       "429         -1.340586          1      -0.694496                    0   \n",
       "684         -0.350008          1      -0.360532                    0   \n",
       "1282        -0.653008          1      -0.462686                    0   \n",
       "\n",
       "      Insurance_company_AA  Insurance_company_AC  Insurance_company_B  \\\n",
       "657                      0                     0                    0   \n",
       "210                      1                     0                    0   \n",
       "429                      1                     0                    0   \n",
       "684                      0                     0                    0   \n",
       "1282                     0                     0                    0   \n",
       "\n",
       "      Insurance_company_BB  Insurance_company_BC  Insurance_company_BQ  \\\n",
       "657                      1                     0                     0   \n",
       "210                      0                     0                     0   \n",
       "429                      0                     0                     0   \n",
       "684                      0                     0                     0   \n",
       "1282                     0                     0                     0   \n",
       "\n",
       "      Insurance_company_C  Insurance_company_DA  Insurance_company_O  \n",
       "657                     0                     0                    0  \n",
       "210                     0                     0                    0  \n",
       "429                     0                     0                    0  \n",
       "684                     1                     0                    0  \n",
       "1282                    0                     1                    0  "
      ]
     },
     "execution_count": 25,
     "metadata": {},
     "output_type": "execute_result"
    }
   ],
   "source": [
    "X_test.head()"
   ]
  },
  {
   "cell_type": "code",
   "execution_count": 27,
   "id": "charitable-diesel",
   "metadata": {},
   "outputs": [
    {
     "data": {
      "text/plain": [
       "RandomForestRegressor(n_estimators=200, random_state=42)"
      ]
     },
     "execution_count": 27,
     "metadata": {},
     "output_type": "execute_result"
    }
   ],
   "source": [
    "from sklearn.ensemble import RandomForestRegressor\n",
    "random = RandomForestRegressor(n_estimators = 200 , random_state = 42)\n",
    "random.fit(X_train , y_train)"
   ]
  },
  {
   "cell_type": "code",
   "execution_count": 28,
   "id": "reserved-penguin",
   "metadata": {},
   "outputs": [
    {
     "data": {
      "text/plain": [
       "0"
      ]
     },
     "execution_count": 28,
     "metadata": {},
     "output_type": "execute_result"
    }
   ],
   "source": [
    "random_score = score(random.predict(X_test))\n",
    "random_score"
   ]
  },
  {
   "cell_type": "code",
   "execution_count": 29,
   "id": "waiting-forest",
   "metadata": {},
   "outputs": [
    {
     "data": {
      "text/plain": [
       "0.7045604420373996"
      ]
     },
     "execution_count": 29,
     "metadata": {},
     "output_type": "execute_result"
    }
   ],
   "source": [
    "random.score(X_train , y_train)"
   ]
  },
  {
   "cell_type": "code",
   "execution_count": 30,
   "id": "emerging-missouri",
   "metadata": {},
   "outputs": [
    {
     "data": {
      "text/plain": [
       "-0.16462527772062696"
      ]
     },
     "execution_count": 30,
     "metadata": {},
     "output_type": "execute_result"
    }
   ],
   "source": [
    "random.score(X_test , y_test)"
   ]
  },
  {
   "cell_type": "code",
   "execution_count": 31,
   "id": "actual-touch",
   "metadata": {},
   "outputs": [
    {
     "data": {
      "text/plain": [
       "array([ 5119.075     ,  5157.71641667,  4540.13      ,  4150.357     ,\n",
       "        3903.10833333,  5175.96358333,  3726.96      ,  6208.24183333,\n",
       "        3731.41875   ,  3664.15      ,  4568.67021429,  6328.2088956 ,\n",
       "        2339.02      ,  3021.56385823,  6233.845     ,  4523.965     ,\n",
       "        1396.56011959,  2870.8030119 ,     0.        ,  4256.73      ,\n",
       "        4710.5725    ,     0.        ,  3332.21666667,  5208.85316667,\n",
       "        3642.97833333,  5679.402     ,  2956.7       ,  3253.20066667,\n",
       "        1791.01766667,  7583.6925    ,  2943.49464286,  6166.12666667,\n",
       "        5524.91419678,  7437.00941667,  4932.2805    ,  3677.665     ,\n",
       "        3234.78916667,  3048.93166667,  4027.88675595,  5504.615     ,\n",
       "        3521.24      ,  4593.65      ,  4246.38833333,  4788.98683333,\n",
       "        4202.2415    ,  4332.66983333,  3628.53      ,     0.        ,\n",
       "        3890.11044048,  2285.82630952,  5487.47425   ,  5064.545     ,\n",
       "        2624.125     ,  3434.90325   ,  4009.47      ,  2057.60625   ,\n",
       "           0.        ,  3694.96766667,  1819.60833333,  4701.578     ,\n",
       "        4440.755     ,  3422.625     ,  5524.66322619,  5866.16141071,\n",
       "        5201.79883333,  5445.48      ,  1342.36133333,  3733.525     ,\n",
       "        1849.65083333,  4076.744     ,  2111.24      ,  4046.49166667,\n",
       "        2935.17333333,  2943.44083333,  5393.345     ,  3635.075     ,\n",
       "        4880.57958333,     0.        ,  4143.37391667,  3761.099     ,\n",
       "        3749.68466667,  2180.001     ,     0.        ,  4879.75993452,\n",
       "        2140.911     ,     0.        ,  4937.74766667,  4384.05796771,\n",
       "        9036.55      , 11446.7015    ,  4869.12777381,    19.605     ,\n",
       "           0.        ,  5033.29475   ,  4310.68596429,  4151.22916667,\n",
       "        4682.07291667,  1995.42458333,  1804.63      ,  3271.52091073,\n",
       "        3234.78916667,     0.        ,  4794.245     ,  4677.33336905,\n",
       "        4266.69258333,  3974.73666667,  2989.20887221,  2891.98      ,\n",
       "        4447.335     ,  3576.16783333,  1807.74333333,  4587.81891667,\n",
       "           0.        ,  2986.61625   ,  5345.964     ,  4293.41834403,\n",
       "        6646.69415476,  3985.53160714,  5997.38      ,  1928.93666667,\n",
       "        5198.69621429,  3100.93      ,  4289.61      ,  1700.25      ,\n",
       "        6646.69415476,  3964.62976011,  5455.03595364,  4184.0725    ,\n",
       "        4142.954     ,  4380.945     ,  8745.42357143,  5722.14      ,\n",
       "        6328.2088956 ,  4744.9455    ,  3075.625     ,  2855.30541667,\n",
       "        4293.41834403,  3903.4785    ,  2245.4525    ])"
      ]
     },
     "execution_count": 31,
     "metadata": {},
     "output_type": "execute_result"
    }
   ],
   "source": [
    "random_preds = random.predict(X_test)\n",
    "random_preds"
   ]
  },
  {
   "cell_type": "code",
   "execution_count": 32,
   "id": "opposite-absolute",
   "metadata": {},
   "outputs": [
    {
     "data": {
      "image/png": "[encoded data removed]",
      "text/plain": [
       "<Figure size 432x288 with 1 Axes>"
      ]
     },
     "metadata": {
      "needs_background": "light"
     },
     "output_type": "display_data"
    }
   ],
   "source": [
    "plt.scatter(y_test , random_preds)\n",
    "x = np.linspace(min(y_test),max(y_test),100)\n",
    "y = x\n",
    "plt.plot(x, y , \"-r\");"
   ]
  },
  {
   "cell_type": "code",
   "execution_count": 33,
   "id": "disabled-dinner",
   "metadata": {},
   "outputs": [
    {
     "data": {
      "text/plain": [
       "array([0.3252088 , 0.11577913, 0.34053921, 0.01971563, 0.02626252,\n",
       "       0.02121623, 0.02147719, 0.02046688, 0.02226956, 0.02661686,\n",
       "       0.02028278, 0.02163239, 0.01853284])"
      ]
     },
     "execution_count": 33,
     "metadata": {},
     "output_type": "execute_result"
    }
   ],
   "source": [
    "random.feature_importances_"
   ]
  },
  {
   "cell_type": "code",
   "execution_count": 34,
   "id": "still-xerox",
   "metadata": {},
   "outputs": [
    {
     "data": {
      "text/plain": [
       "XGBRegressor(base_score=0.5, booster='gbtree', colsample_bylevel=1,\n",
       "             colsample_bynode=1, colsample_bytree=1, gamma=0, gpu_id=-1,\n",
       "             importance_type='gain', interaction_constraints='',\n",
       "             learning_rate=0.300000012, max_delta_step=0, max_depth=6,\n",
       "             min_child_weight=1, missing=nan, monotone_constraints='()',\n",
       "             n_estimators=100, n_jobs=8, num_parallel_tree=1, random_state=0,\n",
       "             reg_alpha=0, reg_lambda=1, scale_pos_weight=1, subsample=1,\n",
       "             tree_method='exact', validate_parameters=1, verbosity=None)"
      ]
     },
     "execution_count": 34,
     "metadata": {},
     "output_type": "execute_result"
    }
   ],
   "source": [
    "from xgboost import XGBRegressor\n",
    "xgb = XGBRegressor()\n",
    "xgb.fit(X_train , y_train)"
   ]
  },
  {
   "cell_type": "code",
   "execution_count": 35,
   "id": "grave-perspective",
   "metadata": {},
   "outputs": [
    {
     "name": "stderr",
     "output_type": "stream",
     "text": [
      "C:\\Users\\DINESHREDDY\\Desktop\\sample_project\\env\\lib\\site-packages\\xgboost\\data.py:112: UserWarning: Use subset (sliced data) of np.ndarray is not recommended because it will generate extra copies and increase memory consumption\n",
      "  warnings.warn(\n"
     ]
    },
    {
     "data": {
      "text/plain": [
       "0.716781436134605"
      ]
     },
     "execution_count": 35,
     "metadata": {},
     "output_type": "execute_result"
    }
   ],
   "source": [
    "xgb.score(X_train , y_train)"
   ]
  },
  {
   "cell_type": "code",
   "execution_count": 36,
   "id": "visible-peeing",
   "metadata": {},
   "outputs": [
    {
     "name": "stderr",
     "output_type": "stream",
     "text": [
      "C:\\Users\\DINESHREDDY\\Desktop\\sample_project\\env\\lib\\site-packages\\xgboost\\data.py:112: UserWarning: Use subset (sliced data) of np.ndarray is not recommended because it will generate extra copies and increase memory consumption\n",
      "  warnings.warn(\n"
     ]
    },
    {
     "data": {
      "text/plain": [
       "-0.1133745344359085"
      ]
     },
     "execution_count": 36,
     "metadata": {},
     "output_type": "execute_result"
    }
   ],
   "source": [
    "xgb.score(X_test , y_test)"
   ]
  },
  {
   "cell_type": "code",
   "execution_count": 37,
   "id": "engaged-filename",
   "metadata": {},
   "outputs": [
    {
     "name": "stderr",
     "output_type": "stream",
     "text": [
      "C:\\Users\\DINESHREDDY\\Desktop\\sample_project\\env\\lib\\site-packages\\xgboost\\data.py:112: UserWarning: Use subset (sliced data) of np.ndarray is not recommended because it will generate extra copies and increase memory consumption\n",
      "  warnings.warn(\n"
     ]
    },
    {
     "data": {
      "text/plain": [
       "0"
      ]
     },
     "execution_count": 37,
     "metadata": {},
     "output_type": "execute_result"
    }
   ],
   "source": [
    "xgb_score = score(xgb.predict(X_test))\n",
    "xgb_score"
   ]
  },
  {
   "cell_type": "code",
   "execution_count": 38,
   "id": "dutch-animal",
   "metadata": {},
   "outputs": [
    {
     "name": "stderr",
     "output_type": "stream",
     "text": [
      "C:\\Users\\DINESHREDDY\\Desktop\\sample_project\\env\\lib\\site-packages\\xgboost\\data.py:112: UserWarning: Use subset (sliced data) of np.ndarray is not recommended because it will generate extra copies and increase memory consumption\n",
      "  warnings.warn(\n"
     ]
    },
    {
     "data": {
      "text/plain": [
       "array([ 4237.914  ,  3664.5842 ,  5046.722  ,  3954.3445 ,  3629.6255 ,\n",
       "        4759.4863 ,  3104.7988 ,  7263.9307 ,  2701.1113 ,  2675.9363 ,\n",
       "        3618.8755 ,  5974.347  ,  2611.8809 ,  1501.1763 ,  5648.481  ,\n",
       "        4583.7847 ,   425.03247,  2725.9302 ,  -132.83618,  4586.7954 ,\n",
       "        3874.019  ,  -449.90845,  3489.9502 ,  5710.8184 ,  3576.1377 ,\n",
       "        5444.773  ,  3078.6277 ,  3269.098  ,  2448.0137 ,  8983.56   ,\n",
       "        1810.0272 ,  6570.305  ,  5232.5034 ,  7368.745  ,  5041.761  ,\n",
       "        3294.8867 ,  1576.499  ,  5303.918  ,  4209.7256 ,  5870.114  ,\n",
       "        4869.983  ,  3288.9646 ,  2972.056  ,  4505.324  ,  3846.119  ,\n",
       "        4120.608  ,  3576.1377 ,   105.89958,  2747.1978 ,  2414.7373 ,\n",
       "        5734.538  ,  4944.0586 ,  2344.37   ,  3532.9927 ,  3286.2673 ,\n",
       "        1239.425  ,   -43.5385 ,  4702.7656 ,  1600.6246 ,  5247.5317 ,\n",
       "        4098.1655 ,  3197.1838 ,  6059.4126 ,  4759.531  ,  5394.3604 ,\n",
       "        4091.8193 ,  1064.2008 ,  3730.6152 ,  2447.6094 ,  3215.104  ,\n",
       "        2664.5437 ,  4149.6875 ,  3491.1946 ,  2892.9355 ,  4389.818  ,\n",
       "        4015.98   ,  5195.5625 ,  -420.26556,  4809.2305 ,  3511.0234 ,\n",
       "        4381.6367 ,  2823.2976 ,   493.61105,  5832.518  ,  2183.9736 ,\n",
       "       -1198.9027 ,  5734.2915 ,  4879.966  ,  8427.555  ,  3550.291  ,\n",
       "        3544.062  ,  -791.00867,   168.6382 ,  5020.615  ,  4322.101  ,\n",
       "        4354.777  ,  5173.227  ,  1207.3981 ,  2944.3677 ,  3526.037  ,\n",
       "        1576.499  ,  1157.591  ,  4300.6943 ,  4916.3765 ,  3778.9739 ,\n",
       "        3445.8154 ,  3255.8005 ,  3448.2703 ,  4571.2354 ,  3300.5032 ,\n",
       "        1813.8813 ,  4482.118  , -1005.5787 ,  1837.3289 ,  5316.8013 ,\n",
       "        4367.62   ,  4477.01   ,  3410.7239 ,  7766.1816 ,  2482.2654 ,\n",
       "        2402.5872 ,  2912.9644 ,  4098.1655 ,  1012.80743,  4477.01   ,\n",
       "        4120.0757 ,  5342.578  ,  5507.1206 ,  4143.0386 ,  4399.83   ,\n",
       "        8485.237  ,  5643.5464 ,  5974.347  ,  4742.456  ,  3405.059  ,\n",
       "        2217.7747 ,  4367.62   ,  3239.58   ,  1787.4744 ], dtype=float32)"
      ]
     },
     "execution_count": 38,
     "metadata": {},
     "output_type": "execute_result"
    }
   ],
   "source": [
    "xgb_preds = xgb.predict(X_test)\n",
    "xgb_preds"
   ]
  },
  {
   "cell_type": "code",
   "execution_count": 39,
   "id": "former-observation",
   "metadata": {},
   "outputs": [
    {
     "data": {
      "image/png": "[encoded data removed]",
      "text/plain": [
       "<Figure size 432x288 with 1 Axes>"
      ]
     },
     "metadata": {
      "needs_background": "light"
     },
     "output_type": "display_data"
    }
   ],
   "source": [
    "plt.scatter(y_test , xgb_preds)\n",
    "x = np.linspace(min(y_test),max(y_test),100)\n",
    "y = x\n",
    "plt.plot(x, y , \"-r\");"
   ]
  },
  {
   "cell_type": "code",
   "execution_count": 103,
   "id": "honey-humidity",
   "metadata": {},
   "outputs": [
    {
     "data": {
      "text/plain": [
       "LinearRegression()"
      ]
     },
     "execution_count": 103,
     "metadata": {},
     "output_type": "execute_result"
    }
   ],
   "source": [
    "from sklearn.linear_model import LinearRegression\n",
    "linear = LinearRegression()\n",
    "linear.fit(X_train , y_train)"
   ]
  },
  {
   "cell_type": "code",
   "execution_count": 104,
   "id": "inclusive-nightmare",
   "metadata": {},
   "outputs": [
    {
     "data": {
      "text/plain": [
       "0.13118057945580697"
      ]
     },
     "execution_count": 104,
     "metadata": {},
     "output_type": "execute_result"
    }
   ],
   "source": [
    "linear.score(X_train , y_train)"
   ]
  },
  {
   "cell_type": "code",
   "execution_count": 105,
   "id": "vulnerable-partnership",
   "metadata": {},
   "outputs": [
    {
     "data": {
      "text/plain": [
       "21.10951239439778"
      ]
     },
     "execution_count": 105,
     "metadata": {},
     "output_type": "execute_result"
    }
   ],
   "source": [
    "linear_score = score(linear.predict(X_test))\n",
    "linear_score"
   ]
  },
  {
   "cell_type": "code",
   "execution_count": 106,
   "id": "uniform-impression",
   "metadata": {},
   "outputs": [
    {
     "data": {
      "text/plain": [
       "array([ 4.27764506e+03,  4.98506743e+03,  4.92994086e+03,  4.05553381e+03,\n",
       "        4.47963794e+03,  4.04479144e+03,  4.22456009e+03,  4.58735060e+03,\n",
       "        4.49603560e+03,  4.48168116e+03,  4.25015220e+03,  4.23074398e+03,\n",
       "        4.32716284e+03,  4.55051035e+03,  4.32786857e+03,  4.26453771e+03,\n",
       "       -1.06536448e+01,  4.50621836e+03,  5.04744044e+02,  4.53020471e+03,\n",
       "        4.55844556e+03,  9.64597556e-01,  4.27308841e+03,  4.55228667e+03,\n",
       "        4.35458441e+03,  4.50081914e+03,  4.51276297e+03,  4.60499053e+03,\n",
       "        4.14222216e+03,  5.00118558e+03,  4.61389769e+03,  4.47381949e+03,\n",
       "        4.11491930e+03,  4.07811544e+03,  4.49730469e+03,  4.53768013e+03,\n",
       "        4.31376244e+03,  4.99114825e+03,  4.58692147e+03,  4.26846166e+03,\n",
       "        4.45200920e+03,  4.20288958e+03,  4.22588230e+03,  4.45254136e+03,\n",
       "        4.06938421e+03,  4.22146339e+03,  4.31893340e+03,  1.52218155e+02,\n",
       "        4.20600637e+03,  4.70084099e+03,  4.50622418e+03,  4.00407434e+03,\n",
       "        5.10823347e+03,  4.31058572e+03,  4.25306174e+03,  4.46993122e+03,\n",
       "       -2.14125536e+02,  4.57358214e+03,  4.45752750e+03,  4.27858235e+03,\n",
       "        4.15733579e+03,  4.58012563e+03,  4.37296262e+03,  3.99747462e+03,\n",
       "        4.18828009e+03,  4.59130636e+03,  4.62270187e+03,  4.17559303e+03,\n",
       "        4.59744762e+03,  4.58697325e+03,  4.64231583e+03,  4.64129757e+03,\n",
       "        4.57641792e+03,  4.50711784e+03,  4.33393212e+03,  4.20074309e+03,\n",
       "        4.54657268e+03, -5.93728421e+01,  4.57171055e+03,  4.40847499e+03,\n",
       "        4.23075023e+03,  4.58263184e+03, -2.00583282e+02,  4.57394616e+03,\n",
       "        4.59932445e+03,  1.46145058e+02,  4.48353298e+03,  4.96925666e+03,\n",
       "        4.61475969e+03,  4.92643022e+03,  4.47664636e+03, -2.01579882e+02,\n",
       "        2.60695340e+00,  4.15024357e+03,  4.40595211e+03,  4.21178931e+03,\n",
       "        4.52620504e+03,  4.59313813e+03,  4.10922360e+03,  4.16808101e+03,\n",
       "        4.23364579e+03,  1.29090178e+02,  4.41434406e+03,  4.65177697e+03,\n",
       "        4.26788296e+03,  4.19393088e+03,  4.27092254e+03,  4.68683711e+03,\n",
       "        4.44619154e+03,  4.60656607e+03,  4.68800838e+03,  4.28419694e+03,\n",
       "        1.25159988e+02,  4.42289848e+03,  4.56293812e+03,  4.41318762e+03,\n",
       "        4.38412300e+03,  4.90606261e+03,  4.23605617e+03,  4.51715927e+03,\n",
       "        4.10908611e+03,  4.22228387e+03,  4.12099022e+03,  4.41470262e+03,\n",
       "        4.50124326e+03,  4.97493224e+03,  4.60068520e+03,  4.34581690e+03,\n",
       "        4.22537315e+03,  4.17480435e+03,  4.58855020e+03,  4.35749898e+03,\n",
       "        4.19074500e+03,  4.16151924e+03,  4.67093334e+03,  4.54883191e+03,\n",
       "        4.37560815e+03,  4.50638512e+03,  4.23627655e+03])"
      ]
     },
     "execution_count": 106,
     "metadata": {},
     "output_type": "execute_result"
    }
   ],
   "source": [
    "linear_preds = linear.predict(X_test)\n",
    "linear_preds"
   ]
  },
  {
   "cell_type": "code",
   "execution_count": 107,
   "id": "periodic-waste",
   "metadata": {},
   "outputs": [
    {
     "data": {
      "image/png": "[encoded data removed]",
      "text/plain": [
       "<Figure size 432x288 with 1 Axes>"
      ]
     },
     "metadata": {
      "needs_background": "light"
     },
     "output_type": "display_data"
    }
   ],
   "source": [
    "plt.scatter(y_test , linear_preds)\n",
    "x = np.linspace(min(y_test),max(y_test),100)\n",
    "y = x\n",
    "plt.plot(x, y , \"-r\");"
   ]
  },
  {
   "cell_type": "code",
   "execution_count": 108,
   "id": "alert-tourism",
   "metadata": {},
   "outputs": [
    {
     "data": {
      "text/plain": [
       "GradientBoostingRegressor(random_state=42)"
      ]
     },
     "execution_count": 108,
     "metadata": {},
     "output_type": "execute_result"
    }
   ],
   "source": [
    "from sklearn.ensemble import GradientBoostingRegressor\n",
    "gbr = GradientBoostingRegressor(random_state = 42)\n",
    "gbr.fit(X_train , y_train)"
   ]
  },
  {
   "cell_type": "code",
   "execution_count": 109,
   "id": "bacterial-testimony",
   "metadata": {},
   "outputs": [
    {
     "data": {
      "text/plain": [
       "0.3472433913835504"
      ]
     },
     "execution_count": 109,
     "metadata": {},
     "output_type": "execute_result"
    }
   ],
   "source": [
    "gbr.score(X_train , y_train)"
   ]
  },
  {
   "cell_type": "code",
   "execution_count": 110,
   "id": "hydraulic-watch",
   "metadata": {},
   "outputs": [
    {
     "data": {
      "text/plain": [
       "0.19004051632793406"
      ]
     },
     "execution_count": 110,
     "metadata": {},
     "output_type": "execute_result"
    }
   ],
   "source": [
    "gbr.score(X_test , y_test)"
   ]
  },
  {
   "cell_type": "code",
   "execution_count": 111,
   "id": "earned-ticket",
   "metadata": {},
   "outputs": [
    {
     "data": {
      "text/plain": [
       "AdaBoostRegressor(random_state=42)"
      ]
     },
     "execution_count": 111,
     "metadata": {},
     "output_type": "execute_result"
    }
   ],
   "source": [
    "from sklearn.ensemble import AdaBoostRegressor\n",
    "ada = AdaBoostRegressor(random_state = 42)\n",
    "ada.fit(X_train , y_train)"
   ]
  },
  {
   "cell_type": "code",
   "execution_count": 112,
   "id": "stretch-diabetes",
   "metadata": {},
   "outputs": [
    {
     "data": {
      "text/plain": [
       "0.29089715361369806"
      ]
     },
     "execution_count": 112,
     "metadata": {},
     "output_type": "execute_result"
    }
   ],
   "source": [
    "ada.score(X_train , y_train)"
   ]
  },
  {
   "cell_type": "code",
   "execution_count": 113,
   "id": "essential-morris",
   "metadata": {},
   "outputs": [
    {
     "data": {
      "text/plain": [
       "-0.056868868587532484"
      ]
     },
     "execution_count": 113,
     "metadata": {},
     "output_type": "execute_result"
    }
   ],
   "source": [
    "ada.score(X_test , y_test)"
   ]
  },
  {
   "cell_type": "code",
   "execution_count": 114,
   "id": "functional-belize",
   "metadata": {},
   "outputs": [
    {
     "data": {
      "text/html": [
       "<div>\n",
       "<style scoped>\n",
       "    .dataframe tbody tr th:only-of-type {\n",
       "        vertical-align: middle;\n",
       "    }\n",
       "\n",
       "    .dataframe tbody tr th {\n",
       "        vertical-align: top;\n",
       "    }\n",
       "\n",
       "    .dataframe thead th {\n",
       "        text-align: right;\n",
       "    }\n",
       "</style>\n",
       "<table border=\"1\" class=\"dataframe\">\n",
       "  <thead>\n",
       "    <tr style=\"text-align: right;\">\n",
       "      <th></th>\n",
       "      <th>Image_path</th>\n",
       "      <th>Insurance_company</th>\n",
       "      <th>Cost_of_vehicle</th>\n",
       "      <th>Min_coverage</th>\n",
       "      <th>Expiry_date</th>\n",
       "      <th>Max_coverage</th>\n",
       "    </tr>\n",
       "  </thead>\n",
       "  <tbody>\n",
       "    <tr>\n",
       "      <th>0</th>\n",
       "      <td>img_4538519.jpg</td>\n",
       "      <td>B</td>\n",
       "      <td>23600</td>\n",
       "      <td>590.0</td>\n",
       "      <td>2025-04-12</td>\n",
       "      <td>5978.0</td>\n",
       "    </tr>\n",
       "    <tr>\n",
       "      <th>1</th>\n",
       "      <td>img_7766002.jpg</td>\n",
       "      <td>C</td>\n",
       "      <td>28300</td>\n",
       "      <td>707.5</td>\n",
       "      <td>2028-08-24</td>\n",
       "      <td>7153.0</td>\n",
       "    </tr>\n",
       "    <tr>\n",
       "      <th>2</th>\n",
       "      <td>img_4637390.jpg</td>\n",
       "      <td>AC</td>\n",
       "      <td>43700</td>\n",
       "      <td>1092.5</td>\n",
       "      <td>2023-11-28</td>\n",
       "      <td>11003.0</td>\n",
       "    </tr>\n",
       "    <tr>\n",
       "      <th>3</th>\n",
       "      <td>img_4516108.jpg</td>\n",
       "      <td>BB</td>\n",
       "      <td>46100</td>\n",
       "      <td>1152.5</td>\n",
       "      <td>2028-02-04</td>\n",
       "      <td>11603.0</td>\n",
       "    </tr>\n",
       "    <tr>\n",
       "      <th>4</th>\n",
       "      <td>img_4517008.jpg</td>\n",
       "      <td>BB</td>\n",
       "      <td>40700</td>\n",
       "      <td>1017.5</td>\n",
       "      <td>2022-01-03</td>\n",
       "      <td>10253.0</td>\n",
       "    </tr>\n",
       "  </tbody>\n",
       "</table>\n",
       "</div>"
      ],
      "text/plain": [
       "        Image_path Insurance_company  Cost_of_vehicle  Min_coverage  \\\n",
       "0  img_4538519.jpg                 B            23600         590.0   \n",
       "1  img_7766002.jpg                 C            28300         707.5   \n",
       "2  img_4637390.jpg                AC            43700        1092.5   \n",
       "3  img_4516108.jpg                BB            46100        1152.5   \n",
       "4  img_4517008.jpg                BB            40700        1017.5   \n",
       "\n",
       "  Expiry_date  Max_coverage  \n",
       "0  2025-04-12        5978.0  \n",
       "1  2028-08-24        7153.0  \n",
       "2  2023-11-28       11003.0  \n",
       "3  2028-02-04       11603.0  \n",
       "4  2022-01-03       10253.0  "
      ]
     },
     "execution_count": 114,
     "metadata": {},
     "output_type": "execute_result"
    }
   ],
   "source": [
    "tt = pd.read_csv(\"Data/HackerEarth Insurance/test.csv\" , parse_dates = [\"Expiry_date\"])\n",
    "tt.head()"
   ]
  },
  {
   "cell_type": "code",
   "execution_count": 115,
   "id": "significant-input",
   "metadata": {},
   "outputs": [],
   "source": [
    "imgs = tt[\"Image_path\"]\n",
    "conditions = [1, 1, 1, 1, 1, 1, 1, 1, 1, 1, 1, 1, 1, 1, 1, 1, 1, 1, 1, 1, 1, 1,\n",
    "       1, 1, 1, 1, 1, 1, 1, 1, 1, 1, 1, 1, 1, 1, 1, 1, 1, 1, 1, 1, 1, 1,\n",
    "       1, 1, 1, 1, 1, 1, 1, 1, 1, 1, 1, 1, 1, 1, 1, 1, 1, 1, 1, 1, 1, 1,\n",
    "       1, 1, 1, 1, 1, 1, 1, 1, 1, 1, 1, 1, 1, 1, 1, 1, 1, 1, 1, 1, 1, 1,\n",
    "       1, 1, 1, 1, 1, 1, 1, 1, 1, 1, 1, 1, 1, 1, 1, 1, 1, 1, 1, 1, 1, 1,\n",
    "       1, 1, 1, 1, 1, 1, 1, 1, 1, 1, 1, 1, 1, 1, 1, 1, 1, 1, 1, 1, 1, 1,\n",
    "       1, 1, 1, 1, 1, 1, 1, 1, 1, 1, 1, 1, 1, 1, 1, 1, 1, 1, 1, 1, 1, 1,\n",
    "       1, 1, 1, 1, 1, 1, 1, 1, 1, 1, 1, 1, 1, 1, 1, 1, 1, 1, 1, 1, 1, 1,\n",
    "       1, 1, 1, 1, 1, 1, 1, 1, 1, 1, 1, 1, 1, 1, 1, 1, 1, 1, 1, 1, 1, 1,\n",
    "       1, 1, 1, 1, 1, 1, 1, 1, 1, 1, 1, 1, 1, 1, 1, 1, 1, 1, 1, 1, 1, 1,\n",
    "       1, 1, 1, 1, 1, 1, 1, 1, 1, 1, 1, 1, 1, 1, 1, 1, 1, 1, 1, 1, 1, 1,\n",
    "       1, 1, 1, 1, 1, 1, 1, 1, 1, 1, 1, 1, 1, 1, 1, 1, 1, 1, 1, 1, 1, 1,\n",
    "       1, 1, 1, 1, 1, 1, 1, 1, 1, 1, 1, 1, 1, 1, 1, 1, 1, 1, 1, 1, 1, 1,\n",
    "       1, 1, 1, 1, 1, 1, 1, 1, 1, 1, 1, 1, 1, 0, 1, 1, 1, 1, 1, 1, 1, 1,\n",
    "       1, 1, 1, 1, 1, 1, 1, 1, 1, 1, 1, 1, 1, 1, 1, 1, 1, 0, 1, 1, 1, 1,\n",
    "       1, 1, 1, 1, 1, 1, 1, 1, 1, 1, 1, 1, 1, 1, 1, 1, 1, 1, 1, 1, 1, 1,\n",
    "       1, 1, 1, 1, 1, 1, 1, 1, 1, 1, 1, 1, 1, 1, 1, 1, 1, 1, 1, 1, 1, 1,\n",
    "       1, 1, 1, 1, 1, 1, 1, 1, 1, 1, 1, 1, 1, 1, 1, 1, 1, 1, 1, 1, 1, 1,\n",
    "       1, 1, 1, 1, 1, 1, 1, 1, 1, 1, 1, 1, 1, 1, 1, 1, 1, 1, 1, 1, 1, 1,\n",
    "       1, 1, 1, 1, 1, 1, 1, 1, 1, 1, 1, 1, 1, 1, 1, 1, 1, 1, 1, 1, 1, 1,\n",
    "       1, 1, 0, 1, 1, 1, 1, 1, 1, 1, 1, 1, 1, 1, 1, 1, 1, 1, 1, 1, 1, 1,\n",
    "       1, 1, 1, 1, 1, 1, 1, 1, 1, 1, 1, 1, 1, 1, 1, 1, 1, 1, 1, 1, 1, 1,\n",
    "       1, 1, 1, 1, 1, 1, 1, 1, 1, 1, 1, 1, 1, 0, 1, 0, 1, 1, 1, 1, 1, 1,\n",
    "       1, 1, 1, 1, 1, 1, 1, 1, 1, 1, 1, 1, 1, 1, 1, 1, 1, 1, 1, 1, 1, 1,\n",
    "       1, 1, 1, 1, 1, 1, 1, 1, 1, 1, 1, 1, 1, 1, 1, 1, 1, 1, 1, 1, 1, 1,\n",
    "       1, 1, 1, 1, 1, 1, 1, 1, 1, 1, 1, 1, 1, 1, 1, 1, 1, 1, 1, 1, 1, 1,\n",
    "       1, 1, 1, 1, 1, 1, 1, 1, 1, 1, 1, 1, 1, 1, 1, 1, 1, 1, 1, 1, 1, 1,\n",
    "       1, 1, 1, 1, 1, 1]"
   ]
  },
  {
   "cell_type": "code",
   "execution_count": 116,
   "id": "italic-newman",
   "metadata": {},
   "outputs": [],
   "source": [
    "tt[\"year\"] = tt[\"Expiry_date\"].dt.year\n",
    "tt[\"month\"] = tt[\"Expiry_date\"].dt.month\n",
    "tt[\"date\"] = tt[\"Expiry_date\"].dt.day"
   ]
  },
  {
   "cell_type": "code",
   "execution_count": 117,
   "id": "modified-motorcycle",
   "metadata": {},
   "outputs": [
    {
     "data": {
      "text/html": [
       "<div>\n",
       "<style scoped>\n",
       "    .dataframe tbody tr th:only-of-type {\n",
       "        vertical-align: middle;\n",
       "    }\n",
       "\n",
       "    .dataframe tbody tr th {\n",
       "        vertical-align: top;\n",
       "    }\n",
       "\n",
       "    .dataframe thead th {\n",
       "        text-align: right;\n",
       "    }\n",
       "</style>\n",
       "<table border=\"1\" class=\"dataframe\">\n",
       "  <thead>\n",
       "    <tr style=\"text-align: right;\">\n",
       "      <th></th>\n",
       "      <th>Insurance_company</th>\n",
       "      <th>Cost_of_vehicle</th>\n",
       "      <th>Min_coverage</th>\n",
       "      <th>Max_coverage</th>\n",
       "      <th>year</th>\n",
       "      <th>month</th>\n",
       "      <th>date</th>\n",
       "    </tr>\n",
       "  </thead>\n",
       "  <tbody>\n",
       "    <tr>\n",
       "      <th>0</th>\n",
       "      <td>B</td>\n",
       "      <td>23600</td>\n",
       "      <td>590.0</td>\n",
       "      <td>5978.0</td>\n",
       "      <td>2025</td>\n",
       "      <td>4</td>\n",
       "      <td>12</td>\n",
       "    </tr>\n",
       "    <tr>\n",
       "      <th>1</th>\n",
       "      <td>C</td>\n",
       "      <td>28300</td>\n",
       "      <td>707.5</td>\n",
       "      <td>7153.0</td>\n",
       "      <td>2028</td>\n",
       "      <td>8</td>\n",
       "      <td>24</td>\n",
       "    </tr>\n",
       "    <tr>\n",
       "      <th>2</th>\n",
       "      <td>AC</td>\n",
       "      <td>43700</td>\n",
       "      <td>1092.5</td>\n",
       "      <td>11003.0</td>\n",
       "      <td>2023</td>\n",
       "      <td>11</td>\n",
       "      <td>28</td>\n",
       "    </tr>\n",
       "    <tr>\n",
       "      <th>3</th>\n",
       "      <td>BB</td>\n",
       "      <td>46100</td>\n",
       "      <td>1152.5</td>\n",
       "      <td>11603.0</td>\n",
       "      <td>2028</td>\n",
       "      <td>2</td>\n",
       "      <td>4</td>\n",
       "    </tr>\n",
       "    <tr>\n",
       "      <th>4</th>\n",
       "      <td>BB</td>\n",
       "      <td>40700</td>\n",
       "      <td>1017.5</td>\n",
       "      <td>10253.0</td>\n",
       "      <td>2022</td>\n",
       "      <td>1</td>\n",
       "      <td>3</td>\n",
       "    </tr>\n",
       "  </tbody>\n",
       "</table>\n",
       "</div>"
      ],
      "text/plain": [
       "  Insurance_company  Cost_of_vehicle  Min_coverage  Max_coverage  year  month  \\\n",
       "0                 B            23600         590.0        5978.0  2025      4   \n",
       "1                 C            28300         707.5        7153.0  2028      8   \n",
       "2                AC            43700        1092.5       11003.0  2023     11   \n",
       "3                BB            46100        1152.5       11603.0  2028      2   \n",
       "4                BB            40700        1017.5       10253.0  2022      1   \n",
       "\n",
       "   date  \n",
       "0    12  \n",
       "1    24  \n",
       "2    28  \n",
       "3     4  \n",
       "4     3  "
      ]
     },
     "execution_count": 117,
     "metadata": {},
     "output_type": "execute_result"
    }
   ],
   "source": [
    "tt.drop([\"Expiry_date\" , \"Image_path\"] , axis = 1 , inplace = True)\n",
    "tt.head()"
   ]
  },
  {
   "cell_type": "code",
   "execution_count": 118,
   "id": "likely-prediction",
   "metadata": {},
   "outputs": [],
   "source": [
    "tt[\"Condition\"] = conditions"
   ]
  },
  {
   "cell_type": "code",
   "execution_count": 119,
   "id": "wrapped-miller",
   "metadata": {},
   "outputs": [
    {
     "data": {
      "text/plain": [
       "Insurance_company    0\n",
       "Cost_of_vehicle      0\n",
       "Min_coverage         0\n",
       "Max_coverage         0\n",
       "year                 0\n",
       "month                0\n",
       "date                 0\n",
       "Condition            0\n",
       "dtype: int64"
      ]
     },
     "execution_count": 119,
     "metadata": {},
     "output_type": "execute_result"
    }
   ],
   "source": [
    "tt.isna().sum()"
   ]
  },
  {
   "cell_type": "code",
   "execution_count": 120,
   "id": "unusual-variation",
   "metadata": {},
   "outputs": [
    {
     "data": {
      "text/html": [
       "<div>\n",
       "<style scoped>\n",
       "    .dataframe tbody tr th:only-of-type {\n",
       "        vertical-align: middle;\n",
       "    }\n",
       "\n",
       "    .dataframe tbody tr th {\n",
       "        vertical-align: top;\n",
       "    }\n",
       "\n",
       "    .dataframe thead th {\n",
       "        text-align: right;\n",
       "    }\n",
       "</style>\n",
       "<table border=\"1\" class=\"dataframe\">\n",
       "  <thead>\n",
       "    <tr style=\"text-align: right;\">\n",
       "      <th></th>\n",
       "      <th>Insurance_company</th>\n",
       "      <th>Cost_of_vehicle</th>\n",
       "      <th>Min_coverage</th>\n",
       "      <th>Max_coverage</th>\n",
       "      <th>year</th>\n",
       "      <th>month</th>\n",
       "      <th>date</th>\n",
       "      <th>Condition</th>\n",
       "    </tr>\n",
       "  </thead>\n",
       "  <tbody>\n",
       "    <tr>\n",
       "      <th>0</th>\n",
       "      <td>B</td>\n",
       "      <td>23600</td>\n",
       "      <td>590.0</td>\n",
       "      <td>5978.0</td>\n",
       "      <td>2025</td>\n",
       "      <td>4</td>\n",
       "      <td>12</td>\n",
       "      <td>1</td>\n",
       "    </tr>\n",
       "    <tr>\n",
       "      <th>1</th>\n",
       "      <td>C</td>\n",
       "      <td>28300</td>\n",
       "      <td>707.5</td>\n",
       "      <td>7153.0</td>\n",
       "      <td>2028</td>\n",
       "      <td>8</td>\n",
       "      <td>24</td>\n",
       "      <td>1</td>\n",
       "    </tr>\n",
       "    <tr>\n",
       "      <th>2</th>\n",
       "      <td>AC</td>\n",
       "      <td>43700</td>\n",
       "      <td>1092.5</td>\n",
       "      <td>11003.0</td>\n",
       "      <td>2023</td>\n",
       "      <td>11</td>\n",
       "      <td>28</td>\n",
       "      <td>1</td>\n",
       "    </tr>\n",
       "    <tr>\n",
       "      <th>3</th>\n",
       "      <td>BB</td>\n",
       "      <td>46100</td>\n",
       "      <td>1152.5</td>\n",
       "      <td>11603.0</td>\n",
       "      <td>2028</td>\n",
       "      <td>2</td>\n",
       "      <td>4</td>\n",
       "      <td>1</td>\n",
       "    </tr>\n",
       "    <tr>\n",
       "      <th>4</th>\n",
       "      <td>BB</td>\n",
       "      <td>40700</td>\n",
       "      <td>1017.5</td>\n",
       "      <td>10253.0</td>\n",
       "      <td>2022</td>\n",
       "      <td>1</td>\n",
       "      <td>3</td>\n",
       "      <td>1</td>\n",
       "    </tr>\n",
       "  </tbody>\n",
       "</table>\n",
       "</div>"
      ],
      "text/plain": [
       "  Insurance_company  Cost_of_vehicle  Min_coverage  Max_coverage  year  month  \\\n",
       "0                 B            23600         590.0        5978.0  2025      4   \n",
       "1                 C            28300         707.5        7153.0  2028      8   \n",
       "2                AC            43700        1092.5       11003.0  2023     11   \n",
       "3                BB            46100        1152.5       11603.0  2028      2   \n",
       "4                BB            40700        1017.5       10253.0  2022      1   \n",
       "\n",
       "   date  Condition  \n",
       "0    12          1  \n",
       "1    24          1  \n",
       "2    28          1  \n",
       "3     4          1  \n",
       "4     3          1  "
      ]
     },
     "execution_count": 120,
     "metadata": {},
     "output_type": "execute_result"
    }
   ],
   "source": [
    "tt.head()"
   ]
  },
  {
   "cell_type": "code",
   "execution_count": 121,
   "id": "exclusive-shoulder",
   "metadata": {},
   "outputs": [],
   "source": [
    "tt[\"Insurance_company\"] = lb.transform(tt[\"Insurance_company\"])\n",
    "tt[cols] = scaler.transform(tt[cols])"
   ]
  },
  {
   "cell_type": "code",
   "execution_count": 124,
   "id": "arabic-latitude",
   "metadata": {},
   "outputs": [
    {
     "data": {
      "text/html": [
       "<div>\n",
       "<style scoped>\n",
       "    .dataframe tbody tr th:only-of-type {\n",
       "        vertical-align: middle;\n",
       "    }\n",
       "\n",
       "    .dataframe tbody tr th {\n",
       "        vertical-align: top;\n",
       "    }\n",
       "\n",
       "    .dataframe thead th {\n",
       "        text-align: right;\n",
       "    }\n",
       "</style>\n",
       "<table border=\"1\" class=\"dataframe\">\n",
       "  <thead>\n",
       "    <tr style=\"text-align: right;\">\n",
       "      <th></th>\n",
       "      <th>Insurance_company</th>\n",
       "      <th>Cost_of_vehicle</th>\n",
       "      <th>Min_coverage</th>\n",
       "      <th>Max_coverage</th>\n",
       "      <th>Condition</th>\n",
       "      <th>year</th>\n",
       "      <th>month</th>\n",
       "      <th>date</th>\n",
       "    </tr>\n",
       "  </thead>\n",
       "  <tbody>\n",
       "    <tr>\n",
       "      <th>0</th>\n",
       "      <td>3</td>\n",
       "      <td>-1.620279</td>\n",
       "      <td>-1.620279</td>\n",
       "      <td>-0.748697</td>\n",
       "      <td>1</td>\n",
       "      <td>2025</td>\n",
       "      <td>4</td>\n",
       "      <td>12</td>\n",
       "    </tr>\n",
       "    <tr>\n",
       "      <th>1</th>\n",
       "      <td>7</td>\n",
       "      <td>-1.072547</td>\n",
       "      <td>-1.072547</td>\n",
       "      <td>-0.578596</td>\n",
       "      <td>1</td>\n",
       "      <td>2028</td>\n",
       "      <td>8</td>\n",
       "      <td>24</td>\n",
       "    </tr>\n",
       "    <tr>\n",
       "      <th>2</th>\n",
       "      <td>2</td>\n",
       "      <td>0.722148</td>\n",
       "      <td>0.722148</td>\n",
       "      <td>-0.021244</td>\n",
       "      <td>1</td>\n",
       "      <td>2023</td>\n",
       "      <td>11</td>\n",
       "      <td>28</td>\n",
       "    </tr>\n",
       "    <tr>\n",
       "      <th>3</th>\n",
       "      <td>4</td>\n",
       "      <td>1.001840</td>\n",
       "      <td>1.001840</td>\n",
       "      <td>0.065616</td>\n",
       "      <td>1</td>\n",
       "      <td>2028</td>\n",
       "      <td>2</td>\n",
       "      <td>4</td>\n",
       "    </tr>\n",
       "    <tr>\n",
       "      <th>4</th>\n",
       "      <td>4</td>\n",
       "      <td>0.372532</td>\n",
       "      <td>0.372532</td>\n",
       "      <td>-0.129819</td>\n",
       "      <td>1</td>\n",
       "      <td>2022</td>\n",
       "      <td>1</td>\n",
       "      <td>3</td>\n",
       "    </tr>\n",
       "  </tbody>\n",
       "</table>\n",
       "</div>"
      ],
      "text/plain": [
       "   Insurance_company  Cost_of_vehicle  Min_coverage  Max_coverage  Condition  \\\n",
       "0                  3        -1.620279     -1.620279     -0.748697          1   \n",
       "1                  7        -1.072547     -1.072547     -0.578596          1   \n",
       "2                  2         0.722148      0.722148     -0.021244          1   \n",
       "3                  4         1.001840      1.001840      0.065616          1   \n",
       "4                  4         0.372532      0.372532     -0.129819          1   \n",
       "\n",
       "   year  month  date  \n",
       "0  2025      4    12  \n",
       "1  2028      8    24  \n",
       "2  2023     11    28  \n",
       "3  2028      2     4  \n",
       "4  2022      1     3  "
      ]
     },
     "execution_count": 124,
     "metadata": {},
     "output_type": "execute_result"
    }
   ],
   "source": [
    "tt = tt[X_train.columns]\n",
    "tt.head()"
   ]
  },
  {
   "cell_type": "code",
   "execution_count": 125,
   "id": "becoming-royalty",
   "metadata": {},
   "outputs": [
    {
     "data": {
      "text/plain": [
       "array([ 3775.22      ,  4156.78      ,  4247.33      ,  2803.51      ,\n",
       "        4611.27      ,  4552.45      ,  3706.46      ,  4213.55      ,\n",
       "        3721.19      ,  5128.09      ,  2731.15      ,  6959.33      ,\n",
       "        4156.61      ,  4492.38      ,  6700.19      ,  5261.86      ,\n",
       "        3583.78      ,  4666.06      ,  3858.73      ,  2695.58      ,\n",
       "        4730.2       ,  4895.67      ,  3901.04      ,  4519.31      ,\n",
       "        2637.26      ,  5349.88      ,  2645.6       ,  4465.26      ,\n",
       "        3837.75      ,  5743.92      ,  4315.74      ,  4700.71      ,\n",
       "        3398.75      ,  4744.23      ,  4672.01      ,  3792.58      ,\n",
       "        4219.97      ,  3956.23      ,  3218.81      ,  3830.49      ,\n",
       "        2719.93      ,  5652.75      ,  3621.73      ,  3533.1       ,\n",
       "        5158.02      ,  4242.43      ,  4194.41      ,  3960.27      ,\n",
       "        1192.39      ,  5191.02      ,  3481.06      ,  3362.09      ,\n",
       "        3887.72      ,  4073.37      ,  4892.69      ,  3970.24      ,\n",
       "        4671.42      ,  4679.3       ,  4199.06      ,  4221.85      ,\n",
       "        5035.78      ,  2929.82      ,  4492.55      ,  3018.15      ,\n",
       "        3990.01      ,  3781.63      ,  3842.88      ,  4860.36      ,\n",
       "        4435.8       ,  4672.91      ,  4903.12      ,  5319.26      ,\n",
       "        4418.01      ,  3958.43      ,  4765.49      ,  5204.61      ,\n",
       "        3170.62      ,  5139.13      ,  4110.62      ,  3170.31      ,\n",
       "        5903.05      ,  3312.25      ,  6032.04      ,  4498.45      ,\n",
       "        3450.75      ,  3331.25      ,  2709.8       ,  3811.44      ,\n",
       "        4439.18      ,  2981.        ,  3756.08      ,  3066.82      ,\n",
       "        3676.1       ,  5713.41      ,  4377.72      ,  4669.02      ,\n",
       "        3622.66      ,  4785.8       ,  4375.42      ,  3033.63      ,\n",
       "        4245.2       ,  2872.98      ,  4176.7       ,  3800.45      ,\n",
       "        4241.66      ,  4406.22      ,  3595.92      ,  4987.41      ,\n",
       "        4007.23      ,  5493.54      ,  5276.75      ,  4616.32      ,\n",
       "        3888.13      ,  4900.75      ,  4018.17      ,  3873.3       ,\n",
       "        4023.57      ,  6331.05      ,  4934.78      ,  3111.66      ,\n",
       "        4787.72      ,  5121.76      ,  4210.48      ,  3847.26      ,\n",
       "        4493.21      ,  3160.04      ,  4493.88      ,  4102.6       ,\n",
       "        4935.15      ,  4207.53      ,  3355.67      ,  3525.79      ,\n",
       "        2985.57      ,  4175.96      ,  5710.02      ,  2433.15      ,\n",
       "        3381.36      ,  5699.66      ,  2310.12      ,  3597.65      ,\n",
       "        3932.52      ,  3131.45      ,  4371.8       ,  5915.88      ,\n",
       "        4814.29      ,  6614.86      ,  3677.83      ,  4576.46      ,\n",
       "        4903.36      ,  5207.37      ,  4412.56      ,  3991.31      ,\n",
       "        4538.73      ,  2495.21      ,  3960.57      ,  3530.1       ,\n",
       "        4416.42      ,  3931.48      ,  4555.81      ,  5654.87      ,\n",
       "        2471.88      ,  4340.05      ,  4402.6       ,  2228.        ,\n",
       "        6273.19      ,  2915.57      ,  3670.88      ,  3646.66      ,\n",
       "        3371.66      ,  5166.47      ,  4061.6       ,  3716.22      ,\n",
       "        5096.92      ,  4781.55      ,  2827.7       ,  3605.09      ,\n",
       "        5450.21      ,  4625.21      , 16838.3       ,  5300.21      ,\n",
       "        3465.68      ,  4662.26      ,  3986.69      ,  3638.19      ,\n",
       "        4285.07      ,  2321.89      ,  4689.12      ,  5790.25      ,\n",
       "        4404.16      ,  5772.09      ,  4018.49      ,  6019.75      ,\n",
       "        3155.51      ,  3866.05      ,  4471.14      ,  4491.19      ,\n",
       "        3607.03      ,  3631.43      ,  3864.22      ,  4839.99      ,\n",
       "        4490.64      ,  3870.31      ,  4012.91      ,  4103.26      ,\n",
       "        4608.5       ,  1900.49      ,  4677.72      ,  3276.42      ,\n",
       "        4640.06      ,  3974.94      ,  2865.11      ,  3743.83      ,\n",
       "        4817.46      ,  4361.18      ,  4218.87      ,  4610.21      ,\n",
       "        3421.06      ,  3295.32      ,  3369.83      ,  3615.56      ,\n",
       "        5004.49      ,  4666.97      ,  4032.23      ,  3833.88      ,\n",
       "        5648.06      ,  3028.42      ,  3833.32      ,  3822.34      ,\n",
       "        4612.74      ,  5026.88      ,  4165.63      ,  6016.39      ,\n",
       "        4783.55      ,  4840.12      ,  3378.59      ,  4250.44      ,\n",
       "        3378.94      ,  4792.87      ,  5726.87      ,  4071.71      ,\n",
       "        4284.12      ,  5750.66      , 12816.57      ,  4137.34      ,\n",
       "        4155.24      ,  3029.37      ,  3340.43      ,  4047.16      ,\n",
       "        3811.07      ,  3741.04      ,  5118.05      ,  4269.68      ,\n",
       "        4982.9       ,  4858.41      ,  2866.7       ,  4529.2       ,\n",
       "        3936.37      ,  3986.24      ,  4363.72      ,  5636.38      ,\n",
       "        3899.21      ,  4082.78      ,  4131.47      ,  4068.49      ,\n",
       "        4812.21      ,  4242.25      ,  4356.26      ,  2941.38      ,\n",
       "        3219.16      ,  4585.91      ,  5730.66      ,  3702.67      ,\n",
       "        4631.75      ,  3789.19      ,  4959.38      ,  4947.24      ,\n",
       "        4381.47      ,  4404.89      ,  3985.34      ,  4510.63      ,\n",
       "        6548.37      ,  4045.03      ,  4339.64      ,  4971.55      ,\n",
       "        5863.2       ,  5167.49      ,  3912.04      ,  4284.41      ,\n",
       "        3696.59      ,  3354.96      ,  3101.71      ,  2453.92      ,\n",
       "        3074.79      ,  5077.39      ,  3167.65      ,  3226.56      ,\n",
       "        3439.12      ,  3588.92      ,  3911.63      ,     0.        ,\n",
       "        3967.84      ,  4542.69      ,  4854.15      ,  2659.27      ,\n",
       "        4856.09      ,  4089.12      ,  3418.39      ,  4429.94      ,\n",
       "        3729.73      ,  4577.35      ,  4343.73      ,  4621.65      ,\n",
       "        3009.8       ,  6892.88      ,  4497.12      ,  4387.79      ,\n",
       "        4318.68      ,  4129.7       ,  5934.27      ,  3673.6       ,\n",
       "        5848.65      ,  3907.13      ,  2277.9       ,  3966.94      ,\n",
       "        3207.08      ,     0.        ,  4707.79      ,  3977.49      ,\n",
       "        4580.57      ,  3716.01      ,  4376.94      ,  4964.74      ,\n",
       "        3849.28      ,  5321.06      ,  5104.19      ,  4285.64      ,\n",
       "        4500.08      ,  4110.11      ,  3084.02      ,  4639.55      ,\n",
       "        4479.01      ,  4162.16      ,  4034.91      ,  4640.87      ,\n",
       "        3311.11      ,  5127.5       ,  3259.47      ,  5011.11      ,\n",
       "        3986.99      ,  4351.59      ,  3403.69      ,  3635.64      ,\n",
       "        3996.31      ,  5349.67      ,  4151.        ,  5541.69      ,\n",
       "        2588.08      ,  3812.19      ,  3307.13      ,  4270.23      ,\n",
       "        4800.55      ,  4902.53      ,  3423.        ,  3370.68      ,\n",
       "        6377.46      ,  4395.37      ,  4085.86      ,  4341.07      ,\n",
       "        2815.52      ,  3988.23      ,  3323.73      ,  2745.9       ,\n",
       "        4220.44      ,  4072.07      ,  3670.26      ,  3942.56      ,\n",
       "        4058.33      ,  3959.89      ,  5785.02      ,  2656.48      ,\n",
       "        4353.75      ,  3914.09      ,  2582.16      ,  3252.59      ,\n",
       "        3060.91      ,  4799.97      ,  3977.42      ,  4278.8       ,\n",
       "        4306.54      ,  4069.54      ,  5322.51      ,  4003.29      ,\n",
       "        5333.76      ,  4519.1       ,  3322.93      ,  6003.22      ,\n",
       "        4969.72      ,  3066.61      ,  3071.67      ,  4785.88      ,\n",
       "        3496.42      ,  4662.19      ,  4460.53      ,  3932.48      ,\n",
       "        5358.77      ,  4095.34      ,  3201.92      ,  3893.19      ,\n",
       "        4440.62      ,  4089.99      ,  3284.14      ,  2844.73      ,\n",
       "        3732.23      ,  4982.26      ,  4745.42      ,  3791.19      ,\n",
       "        4752.09      ,  4630.37      ,  4004.9       ,  7481.07      ,\n",
       "        4554.44      ,  4143.53      ,  3977.27      ,  3947.03      ,\n",
       "        4476.93      ,  4311.35      ,  2600.49666667,  4553.14      ,\n",
       "        3402.6       ,  4168.92      ,  3072.47      ,  4003.42      ,\n",
       "        4670.11      ,  3705.8       ,  4762.57      ,  3905.58      ,\n",
       "        2613.81      ,  4296.73      ,  4588.38      ,  3729.43      ,\n",
       "        3470.88      ,  3373.64      ,  1258.3       ,  4722.99      ,\n",
       "        4489.87      ,  2801.8       ,  5736.68      ,  4620.68      ,\n",
       "        3316.82      ,  4412.86      ,  4431.78      ,  4273.05      ,\n",
       "        3855.33      ,  4771.68      ,  5159.94      ,  4952.78      ,\n",
       "        5275.39      ,  6579.4       ,  3874.33      ,  4126.57      ,\n",
       "        5330.17      ,  3648.26      ,  3825.52      ,  3919.98      ,\n",
       "        4483.55      ,  4369.54      ,  3192.68      ,  3818.42      ,\n",
       "        5051.6       ,  3154.8       ,  3814.57      ,  3526.02      ,\n",
       "        4236.85      ,  4110.62      ,  6035.93      ,  4198.76      ,\n",
       "        6145.34      ,  3595.35      ,  2519.12      ,  4030.69      ,\n",
       "        3515.79      ,  3249.83      ,  3281.58      ,  3607.97      ,\n",
       "        3729.55      ,  6014.42      ,  4022.83      ,  3187.9       ,\n",
       "        4604.11      ,  3812.28      ,  5552.03      ,  3832.43      ,\n",
       "        4281.58      ,  5240.64      ,  4866.48      ,  4497.18      ,\n",
       "        2965.43      ,  1401.95      ,  4488.94      ,   657.38      ,\n",
       "        4522.63      ,  3602.38      ,  3956.86      ,  3993.64      ,\n",
       "        2853.86      ,  2628.23      ,  3689.81      ,  2630.75      ,\n",
       "        4377.39      ,  3602.3       ,  3560.95      ,  3306.23      ,\n",
       "        4245.95      ,  2528.3       ,  4385.88      ,  6240.63      ,\n",
       "        4589.65      ,  4247.74      ,  4517.32      ,  4787.1       ,\n",
       "        3572.87      ,  4867.89      ,  3784.67      ,  3581.41      ,\n",
       "        4391.9       ,  3698.42      ,  4976.69      ,  4632.19      ,\n",
       "        4508.81      ,  3791.73      ,  2897.54      ,  5656.63      ,\n",
       "        3350.74      ,  5760.2       ,  4487.85      ,  4480.17      ,\n",
       "        3818.45      ,  3521.49      ,  5766.36      ,  4059.46      ,\n",
       "        3969.52      ,  3528.33      ,  4428.34      ,  5889.95      ,\n",
       "        5750.51      ,  4474.44      ,  4841.44      ,  3840.93      ,\n",
       "        4624.81      ,  2976.53      ,  5031.04      ,  4410.42      ,\n",
       "        2804.11      ,  4404.29      ,  3421.03      ,  4525.5       ,\n",
       "        4203.54      ,  4177.32      ,  2393.75      ,  4505.58      ,\n",
       "        4922.58      ,  4418.3       ,  4855.44      ,  5647.12      ,\n",
       "        3719.71      ,  3565.66      ,  3791.12      ,  3887.07      ,\n",
       "        5242.89      ,  4722.29      ,  4486.76      ,  4718.89      ,\n",
       "        3292.43      ,  4312.72      ,  5270.13      ,  5280.41      ,\n",
       "        2925.78      ,  5108.36      ,  6032.66      ,  3010.5       ,\n",
       "        5502.16      ,  4507.1       ,  4838.99      ,  4384.79      ,\n",
       "        2816.19      ,  3517.99      ,  4460.66      ,  4525.15      ,\n",
       "        3867.68      ,  3103.23      ,  4961.74      ,  4539.3       ,\n",
       "        4459.24      ,  3600.47      ,  4963.2       ,  5626.26      ,\n",
       "        3315.21      ,  3423.30666667,  6279.67      ,  4543.39      ])"
      ]
     },
     "execution_count": 125,
     "metadata": {},
     "output_type": "execute_result"
    }
   ],
   "source": [
    "preds = random.predict(tt)\n",
    "preds"
   ]
  },
  {
   "cell_type": "code",
   "execution_count": null,
   "id": "noted-fitting",
   "metadata": {},
   "outputs": [],
   "source": []
  }
 ],
 "metadata": {
  "kernelspec": {
   "display_name": "Python 3",
   "language": "python",
   "name": "python3"
  },
  "language_info": {
   "codemirror_mode": {
    "name": "ipython",
    "version": 3
   },
   "file_extension": ".py",
   "mimetype": "text/x-python",
   "name": "python",
   "nbconvert_exporter": "python",
   "pygments_lexer": "ipython3",
   "version": "3.8.5"
  }
 },
 "nbformat": 4,
 "nbformat_minor": 5
}
